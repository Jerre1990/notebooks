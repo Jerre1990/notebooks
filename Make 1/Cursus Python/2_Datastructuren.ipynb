{
 "cells": [
  {
   "cell_type": "markdown",
   "source": [
    "# 1. Datastructuren\n",
    "Naast primitieve datatypes voorzien de meeste programmeertalen ook de mogelijkheid om data te aggregeren op een gestructureerde manier. In Python zijn de bekendste vormen hiervan een lijst, tuple en dictionary. Dit soort datastructuren noemt men vaak ook *collecties*. Wanneer een collectie een andere collectie van hetzelfde type bevat, spreekt men over een *geneste* lijst/tuple/dictionary."
   ],
   "metadata": {
    "collapsed": false
   }
  },
  {
   "cell_type": "markdown",
   "source": [
    "## 1.1. Lijst\n",
    "Een lijst is een geordende verzameling van waarden die niet noodzakelijk van hetzelfde type hoeven te zijn."
   ],
   "metadata": {
    "collapsed": false
   }
  },
  {
   "cell_type": "code",
   "execution_count": 7,
   "outputs": [],
   "source": [
    "myEmptyList = []\n",
    "myIntList = [1, 3, 5, 7]\n",
    "myStrList = ['one', 'three', 'five', 'seven']\n",
    "myFloatList = [4.3, 9.7, 3.0]\n",
    "myMixedList = [False, 'Hi there', 8, 2.34, None, [1, 'Yes', True, 8.8]]"
   ],
   "metadata": {
    "collapsed": false,
    "pycharm": {
     "name": "#%%\n"
    }
   }
  },
  {
   "cell_type": "markdown",
   "source": [
    "Indexering is een techniek waarbij je slechts een deel van een lijst opvraagt op basis van een index. Let er echter steeds op dat indexen in Python (evenals de meeste programmeertalen) beginnen bij 0 en niet bij 1. Een tweede aandachtspunt is dat bij deellijsten het eerste argument een index voorstelt die deel uitmaakt van de deellijst (i.e. het eerste element), daar waar de tweede index net geen deel meer uitmaakt van de deellijst."
   ],
   "metadata": {
    "collapsed": false
   }
  },
  {
   "cell_type": "code",
   "execution_count": 8,
   "outputs": [
    {
     "name": "stdout",
     "output_type": "stream",
     "text": [
      "First: one\n",
      "Second: three\n",
      "Last: seven\n",
      "Second to last: five\n",
      "Sublist (second, third and fourth): ['three', 'five', 'seven']\n"
     ]
    }
   ],
   "source": [
    "myList = ['one', 'three', 'five', 'seven']\n",
    "print('First: ' + myList[0])\n",
    "print('Second: ' + myList[1])\n",
    "print('Last: ' + myList[-1])\n",
    "print('Second to last: ' + myList[-2])\n",
    "print('Sublist (second, third and fourth): ' + str(myList[1:4]))"
   ],
   "metadata": {
    "collapsed": false,
    "pycharm": {
     "name": "#%%\n"
    }
   }
  },
  {
   "cell_type": "markdown",
   "source": [
    "In de laatste regel maken we gebruik van de *str()* functie, die haar input omvormt naar een waarde van het type *string*."
   ],
   "metadata": {
    "collapsed": false
   }
  },
  {
   "cell_type": "markdown",
   "source": [
    "Naast indexeren, kunnen we nog een hele reeks andere operaties uitvoeren op lijsten:"
   ],
   "metadata": {
    "collapsed": false
   }
  },
  {
   "cell_type": "code",
   "execution_count": 9,
   "outputs": [
    {
     "name": "stdout",
     "output_type": "stream",
     "text": [
      "[1, 2, 4, 5]\n",
      "[1, 2, 4, 5, 6]\n",
      "[1, 2, 3, 4, 5, 6]\n",
      "[1, 3, 4, 5, 6]\n"
     ]
    }
   ],
   "source": [
    "myList = [1, 2, 4, 5] # originele lijst\n",
    "print(myList)\n",
    "\n",
    "myList.append(6) # element 6 achteraan toevoegen\n",
    "print(myList)\n",
    "\n",
    "myList.insert(2, 3) # element 3 toevoegen op positie met index 2\n",
    "print(myList)\n",
    "\n",
    "del myList[1] # element met index 1 verwijderen\n",
    "print(myList)"
   ],
   "metadata": {
    "collapsed": false,
    "pycharm": {
     "name": "#%%\n"
    }
   }
  },
  {
   "cell_type": "markdown",
   "source": [
    "## 1.2. Tuple\n",
    "Een tuple is een geordende verzameling van waarden die niet noodzakelijk van hetzelfde type hoeven te zijn, net als een lijst. Het grote verschil is dat een lijst aangepast kan worden en een tuple niet: zodra een tuple is aangemaakt, kan die niet meer gewijzigd worden."
   ],
   "metadata": {
    "collapsed": false
   }
  },
  {
   "cell_type": "code",
   "execution_count": 10,
   "outputs": [
    {
     "name": "stdout",
     "output_type": "stream",
     "text": [
      "1\n"
     ]
    }
   ],
   "source": [
    "myTuple = 1, 2, 3, 4\n",
    "myTupleWithBrackets = (1, 2, 3, 4) # je kan een tuple ook aanmaken met haakjes rond, maar dat hoeft niet\n",
    "print(myTuple[0]) # eerste element"
   ],
   "metadata": {
    "collapsed": false,
    "pycharm": {
     "name": "#%%\n"
    }
   }
  },
  {
   "cell_type": "markdown",
   "source": [
    "## 1.3. Dictionary\n",
    "Een dictionary is een verzameling van sleutel-waarde paren die opnieuw niet noodzakelijk van hetzelfde type hoeven te zijn."
   ],
   "metadata": {
    "collapsed": false
   }
  },
  {
   "cell_type": "code",
   "execution_count": 11,
   "outputs": [
    {
     "name": "stdout",
     "output_type": "stream",
     "text": [
      "Hi there\n",
      "{1.1: 'Hi there', True: 4, 'additional': 55}\n",
      "{1.1: 'Hi there', True: False, 'additional': 55}\n",
      "{True: False, 'additional': 55}\n"
     ]
    }
   ],
   "source": [
    "myEmptyDict = {}\n",
    "myStrIntDict = {'one': 1, 'two': 2, 'three': 3}\n",
    "myIntStrDict = {1: 'one', 2: 'two', 3: 'three'}\n",
    "myMixedDict = {1.1: 'Hi there', True: 4}\n",
    "myNestedDict = {'dict1': myStrIntDict, 'dict2': myIntStrDict, 'dict3': myMixedDict}\n",
    "\n",
    "print(myMixedDict[1.1]) # waarde met sleutel 1.1\n",
    "myMixedDict['additional'] = 55 # waarde 55 toevoegen met sleutel 'additional'\n",
    "print(myMixedDict)\n",
    "myMixedDict[True] = False # waarde 4 vervangen door waarde False voor sleutel True\n",
    "print(myMixedDict)\n",
    "del myMixedDict[1.1] # sleutel 1.1 met bijhorende waarde verwijderen\n",
    "print(myMixedDict)"
   ],
   "metadata": {
    "collapsed": false,
    "pycharm": {
     "name": "#%%\n"
    }
   }
  },
  {
   "cell_type": "markdown",
   "source": [
    "# 2. Varia"
   ],
   "metadata": {
    "collapsed": false
   }
  },
  {
   "cell_type": "markdown",
   "source": [
    "## 2.1. Unpacking\n",
    "In Python is het mogelijk om volledige datastructuren rechtstreeks *uit te pakken* in kleinere delen:"
   ],
   "metadata": {
    "collapsed": false
   }
  },
  {
   "cell_type": "code",
   "execution_count": 12,
   "outputs": [
    {
     "name": "stdout",
     "output_type": "stream",
     "text": [
      "Lijst [1, 2, 3, 4] bevat volgende elementen: 1, 2, 3, 4\n",
      "Tuple (1, 2, 3, 4) bevat volgende elementen: 1, 2, 3, 4\n",
      "Dict {'one': 1, 'two': 2, 'three': 3} bevat volgende sleutels: one, two, three\n",
      "Dict {'one': 1, 'two': 2, 'three': 3} bevat volgende waarden: 1, 2, 3\n",
      "Dict {'one': 1, 'two': 2, 'three': 3} bevat volgende sleutel-waarde paren (i.e. items): ('one', 1), ('two', 2), ('three', 3)\n"
     ]
    }
   ],
   "source": [
    "myList = [1, 2, 3, 4]\n",
    "[one, two, three, four] = myList\n",
    "print('Lijst ' + str(myList) + ' bevat volgende elementen: ' + str(one) + ', ' + str(two) + ', ' + str(three) + ', ' + str(four))\n",
    "\n",
    "myTuple = (1, 2, 3, 4)\n",
    "one, two, three, four = myTuple\n",
    "print('Tuple ' + str(myTuple) + ' bevat volgende elementen: ' + str(one) + ', ' + str(two) + ', ' + str(three) + ', ' + str(four))\n",
    "\n",
    "myDict = {'one': 1, 'two': 2, 'three': 3}\n",
    "one, two, three = myDict\n",
    "print('Dict ' + str(myDict) + ' bevat volgende sleutels: ' + str(one) + ', ' + str(two) + ', ' + str(three))\n",
    "one, two, three = myDict.values()\n",
    "print('Dict ' + str(myDict) + ' bevat volgende waarden: ' + str(one) + ', ' + str(two) + ', ' + str(three))\n",
    "one, two, three = myDict.items()\n",
    "print('Dict ' + str(myDict) + ' bevat volgende sleutel-waarde paren (i.e. items): ' + str(one) + ', ' + str(two) + ', ' + str(three))"
   ],
   "metadata": {
    "collapsed": false,
    "pycharm": {
     "name": "#%%\n"
    }
   }
  },
  {
   "cell_type": "markdown",
   "source": [
    "## 2.2. Het *in* sleutelwoord\n",
    "Door gebruik te maken van het *in* sleutelwoord wordt het mogelijk om te testen of een bepaald element deel uitmaakt van een collectie."
   ],
   "metadata": {
    "collapsed": false
   }
  },
  {
   "cell_type": "code",
   "execution_count": 21,
   "outputs": [
    {
     "name": "stdout",
     "output_type": "stream",
     "text": [
      "True\n",
      "False\n",
      "True\n",
      "False\n",
      "True\n",
      "False\n",
      "True\n",
      "False\n",
      "True\n",
      "False\n"
     ]
    }
   ],
   "source": [
    "list = ['apple', 'pear', 'peach']\n",
    "print('apple' in list)\n",
    "print('banana' in list)\n",
    "\n",
    "tuple = (1, 2, 3)\n",
    "print(1 in tuple)\n",
    "print(0 in tuple)\n",
    "\n",
    "dict = {1: 'one', 2: 'two'}\n",
    "print((1, 'one') in dict.items())\n",
    "print((0, 'zero') in dict.items())\n",
    "print(1 in dict)\n",
    "print(0 in dict)\n",
    "print('one' in dict.values())\n",
    "print('zero' in dict.values())"
   ],
   "metadata": {
    "collapsed": false,
    "pycharm": {
     "name": "#%%\n"
    }
   }
  },
  {
   "cell_type": "markdown",
   "source": [
    "## 2.3. Strings\n",
    "Hierboven zagen we reeds meermaals hoe verschillende waarden van het type *string* gecombineerd kunnen worden tot één grote *string* door middel van een *+* teken. Wanneer we ditzelfde proberen te bereiken met waarden van een ander type, lopen we echter tegen een probleem aan:"
   ],
   "metadata": {
    "collapsed": false
   }
  },
  {
   "cell_type": "code",
   "execution_count": 13,
   "outputs": [
    {
     "ename": "TypeError",
     "evalue": "can only concatenate str (not \"int\") to str",
     "output_type": "error",
     "traceback": [
      "\u001B[1;31m---------------------------------------------------------------------------\u001B[0m",
      "\u001B[1;31mTypeError\u001B[0m                                 Traceback (most recent call last)",
      "\u001B[1;32m<ipython-input-13-76072e626026>\u001B[0m in \u001B[0;36m<module>\u001B[1;34m\u001B[0m\n\u001B[1;32m----> 1\u001B[1;33m \u001B[0mprint\u001B[0m\u001B[1;33m(\u001B[0m\u001B[1;34m'Dit is een getal: '\u001B[0m \u001B[1;33m+\u001B[0m \u001B[1;36m5\u001B[0m\u001B[1;33m)\u001B[0m\u001B[1;33m\u001B[0m\u001B[1;33m\u001B[0m\u001B[0m\n\u001B[0m",
      "\u001B[1;31mTypeError\u001B[0m: can only concatenate str (not \"int\") to str"
     ]
    }
   ],
   "source": [
    "print('Dit is een getal: ' + 5)"
   ],
   "metadata": {
    "collapsed": false,
    "pycharm": {
     "name": "#%%\n"
    }
   }
  },
  {
   "cell_type": "markdown",
   "source": [
    "Wanneer we een *string* opbouwen met onderdelen die al dan niet zelf van het type *string* zijn, kunnen we dit ook doen aan de hand van een *f-string*. Dit is een string, voorafgegaan door de letter *f*, waarin alle uitdrukkingen (i.e. *expressies*) tussen accolades uitgevoerd (i.e. *geëvalueerd*) worden en vervangen worden door hun respectievelijke output."
   ],
   "metadata": {
    "collapsed": false
   }
  },
  {
   "cell_type": "code",
   "execution_count": null,
   "outputs": [],
   "source": [
    "print(f'Een f-string kan alle soorten waarden voorstellen: {True}, {4}, {2.3}')\n",
    "toPrint1 = 4\n",
    "toPrint2 = 5.6\n",
    "print(f'Een f-string kan zelfs variabelen voorstellen: {toPrint1}, {toPrint2}')"
   ],
   "metadata": {
    "collapsed": false,
    "pycharm": {
     "name": "#%%\n"
    }
   }
  },
  {
   "cell_type": "markdown",
   "source": [
    "Een laatste mysterie dat nu nog dient ontrafeld te worden, is het printen van quotes. In veel gevallen kan dit probleem omzeild worden door je string te omsluiten door het andere type van quotes:"
   ],
   "metadata": {
    "collapsed": false
   }
  },
  {
   "cell_type": "code",
   "execution_count": null,
   "outputs": [],
   "source": [
    "print('Dit is \"een string\"')\n",
    "print(\"Dit is ook 'een string'\")"
   ],
   "metadata": {
    "collapsed": false,
    "pycharm": {
     "name": "#%%\n"
    }
   }
  },
  {
   "cell_type": "markdown",
   "source": [
    "Een nieuw probleem stelt zich echter wanneer je binnen één string beide types quotes wil gebruiken:"
   ],
   "metadata": {
    "collapsed": false
   }
  },
  {
   "cell_type": "code",
   "execution_count": null,
   "outputs": [],
   "source": [
    "print('Dit is \"een string\" en dit is ook 'een string'')"
   ],
   "metadata": {
    "collapsed": false,
    "pycharm": {
     "name": "#%%\n"
    }
   }
  },
  {
   "cell_type": "markdown",
   "source": [
    "We kunnen dit oplossen door gebruik te maken van een *escape karakter*. Dit is een speciaal karakter dat ervoor zorgt dat het volgende karakter niet volgens de gebruikelijke regels geëvalueerd wordt. In geval van *strings* is de *\\\\* (i.e. *backslash*) het *escape karakter* bij uitstek. Hieronder wordt het karakter na de *backslash* telkens als een letterlijke quote geëvalueerd en niet als het begin en/of einde van een string."
   ],
   "metadata": {
    "collapsed": false
   }
  },
  {
   "cell_type": "code",
   "execution_count": null,
   "outputs": [],
   "source": [
    "print('Dit is \"een string\" en dit is ook \\'een string\\'')\n",
    "print(\"Dit is \\\"een string\\\" en dit is ook 'een string'\")"
   ],
   "metadata": {
    "collapsed": false,
    "pycharm": {
     "name": "#%%\n"
    }
   }
  },
  {
   "cell_type": "markdown",
   "source": [
    "We kunnen ook letters laten voorafgaan door een *escape karakter*, in dat geval krijgen die eveneens een speciale betekenis. Een *\\n* betekent bijvoorbeeld dat er op die plaats een nieuwe lijn wordt ingevoerd."
   ],
   "metadata": {
    "collapsed": false
   }
  },
  {
   "cell_type": "code",
   "execution_count": null,
   "outputs": [],
   "source": [
    "print('First line\\nSecond line\\nThird line')"
   ],
   "metadata": {
    "collapsed": false,
    "pycharm": {
     "name": "#%%\n"
    }
   }
  },
  {
   "cell_type": "markdown",
   "source": [],
   "metadata": {
    "collapsed": false
   }
  },
  {
   "cell_type": "markdown",
   "source": [
    "## 3.1. Boodschappen\n",
    "1. Stel een boodschappenlijstje op van maximaal 5 items en gebruik hiervoor een lijst. Sla de lijst tijdelijk op in een variabele.\n",
    "2. Maak een nieuwe variabele aan met daarin een tuple. De tuple bevat dezelfde boodschappen als de lijst van hierboven.\n",
    "3. Maak een nieuwe variabele aan met daarin een dictionary. De dictionary bevat eveneens al deze boodschappen en deelt ze bovendien op in categorieën (vb. hamburger => vleeswaren, worst => vleeswaren, melk => zuivelproducten, ...). Gebruik als sleutel het item in de boodschappenlijst en als waarde de bijhorende categorie.\n",
    "4. Print nu voor elk van bovenstaande datastructuren de inhoud uit. Gebruik f-strings om dit overzichtelijk te houden.\n",
    "5. Controleer of je lijst het item *banaan* bevat en print het resultaat van deze controle."
   ],
   "metadata": {
    "collapsed": false
   }
  },
  {
   "cell_type": "code",
   "execution_count": null,
   "outputs": [],
   "source": [],
   "metadata": {
    "collapsed": false,
    "pycharm": {
     "name": "#%%\n"
    }
   }
  },
  {
   "cell_type": "markdown",
   "source": [
    "Bronnen:\n",
    "- [WikiBooks](https://nl.wikibooks.org/wiki/Programmeren_in_Python)"
   ],
   "metadata": {
    "collapsed": false
   }
  }
 ],
 "metadata": {
  "kernelspec": {
   "display_name": "Python 3",
   "language": "python",
   "name": "python3"
  },
  "language_info": {
   "codemirror_mode": {
    "name": "ipython",
    "version": 3
   },
   "file_extension": ".py",
   "mimetype": "text/x-python",
   "name": "python",
   "nbconvert_exporter": "python",
   "pygments_lexer": "ipython3",
   "version": "3.8.5"
  }
 },
 "nbformat": 4,
 "nbformat_minor": 1
}