{
 "cells": [
  {
   "cell_type": "markdown",
   "source": [
    "# 1. Externe bibliotheken\n",
    "Als programmeur moeten we soms code schrijven om problemen op te lossen die vaak voorkomen. Wanneer die problemen niet alleen bij jou opduiken, maar ook in de rest van de wereld, is de kans groot dat een andere programmeur je voor was om hier een stukje code voor te schrijven. In dat geval gaan we op zoek naar een bibliotheek waar deze code in vervat zit. Om ze effectief te kunnen gebruiken in ons programma importeren we ze via het *import* commando."
   ],
   "metadata": {
    "collapsed": false
   }
  },
  {
   "cell_type": "code",
   "execution_count": 1,
   "outputs": [
    {
     "name": "stdout",
     "output_type": "stream",
     "text": [
      "2.0\n"
     ]
    }
   ],
   "source": [
    "import math\n",
    "\n",
    "print(math.sqrt(4))"
   ],
   "metadata": {
    "collapsed": false,
    "pycharm": {
     "name": "#%%\n"
    }
   }
  },
  {
   "cell_type": "markdown",
   "source": [
    "Een bibliotheek is een verzameling van functies, variabelen en klassen (hier komen we later in de cursus op terug) die reeds geïmplementeerd werden. Het toepassingsgebied van deze elementen beperkt zich meestal tot één domein: de *math* bibliotheek bevat bijvoorbeeld allerlei hulpmiddelen om wiskundige berekeningen uit te voeren. Wanneer je zo'n bibliotheek importeert, maak je het mogelijk voor jouw programma om de aangeboden elementen in die bibliotheek te hergebruiken. Hierboven gebruiken we de *math* bibliotheek om de *sqrt()* functie op te roepen met als argument het getal 4. Dit komt erop neer dat we de vierkantswortel van 4 berekenen."
   ],
   "metadata": {
    "collapsed": false
   }
  },
  {
   "cell_type": "markdown",
   "source": [
    "Vaak schrijven we de naam van de bibliotheek voluit doorheen heel ons programma, zoals in het voorbeeld hierboven. Het is echter ook mogelijk om de bibliotheek af te korten, wat het makkelijker maakt om er nadien naar te verwijzen."
   ],
   "metadata": {
    "collapsed": false
   }
  },
  {
   "cell_type": "code",
   "execution_count": 2,
   "outputs": [
    {
     "name": "stdout",
     "output_type": "stream",
     "text": [
      "4.0\n"
     ]
    }
   ],
   "source": [
    "import math as m\n",
    "\n",
    "print(m.sqrt(9))"
   ],
   "metadata": {
    "collapsed": false,
    "pycharm": {
     "name": "#%%\n"
    }
   }
  },
  {
   "cell_type": "markdown",
   "source": [
    "Om een element uit een geïmporteerde bibliotheek effectief te gebruiken in ons programma, schreven we tot nu toe steeds de (al dan niet verkorte) naam van de bibliotheek, gevolgd door een punt en de naam van het element. We kunnen er echter ook voor kiezen om enkel dat element rechtstreeks te importeren in ons programma. In dat geval kunnen we de overige elementen van de bibliotheek niet gebruiken, maar dit stelt ons wel in staat om het geïmporteerde element rechtstreeks aan te roepen in ons programma."
   ],
   "metadata": {
    "collapsed": false
   }
  },
  {
   "cell_type": "code",
   "execution_count": null,
   "outputs": [],
   "source": [
    "from math import sqrt\n",
    "\n",
    "print(sqrt(16))"
   ],
   "metadata": {
    "collapsed": false,
    "pycharm": {
     "name": "#%%\n"
    }
   }
  },
  {
   "cell_type": "markdown",
   "source": [
    "Op die manier kunnen we ook meerdere elementen tegelijk op één lijn importeren."
   ],
   "metadata": {
    "collapsed": false
   }
  },
  {
   "cell_type": "code",
   "execution_count": 4,
   "outputs": [
    {
     "name": "stdout",
     "output_type": "stream",
     "text": [
      "1.0\n",
      "-1.0\n"
     ]
    }
   ],
   "source": [
    "from math import pi, sin, cos\n",
    "\n",
    "print(sin(pi/2))\n",
    "print(cos(pi))"
   ],
   "metadata": {
    "collapsed": false,
    "pycharm": {
     "name": "#%%\n"
    }
   }
  },
  {
   "cell_type": "markdown",
   "source": [
    "Datzelfde principe kunnen we overigens ook toepassen op meerdere bibliotheken."
   ],
   "metadata": {
    "collapsed": false
   }
  },
  {
   "cell_type": "code",
   "execution_count": 25,
   "outputs": [
    {
     "name": "stdout",
     "output_type": "stream",
     "text": [
      "The square root of 64 is 8.0\n"
     ]
    }
   ],
   "source": [
    "import math, random\n",
    "\n",
    "numbers = [1, 4, 9, 16, 25, 36, 49, 64, 81, 100]\n",
    "index = random.randint(0, 9)\n",
    "number = numbers[index]\n",
    "\n",
    "print(f'The square root of {number} is {math.sqrt(number)}')"
   ],
   "metadata": {
    "collapsed": false,
    "pycharm": {
     "name": "#%%\n"
    }
   }
  },
  {
   "cell_type": "markdown",
   "source": [
    "# 1.1. Documentatie\n",
    "Niets is zo vervelend als een functie die exact doet wat je nodig hebt, maar waarvan je geen idee hebt hoe ze te gebruiken. Om die reden gaan bibliotheken dan ook bijna altijd vergezeld van documentatie: een beknopte beschrijving van wat de onderliggende code exact doet en hoe de verschillende elementen precies gebruikt kunnen worden. Voor de *math* en *random* bibliotheken vinden we die documentatie respectievelijk [hier](https://docs.python.org/3.8/library/math.html) en [hier](https://docs.python.org/3.8/library/random.html) terug."
   ],
   "metadata": {
    "collapsed": false
   }
  },
  {
   "cell_type": "markdown",
   "source": [
    "# 2. Interne bibliotheken\n",
    "Naast bibliotheken van het internet te plukken, kan je er ook voor kiezen om ze zelf te schrijven. Dat klinkt moeilijker dan het effectief is. Je hoeft er namelijk geen extra zaken voor te implementeren: alle variabelen, functies en klassen (zie later) die je in één bestand geschreven hebt, kan je met één commando importeren in een ander bestand en daar verder gebruiken. Het geïmporteerde bestand noemen we ook wel een *module*."
   ],
   "metadata": {
    "collapsed": false
   }
  },
  {
   "cell_type": "code",
   "execution_count": null,
   "outputs": [],
   "source": [
    "# bestand1.py\n",
    "\n",
    "PI = 3.14\n",
    "\n",
    "def som(num1, num2):\n",
    "    return num1 + num2"
   ],
   "metadata": {
    "collapsed": false,
    "pycharm": {
     "name": "#%%\n"
    }
   }
  },
  {
   "cell_type": "code",
   "execution_count": 4,
   "outputs": [
    {
     "data": {
      "text/plain": "-20"
     },
     "execution_count": 4,
     "metadata": {},
     "output_type": "execute_result"
    }
   ],
   "source": [
    "# bestand2.py\n",
    "\n",
    "import bestand1\n",
    "\n",
    "def omtrek(straal):\n",
    "    2 * straal * bestand1.PI\n",
    "\n",
    "def vermenigvuldiging(num1, num2):\n",
    "    result = 0\n",
    "    for i in range(0, abs(num2)):\n",
    "        result = bestand1.som(result, num1)\n",
    "    if num2 >= 0:\n",
    "        return result\n",
    "    else:\n",
    "        return -result\n",
    "\n",
    "vermenigvuldiging(5, 4)"
   ],
   "metadata": {
    "collapsed": false,
    "pycharm": {
     "name": "#%%\n"
    }
   }
  },
  {
   "cell_type": "markdown",
   "source": [
    "Net zoals bij het gebruik van externe bibliotheken het geval is, kunnen we ook uit interne bibliotheken bepaalde elementen expliciet importeren:"
   ],
   "metadata": {
    "collapsed": false
   }
  },
  {
   "cell_type": "code",
   "execution_count": 5,
   "outputs": [
    {
     "data": {
      "text/plain": "5.140000000000001"
     },
     "execution_count": 5,
     "metadata": {},
     "output_type": "execute_result"
    }
   ],
   "source": [
    "# bestand3.py\n",
    "\n",
    "from bestand1 import PI, som\n",
    "\n",
    "som(2, PI)"
   ],
   "metadata": {
    "collapsed": false,
    "pycharm": {
     "name": "#%%\n"
    }
   }
  },
  {
   "cell_type": "markdown",
   "source": [
    "# 2.1. Hoofdprogramma\n",
    "Zodra we alle code in een bepaald bestand geschreven hebben, kunnen we dit bestand uitvoeren als een Python script. Dit proces voert elke regel code uit die in het bestand beschreven staat. Niets houdt ons echter tegen om ook modules uit te voeren als scripts, aangezien die dezelfde soorten programmacode als ons hoofdprogramma kunnen bevatten.\n",
    "Om die reden wordt vaak gebruik gemaakt van een extra trucje: we controleren of de waarde van de variabele *\\_\\_name\\_\\_* gelijk is aan *\\_\\_main\\_\\_*. De Python omgeving vult de waarde van deze variabele telkens automatisch in: in het geval van het hoofdprogramma (i.e. script) krijgt de variabele de waarde *\\_\\_main\\_\\_* en wanneer het om een module gaat, wordt de waarde van deze variabele gelijkgesteld aan de naam van deze module (i.e. de bestandsnaam)."
   ],
   "metadata": {
    "collapsed": false
   }
  },
  {
   "cell_type": "code",
   "execution_count": 3,
   "outputs": [
    {
     "name": "stdout",
     "output_type": "stream",
     "text": [
      "We bevinden ons in het hoofdprogramma!\n"
     ]
    }
   ],
   "source": [
    "def main():\n",
    "    print(\"We bevinden ons in het hoofdprogramma!\")\n",
    "\n",
    "if __name__ == \"__main__\":\n",
    "    main()"
   ],
   "metadata": {
    "collapsed": false,
    "pycharm": {
     "name": "#%%\n"
    }
   }
  },
  {
   "cell_type": "markdown",
   "source": [
    "# 3. Varia"
   ],
   "metadata": {
    "collapsed": false
   }
  },
  {
   "cell_type": "markdown",
   "source": [
    "## 3.1. Ingebouwde functies\n",
    "Om een stukje code te kunnen gebruiken dat iemand anders reeds geschreven heeft, hoeven we niet altijd een bibliotheek te importeren. Python voorziet namelijk uit zichzelf een hele reeks ingebouwde functies. Enkele daarvan hebben we reeds eerder in de cursus gezien: *print()*, *type()*, *str()* en *range()*. Het gebruik van enkele andere bekende ingebouwde functies wordt hieronder kort geïllustreerd, de overige kan je [hier](https://docs.python.org/3/library/functions.html) terugvinden."
   ],
   "metadata": {
    "collapsed": false
   }
  },
  {
   "cell_type": "code",
   "execution_count": 30,
   "outputs": [
    {
     "name": "stdout",
     "output_type": "stream",
     "text": [
      "De lijst [6, -5, -10, -3] bevat 4 elementen\n",
      "Absolute value of 6 is 6\n",
      "Absolute value of -5 is 5\n",
      "Absolute value of -10 is 10\n",
      "Absolute value of -3 is 3\n",
      "Max: 6\n",
      "Min: -10\n"
     ]
    }
   ],
   "source": [
    "import random as r\n",
    "\n",
    "numbers = r.sample(range(-10, 11), 4)\n",
    "\n",
    "print(f'De lijst {numbers} bevat {len(numbers)} elementen')\n",
    "\n",
    "for number in numbers:\n",
    "    print(f'Absolute value of {number} is {abs(number)}')\n",
    "\n",
    "print(f'Max: {max(numbers)}')\n",
    "\n",
    "print(f'Min: {min(numbers)}')"
   ],
   "metadata": {
    "collapsed": false,
    "pycharm": {
     "name": "#%%\n"
    }
   }
  },
  {
   "cell_type": "markdown",
   "source": [
    "# 3. Oefeningen"
   ],
   "metadata": {
    "collapsed": false
   }
  },
  {
   "cell_type": "markdown",
   "source": [
    "## 3.1. Willekeurige waarden\n",
    "Maak gebruik van de *random* bibliotheek om 10 willekeurige getallen te printen die allemaal deelbaar zijn door 5."
   ],
   "metadata": {
    "collapsed": false
   }
  },
  {
   "cell_type": "code",
   "execution_count": 41,
   "outputs": [],
   "source": [],
   "metadata": {
    "collapsed": false,
    "pycharm": {
     "name": "#%%\n"
    }
   }
  },
  {
   "cell_type": "markdown",
   "source": [
    "## 3.2. Statistiek\n",
    "Maak gebruik van de *statistics* bibliotheek om het gemiddelde, de mediaan en de standaardafwijking van een willekeurige lijst getallen te berekenen."
   ],
   "metadata": {
    "collapsed": false
   }
  },
  {
   "cell_type": "code",
   "execution_count": 41,
   "outputs": [],
   "source": [
    "def mean(data):\n",
    "    pass\n",
    "\n",
    "def median(data):\n",
    "    pass\n",
    "\n",
    "def std(data):\n",
    "    pass"
   ],
   "metadata": {
    "collapsed": false,
    "pycharm": {
     "name": "#%%\n"
    }
   }
  }
 ],
 "metadata": {
  "kernelspec": {
   "display_name": "Python 3",
   "language": "python",
   "name": "python3"
  },
  "language_info": {
   "codemirror_mode": {
    "name": "ipython",
    "version": 2
   },
   "file_extension": ".py",
   "mimetype": "text/x-python",
   "name": "python",
   "nbconvert_exporter": "python",
   "pygments_lexer": "ipython2",
   "version": "2.7.6"
  }
 },
 "nbformat": 4,
 "nbformat_minor": 0
}