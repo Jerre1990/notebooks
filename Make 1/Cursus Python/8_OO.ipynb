{
 "cells": [
  {
   "cell_type": "markdown",
   "source": [
    "# 1. Objectgeoriënteerd programmeren\n",
    "Tot nu toe zijn we in onze programma's steeds procedureel te werk gegaan: de code wordt van boven naar beneden geëvalueerd met hier en daar een omweggetje langs een functie."
   ],
   "metadata": {
    "collapsed": false,
    "pycharm": {
     "name": "#%% md\n"
    }
   }
  },
  {
   "cell_type": "markdown",
   "source": [
    "# 2. Klassen"
   ],
   "metadata": {
    "collapsed": false
   }
  }
 ],
 "metadata": {
  "kernelspec": {
   "display_name": "Python 3",
   "language": "python",
   "name": "python3"
  },
  "language_info": {
   "codemirror_mode": {
    "name": "ipython",
    "version": 2
   },
   "file_extension": ".py",
   "mimetype": "text/x-python",
   "name": "python",
   "nbconvert_exporter": "python",
   "pygments_lexer": "ipython2",
   "version": "2.7.6"
  }
 },
 "nbformat": 4,
 "nbformat_minor": 0
}