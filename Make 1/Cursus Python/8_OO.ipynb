{
 "cells": [
  {
   "cell_type": "markdown",
   "source": [
    "# 1. Objectgeoriënteerd programmeren\n",
    "Tot nu toe zijn we in onze programma's steeds procedureel te werk gegaan: de code wordt van boven naar beneden geëvalueerd met hier en daar een omweggetje langs een functie. Python laat echter ook toe om objectgeoriënteerd te programmeren."
   ],
   "metadata": {
    "collapsed": false,
    "pycharm": {
     "name": "#%% md\n"
    }
   }
  },
  {
   "cell_type": "markdown",
   "source": [
    "In een objectgeoriënteerd programma draait alles rond objecten. Vaak probeert men zoveel mogelijk om concepten uit de echte wereld voor te stellen door objecten. Deze concepten vormen een onderdeel van het echte probleem dat opgelost dient te worden door het programma. Kort samengevat bevatten objecten (vb. schuifschakelaar) elk hun eigen verzameling gegevens (vb. in- of uitgeschakeld) die gemanipuleerd kan worden door middel van methodes (vb. aan- of uitschakelen)."
   ],
   "metadata": {
    "collapsed": false
   }
  },
  {
   "cell_type": "markdown",
   "source": [
    "# 2. Klassen en objecten\n",
    "Een klasse is een soort ontwerp (i.e. blauwdruk) van het object dat doorheen je programma gebruikt zal worden. Op basis van één klasse kunnen meerdere objecten worden aangemaakt."
   ],
   "metadata": {
    "collapsed": false
   }
  },
  {
   "cell_type": "code",
   "execution_count": 1,
   "outputs": [
    {
     "name": "stdout",
     "output_type": "stream",
     "text": [
      "s1 has state True and s2 has state True\n"
     ]
    }
   ],
   "source": [
    "class Switch:\n",
    "    state = True\n",
    "\n",
    "s1 = Switch()\n",
    "s2 = Switch()\n",
    "\n",
    "print(f's1 has state {s1.state} and s2 has state {s2.state}')"
   ],
   "metadata": {
    "collapsed": false,
    "pycharm": {
     "name": "#%%\n"
    }
   }
  },
  {
   "cell_type": "markdown",
   "source": [
    "## 2.1. Constructor\n",
    "De constructor is een unieke functie binnenin een klasse die bij het aanmaken (i.e. instantiëren) van een object telkens exact één keer automatisch wordt uitgevoerd. De argumenten die bij de aanmaak van een object worden meegegeven, komen uiteindelijk in deze functie terecht. In Python stelt de functie *__init__()* de constructor voor binnenin een klasse."
   ],
   "metadata": {
    "collapsed": false
   }
  },
  {
   "cell_type": "code",
   "execution_count": 5,
   "outputs": [
    {
     "name": "stdout",
     "output_type": "stream",
     "text": [
      "Another object of class \"Switch\" with ID 4 was just created!\n",
      "Another object of class \"Switch\" with ID 5 was just created!\n",
      "s1 has state True and s2 has state True\n"
     ]
    }
   ],
   "source": [
    "class Switch:\n",
    "    state = True\n",
    "    def __init__(self, id):\n",
    "        print(f'Another object of class \"Switch\" with ID {id} was just created!')\n",
    "\n",
    "s1 = Switch(4)\n",
    "s2 = Switch(5)\n",
    "\n",
    "print(f's1 has state {s1.state} and s2 has state {s2.state}')"
   ],
   "metadata": {
    "collapsed": false,
    "pycharm": {
     "name": "#%%\n"
    }
   }
  },
  {
   "cell_type": "markdown",
   "source": [
    "Merk op dat de constructor steeds minstens één parameter verwacht (en die komt altijd op de eerste plaats), namelijk een referentie naar het object dat aangemaakt wordt. De conventie is om als naam voor deze parameter steeds *self* te gebruiken."
   ],
   "metadata": {
    "collapsed": false
   }
  },
  {
   "cell_type": "markdown",
   "source": [
    "## 2.2. Variabelen\n",
    "In de voorbeelden hierboven maakten we gebruik van een klassevariabele: een variabele die op het niveau van de klasse gedefinieerd werd. Het is echter ook mogelijk om een variabele aan te maken op het niveau van een object (i.e. instantievariabele): in dat geval maken we gebruik van de referentie naar het object zelf (i.e. *self*)."
   ],
   "metadata": {
    "collapsed": false
   }
  },
  {
   "cell_type": "code",
   "execution_count": 6,
   "outputs": [
    {
     "name": "stdout",
     "output_type": "stream",
     "text": [
      "s1 has state True and s2 has state False\n"
     ]
    }
   ],
   "source": [
    "class Switch:\n",
    "    def __init__(self, state):\n",
    "        self.state = state\n",
    "\n",
    "s1 = Switch(True)\n",
    "s2 = Switch(False)\n",
    "\n",
    "print(f's1 has state {s1.state} and s2 has state {s2.state}')"
   ],
   "metadata": {
    "collapsed": false,
    "pycharm": {
     "name": "#%%\n"
    }
   }
  },
  {
   "cell_type": "markdown",
   "source": [
    "Merk op dat klassevariabelen niet alleen beschikbaar zijn via een referentie naar het object, maar ook via een referentie naar de klasse zelf."
   ],
   "metadata": {
    "collapsed": false
   }
  },
  {
   "cell_type": "code",
   "execution_count": 10,
   "outputs": [
    {
     "name": "stdout",
     "output_type": "stream",
     "text": [
      "The Switch class has been instantiated 2 times\n",
      "The Switch class has been instantiated 2 times\n",
      "The Switch class has been instantiated 2 times\n"
     ]
    }
   ],
   "source": [
    "class Switch:\n",
    "    count = 0\n",
    "    def __init__(self):\n",
    "        Switch.count += 1\n",
    "\n",
    "s1 = Switch()\n",
    "s2 = Switch()\n",
    "\n",
    "print(f'The Switch class has been instantiated {s1.count} times')\n",
    "print(f'The Switch class has been instantiated {s2.count} times')\n",
    "print(f'The Switch class has been instantiated {Switch.count} times')"
   ],
   "metadata": {
    "collapsed": false,
    "pycharm": {
     "name": "#%%\n"
    }
   }
  },
  {
   "cell_type": "markdown",
   "source": [
    "## 2.3. Methoden\n",
    "Wanneer een functie deel uitmaakt van een klasse, spreken we niet langer over een functie, maar over een methode. In dat opzicht bestaan er twee soorten methoden: de statische en de niet-statische."
   ],
   "metadata": {
    "collapsed": false,
    "pycharm": {
     "name": "#%% md\n"
    }
   }
  },
  {
   "cell_type": "markdown",
   "source": [
    "### 2.3.1. Niet-statisch\n",
    "Een niet-statische methode heeft, net als een instantievariabele, betrekking op het object en kan dan ook gebruik maken van alle klasse- én instantievariabelen. Dit soort methode kan enkel op een object opgeroepen worden en heeft, net als de constructor, één verplichte parameter die altijd vooraan komt te staan, namelijk een referentie naar het object zelf."
   ],
   "metadata": {
    "collapsed": false
   }
  },
  {
   "cell_type": "code",
   "execution_count": 15,
   "outputs": [
    {
     "name": "stdout",
     "output_type": "stream",
     "text": [
      "s1 has state True and s2 has state False\n",
      "s1 has state False and s2 has state True\n"
     ]
    }
   ],
   "source": [
    "class Switch:\n",
    "    def __init__(self, state):\n",
    "        self.state = state\n",
    "\n",
    "    def switch(self):\n",
    "        self.state = not self.state\n",
    "\n",
    "s1 = Switch(True)\n",
    "s2 = Switch(False)\n",
    "print(f's1 has state {s1.state} and s2 has state {s2.state}')\n",
    "s1.switch()\n",
    "s2.switch()\n",
    "print(f's1 has state {s1.state} and s2 has state {s2.state}')"
   ],
   "metadata": {
    "collapsed": false,
    "pycharm": {
     "name": "#%%\n"
    }
   }
  },
  {
   "cell_type": "markdown",
   "source": [
    "### 2.3.2. Statisch\n",
    "Een statische methode heeft betrekking op de klasse en maakt in geen geval gebruik van variabelen of methoden die op objectniveau gedefinieerd werden. Dit soort methode kan opgeroepen worden zonder dat een object van de klasse geïnstantieerd hoeft te worden. In Python voegen we de annotatie *@staticmethod* toe om aan te duiden dat we een statische methode definiëren."
   ],
   "metadata": {
    "collapsed": false
   }
  },
  {
   "cell_type": "code",
   "execution_count": 16,
   "outputs": [
    {
     "name": "stdout",
     "output_type": "stream",
     "text": [
      "Total number of objects created: 2\n"
     ]
    }
   ],
   "source": [
    "class Switch:\n",
    "    count = 0\n",
    "\n",
    "    def __init__(self, state):\n",
    "        Switch.count += 1\n",
    "        self.state = state\n",
    "\n",
    "    @staticmethod\n",
    "    def print_count():\n",
    "        print(f'Total number of objects created: {Switch.count}')\n",
    "\n",
    "s1 = Switch(True)\n",
    "s2 = Switch(False)\n",
    "\n",
    "Switch.print_count()"
   ],
   "metadata": {
    "collapsed": false,
    "pycharm": {
     "name": "#%%\n"
    }
   }
  },
  {
   "cell_type": "markdown",
   "source": [
    "# 3. Oefeningen"
   ],
   "metadata": {
    "collapsed": false
   }
  },
  {
   "cell_type": "markdown",
   "source": [
    "## 3.1. Slim huis\n",
    "Modelleer een slim huis met ...\n",
    "1. Een voordeur die je kan openen en sluiten.\n",
    "2. Vier ramen die je elk apart in drie verschillende standen kan zetten: open, kiepstand en gesloten. Denk eraan dat je raam eerst gesloten moet zijn vooraleer je van kiepstand naar open stand kan gaan en omgekeerd.\n",
    "3. Twee verwarmingstoestellen die elk 5 toestanden kunnen aannemen: 1, 2, 3, 4, 5. Denk eraan dat je tijdens het instellen geen toestanden kan overslaan: om van toestand 1 naar toestand 3 te gaan, zal je dus eerst toestand 2 moeten passeren.\n",
    "4. Eén bad met een verbruik van 120 liter per keer en één toilet met een verbruik van 6 liter per keer. Let erop dat de totale watercapaciteit per dag slechts 250 liter bedraagt.\n",
    "\n",
    "Voer zelf enkele handelingen uit om te testen of je modelhuis effectief werkt zoals beschreven staat."
   ],
   "metadata": {
    "collapsed": false
   }
  },
  {
   "cell_type": "code",
   "execution_count": 1,
   "outputs": [],
   "source": [
    "class Huis():\n",
    "    pass"
   ],
   "metadata": {
    "collapsed": false,
    "pycharm": {
     "name": "#%%\n"
    }
   }
  }
 ],
 "metadata": {
  "kernelspec": {
   "display_name": "Python 3",
   "language": "python",
   "name": "python3"
  },
  "language_info": {
   "codemirror_mode": {
    "name": "ipython",
    "version": 2
   },
   "file_extension": ".py",
   "mimetype": "text/x-python",
   "name": "python",
   "nbconvert_exporter": "python",
   "pygments_lexer": "ipython2",
   "version": "2.7.6"
  }
 },
 "nbformat": 4,
 "nbformat_minor": 0
}