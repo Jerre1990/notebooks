{
 "cells": [
  {
   "cell_type": "markdown",
   "source": [
    "# 1. Exceptions\n",
    "Een *exception* is de manier waarop Python aan de programmeur duidelijk maakt dat er tijdens de uitvoering van het programma iets uitzonderlijks gebeurd is. Met uitzonderlijk wordt hier bedoeld: iets dat niet verwacht wordt in normale omstandigheden."
   ],
   "metadata": {
    "collapsed": false
   }
  },
  {
   "cell_type": "markdown",
   "source": [
    "Stel dat we proberen om een getal te delen door een ander getal. Op het eerste zicht verwachten we hier geen probleem. Delen we een getal echter door nul, dan wordt er een *exception* gegooid. Wiskundig gezien is dit immers niet mogelijk wanneer we ons beperken tot de verzameling van reële getallen (i.e. *int* en *float* in Python)."
   ],
   "metadata": {
    "collapsed": false
   }
  },
  {
   "cell_type": "code",
   "execution_count": 2,
   "outputs": [
    {
     "ename": "ZeroDivisionError",
     "evalue": "division by zero",
     "output_type": "error",
     "traceback": [
      "\u001B[1;31m---------------------------------------------------------------------------\u001B[0m",
      "\u001B[1;31mZeroDivisionError\u001B[0m                         Traceback (most recent call last)",
      "\u001B[1;32m<ipython-input-2-d0bcd3fb9c86>\u001B[0m in \u001B[0;36m<module>\u001B[1;34m\u001B[0m\n\u001B[0;32m      1\u001B[0m \u001B[1;36m4\u001B[0m \u001B[1;33m/\u001B[0m \u001B[1;36m2\u001B[0m\u001B[1;33m\u001B[0m\u001B[1;33m\u001B[0m\u001B[0m\n\u001B[1;32m----> 2\u001B[1;33m \u001B[1;36m2\u001B[0m \u001B[1;33m/\u001B[0m \u001B[1;36m0\u001B[0m\u001B[1;33m\u001B[0m\u001B[1;33m\u001B[0m\u001B[0m\n\u001B[0m",
      "\u001B[1;31mZeroDivisionError\u001B[0m: division by zero"
     ]
    }
   ],
   "source": [
    "2 / 0"
   ],
   "metadata": {
    "collapsed": false,
    "pycharm": {
     "name": "#%%\n"
    }
   }
  },
  {
   "cell_type": "markdown",
   "source": [
    "In bovenstaand voorbeeld werd er een *ZeroDivisionError* opgegooid, maar Python voorziet nog veel meer soorten *exceptions* voor verschillende soorten problemen. Een overzicht vindt je [hier](https://docs.python.org/3/library/exceptions.html#bltin-exceptions)."
   ],
   "metadata": {
    "collapsed": false
   }
  },
  {
   "cell_type": "markdown",
   "source": [
    "## 1.1. Opvangen\n",
    "Wanneer er ergens in je programma een *exception* opgegooid wordt, stopt de volledige uitvoer van dat programma onmiddellijk. Dit is natuurlijk niet altijd wat je wil als programmeur en dus voorziet Python de mogelijkheid om die *exception* op te vangen. Je kan er dan voor kiezen om het onderliggende probleem op te lossen en de uitvoer van je programma toch nog door te laten gaan."
   ],
   "metadata": {
    "collapsed": false
   }
  },
  {
   "cell_type": "code",
   "execution_count": 5,
   "outputs": [
    {
     "name": "stdout",
     "output_type": "stream",
     "text": [
      "2.5\n",
      "-2.0\n",
      "inf\n",
      "-inf\n",
      "None\n"
     ]
    }
   ],
   "source": [
    "import math\n",
    "\n",
    "def divide(number1, number2):\n",
    "    try:\n",
    "        return number1 / number2\n",
    "    except:\n",
    "        if number1 > 0:\n",
    "            return math.inf\n",
    "        elif number1 < 0:\n",
    "            return -math.inf\n",
    "        else:\n",
    "            return None\n",
    "\n",
    "print(divide(5, 2))\n",
    "print(divide(-6, 3))\n",
    "print(divide(9, 0))\n",
    "print(divide(-8, 0))\n",
    "print(divide(0, 0))"
   ],
   "metadata": {
    "collapsed": false,
    "pycharm": {
     "name": "#%%\n"
    }
   }
  },
  {
   "cell_type": "markdown",
   "source": [
    "De code die een *exception* kan gooien, plaatsen we in een *try* blok. Wanneer ergens in die code een *exception* gegooid wordt, zal die opgevangen worden door het bijhorende *except* blok. Zodra een *exception* gegooid wordt, stopt de uitvoer van code binnen het *try* blok (ook al zijn we niet tot aan de laatste lijn geraakt) en begint de uitvoer opnieuw vanaf de eerste lijn code in het *except* blok."
   ],
   "metadata": {
    "collapsed": false
   }
  },
  {
   "cell_type": "code",
   "execution_count": 7,
   "outputs": [
    {
     "name": "stdout",
     "output_type": "stream",
     "text": [
      "Dit wordt nog uitgevoerd...\n"
     ]
    },
    {
     "ename": "IndexError",
     "evalue": "list index out of range",
     "output_type": "error",
     "traceback": [
      "\u001B[1;31m---------------------------------------------------------------------------\u001B[0m",
      "\u001B[1;31mIndexError\u001B[0m                                Traceback (most recent call last)",
      "\u001B[1;32m<ipython-input-7-ff2aaedf3d51>\u001B[0m in \u001B[0;36m<module>\u001B[1;34m\u001B[0m\n\u001B[0;32m      3\u001B[0m \u001B[1;32mtry\u001B[0m\u001B[1;33m:\u001B[0m\u001B[1;33m\u001B[0m\u001B[1;33m\u001B[0m\u001B[0m\n\u001B[0;32m      4\u001B[0m     \u001B[0mprint\u001B[0m\u001B[1;33m(\u001B[0m\u001B[1;34m'Dit wordt nog uitgevoerd...'\u001B[0m\u001B[1;33m)\u001B[0m\u001B[1;33m\u001B[0m\u001B[1;33m\u001B[0m\u001B[0m\n\u001B[1;32m----> 5\u001B[1;33m     \u001B[0mprint\u001B[0m\u001B[1;33m(\u001B[0m\u001B[0mlist\u001B[0m\u001B[1;33m[\u001B[0m\u001B[1;36m3\u001B[0m\u001B[1;33m]\u001B[0m\u001B[1;33m)\u001B[0m\u001B[1;33m\u001B[0m\u001B[1;33m\u001B[0m\u001B[0m\n\u001B[0m\u001B[0;32m      6\u001B[0m     \u001B[0mprint\u001B[0m\u001B[1;33m(\u001B[0m\u001B[1;34m'...maar dit niet'\u001B[0m\u001B[1;33m)\u001B[0m\u001B[1;33m\u001B[0m\u001B[1;33m\u001B[0m\u001B[0m\n\u001B[0;32m      7\u001B[0m \u001B[1;32mexcept\u001B[0m \u001B[0mZeroDivisionError\u001B[0m\u001B[1;33m:\u001B[0m\u001B[1;33m\u001B[0m\u001B[1;33m\u001B[0m\u001B[0m\n",
      "\u001B[1;31mIndexError\u001B[0m: list index out of range"
     ]
    }
   ],
   "source": [
    "list = [4, 5, 6]\n",
    "\n",
    "try:\n",
    "    print('Dit wordt nog uitgevoerd...')\n",
    "    print(list[3])\n",
    "    print('...maar dit niet')\n",
    "except:\n",
    "    print('...en de uitvoer van code gaat verder in het \"except\" blok')"
   ],
   "metadata": {
    "collapsed": false,
    "pycharm": {
     "name": "#%%\n"
    }
   }
  },
  {
   "cell_type": "markdown",
   "source": [
    "Het is ook mogelijk om een of meerdere specifieke *exceptions* op te vangen. Merk op dat het op die manier ook mogelijk wordt om andere *exceptions* te negeren die de volledige uitvoer van het programma wel onmiddellijk kunnen stoppen."
   ],
   "metadata": {
    "collapsed": false
   }
  },
  {
   "cell_type": "code",
   "execution_count": 19,
   "outputs": [
    {
     "name": "stdout",
     "output_type": "stream",
     "text": [
      "----------\n",
      "A\n",
      "B\n",
      "C\n",
      "D\n",
      "E\n",
      "----------\n",
      "A\n",
      "Er is een probleem met de deling\n",
      "----------\n",
      "A\n",
      "B\n",
      "Er is een probleem met de lijst of dictionary\n",
      "----------\n",
      "A\n",
      "B\n",
      "C\n",
      "Er is een probleem met de lijst of dictionary\n",
      "----------\n",
      "A\n",
      "B\n",
      "C\n",
      "D\n"
     ]
    },
    {
     "ename": "TypeError",
     "evalue": "<lambda>() takes 1 positional argument but 2 were given",
     "output_type": "error",
     "traceback": [
      "\u001B[1;31m---------------------------------------------------------------------------\u001B[0m",
      "\u001B[1;31mTypeError\u001B[0m                                 Traceback (most recent call last)",
      "\u001B[1;32m<ipython-input-19-d32e0ace5465>\u001B[0m in \u001B[0;36m<module>\u001B[1;34m\u001B[0m\n\u001B[0;32m     24\u001B[0m \u001B[0mexecute\u001B[0m\u001B[1;33m(\u001B[0m\u001B[0madd\u001B[0m\u001B[1;33m,\u001B[0m \u001B[1;36m3\u001B[0m\u001B[1;33m,\u001B[0m \u001B[1;36m4\u001B[0m\u001B[1;33m,\u001B[0m \u001B[1;33m[\u001B[0m\u001B[1;36m1\u001B[0m\u001B[1;33m,\u001B[0m \u001B[1;36m2\u001B[0m\u001B[1;33m]\u001B[0m\u001B[1;33m,\u001B[0m \u001B[1;33m{\u001B[0m\u001B[1;36m1\u001B[0m\u001B[1;33m:\u001B[0m \u001B[1;34m'one'\u001B[0m\u001B[1;33m,\u001B[0m \u001B[1;36m2\u001B[0m\u001B[1;33m:\u001B[0m \u001B[1;34m'two'\u001B[0m\u001B[1;33m}\u001B[0m\u001B[1;33m)\u001B[0m\u001B[1;33m\u001B[0m\u001B[1;33m\u001B[0m\u001B[0m\n\u001B[0;32m     25\u001B[0m \u001B[0mexecute\u001B[0m\u001B[1;33m(\u001B[0m\u001B[0madd\u001B[0m\u001B[1;33m,\u001B[0m \u001B[1;36m3\u001B[0m\u001B[1;33m,\u001B[0m \u001B[1;36m4\u001B[0m\u001B[1;33m,\u001B[0m \u001B[1;33m[\u001B[0m\u001B[1;36m1\u001B[0m\u001B[1;33m,\u001B[0m \u001B[1;36m2\u001B[0m\u001B[1;33m,\u001B[0m \u001B[1;36m3\u001B[0m\u001B[1;33m]\u001B[0m\u001B[1;33m,\u001B[0m \u001B[1;33m{\u001B[0m\u001B[1;36m1\u001B[0m\u001B[1;33m:\u001B[0m \u001B[1;34m'one'\u001B[0m\u001B[1;33m}\u001B[0m\u001B[1;33m)\u001B[0m\u001B[1;33m\u001B[0m\u001B[1;33m\u001B[0m\u001B[0m\n\u001B[1;32m---> 26\u001B[1;33m \u001B[0mexecute\u001B[0m\u001B[1;33m(\u001B[0m\u001B[1;32mlambda\u001B[0m \u001B[0mx\u001B[0m\u001B[1;33m:\u001B[0m \u001B[0mx\u001B[0m\u001B[1;33m,\u001B[0m \u001B[1;36m3\u001B[0m\u001B[1;33m,\u001B[0m \u001B[1;36m4\u001B[0m\u001B[1;33m,\u001B[0m \u001B[1;33m[\u001B[0m\u001B[1;36m1\u001B[0m\u001B[1;33m,\u001B[0m \u001B[1;36m2\u001B[0m\u001B[1;33m,\u001B[0m \u001B[1;36m3\u001B[0m\u001B[1;33m]\u001B[0m\u001B[1;33m,\u001B[0m \u001B[1;33m{\u001B[0m\u001B[1;36m1\u001B[0m\u001B[1;33m:\u001B[0m \u001B[1;34m'one'\u001B[0m\u001B[1;33m,\u001B[0m \u001B[1;36m2\u001B[0m\u001B[1;33m:\u001B[0m \u001B[1;34m'two'\u001B[0m\u001B[1;33m}\u001B[0m\u001B[1;33m)\u001B[0m\u001B[1;33m\u001B[0m\u001B[1;33m\u001B[0m\u001B[0m\n\u001B[0m\u001B[0;32m     27\u001B[0m \u001B[0mexecute\u001B[0m\u001B[1;33m(\u001B[0m\u001B[0madd\u001B[0m\u001B[1;33m,\u001B[0m \u001B[1;36m3\u001B[0m\u001B[1;33m,\u001B[0m \u001B[1;36m4\u001B[0m\u001B[1;33m,\u001B[0m \u001B[1;33m[\u001B[0m\u001B[1;36m1\u001B[0m\u001B[1;33m,\u001B[0m \u001B[1;36m2\u001B[0m\u001B[1;33m,\u001B[0m \u001B[1;36m3\u001B[0m\u001B[1;33m]\u001B[0m\u001B[1;33m,\u001B[0m \u001B[1;33m{\u001B[0m\u001B[1;36m1\u001B[0m\u001B[1;33m:\u001B[0m \u001B[1;34m'one'\u001B[0m\u001B[1;33m,\u001B[0m \u001B[1;36m2\u001B[0m\u001B[1;33m:\u001B[0m \u001B[1;34m'two'\u001B[0m\u001B[1;33m}\u001B[0m\u001B[1;33m)\u001B[0m \u001B[1;31m# deze regel zal nooit uitgevoerd worden\u001B[0m\u001B[1;33m\u001B[0m\u001B[1;33m\u001B[0m\u001B[0m\n",
      "\u001B[1;32m<ipython-input-19-d32e0ace5465>\u001B[0m in \u001B[0;36mexecute\u001B[1;34m(func, n1, n2, l1, d1)\u001B[0m\n\u001B[0;32m     11\u001B[0m         \u001B[0md1\u001B[0m\u001B[1;33m[\u001B[0m\u001B[1;36m2\u001B[0m\u001B[1;33m]\u001B[0m\u001B[1;33m\u001B[0m\u001B[1;33m\u001B[0m\u001B[0m\n\u001B[0;32m     12\u001B[0m         \u001B[0mprint\u001B[0m\u001B[1;33m(\u001B[0m\u001B[1;34m'D'\u001B[0m\u001B[1;33m)\u001B[0m\u001B[1;33m\u001B[0m\u001B[1;33m\u001B[0m\u001B[0m\n\u001B[1;32m---> 13\u001B[1;33m         \u001B[0mfunc\u001B[0m\u001B[1;33m(\u001B[0m\u001B[0mn1\u001B[0m\u001B[1;33m,\u001B[0m \u001B[0mn2\u001B[0m\u001B[1;33m)\u001B[0m\u001B[1;33m\u001B[0m\u001B[1;33m\u001B[0m\u001B[0m\n\u001B[0m\u001B[0;32m     14\u001B[0m         \u001B[0mprint\u001B[0m\u001B[1;33m(\u001B[0m\u001B[1;34m'E'\u001B[0m\u001B[1;33m)\u001B[0m\u001B[1;33m\u001B[0m\u001B[1;33m\u001B[0m\u001B[0m\n\u001B[0;32m     15\u001B[0m     \u001B[1;32mexcept\u001B[0m \u001B[0mZeroDivisionError\u001B[0m\u001B[1;33m:\u001B[0m\u001B[1;33m\u001B[0m\u001B[1;33m\u001B[0m\u001B[0m\n",
      "\u001B[1;31mTypeError\u001B[0m: <lambda>() takes 1 positional argument but 2 were given"
     ]
    }
   ],
   "source": [
    "dict = {1: 'one', 2: 'two', 3: 'three'}\n",
    "\n",
    "def execute(func, n1, n2, l1, d1):\n",
    "    print('----------')\n",
    "    try:\n",
    "        print('A')\n",
    "        n1 / n2\n",
    "        print('B')\n",
    "        l1[2]\n",
    "        print('C')\n",
    "        d1[2]\n",
    "        print('D')\n",
    "        func(n1, n2)\n",
    "        print('E')\n",
    "    except ZeroDivisionError:\n",
    "        print('Er is een probleem met de deling')\n",
    "    except (IndexError, KeyError):\n",
    "        print('Er is een probleem met de lijst of dictionary')\n",
    "\n",
    "add = lambda x, y: x + y\n",
    "\n",
    "execute(add, 3, 4, [1, 2, 3], {1: 'one', 2: 'two'})\n",
    "execute(add, 3, 0, [1, 2, 3], {1: 'one', 2: 'two'})\n",
    "execute(add, 3, 4, [1, 2], {1: 'one', 2: 'two'})\n",
    "execute(add, 3, 4, [1, 2, 3], {1: 'one'})\n",
    "execute(lambda x: x, 3, 4, [1, 2, 3], {1: 'one', 2: 'two'})\n",
    "execute(add, 3, 4, [1, 2, 3], {1: 'one', 2: 'two'}) # deze regel zal nooit uitgevoerd worden"
   ],
   "metadata": {
    "collapsed": false,
    "pycharm": {
     "name": "#%%\n"
    }
   }
  },
  {
   "cell_type": "markdown",
   "source": [
    "We kunnen ook een stukje code schrijven dat altijd uitgevoerd wordt, of er nu een *exception* gegooid werd of niet. Hiervoor gebruiken we een *finally* blok."
   ],
   "metadata": {
    "collapsed": false
   }
  },
  {
   "cell_type": "code",
   "execution_count": 20,
   "outputs": [
    {
     "name": "stdout",
     "output_type": "stream",
     "text": [
      "----------\n",
      "A\n",
      "B\n",
      "D\n",
      "----------\n",
      "A\n",
      "C\n",
      "D\n"
     ]
    }
   ],
   "source": [
    "def func(n1, n2):\n",
    "    print('----------')\n",
    "    try:\n",
    "        print('A')\n",
    "        n1 / n2\n",
    "        print('B')\n",
    "    except:\n",
    "        print('C')\n",
    "    finally:\n",
    "        print('D')\n",
    "\n",
    "func(1, 2)\n",
    "func(1, 0)"
   ],
   "metadata": {
    "collapsed": false,
    "pycharm": {
     "name": "#%%\n"
    }
   }
  },
  {
   "cell_type": "markdown",
   "source": [
    "## 1.2. Opgooien\n",
    "In sommige situaties is het gepast om zelf een *exception* op te gooien, bijvoorbeeld wanneer er binnenin een functie iets zodanig fout loopt dat je het aan de oproeper overlaat om dit op te lossen."
   ],
   "metadata": {
    "collapsed": false
   }
  },
  {
   "cell_type": "code",
   "execution_count": 22,
   "outputs": [
    {
     "name": "stdout",
     "output_type": "stream",
     "text": [
      "4\n"
     ]
    },
    {
     "ename": "TypeError",
     "evalue": "Only integer addition is allowed!",
     "output_type": "error",
     "traceback": [
      "\u001B[1;31m---------------------------------------------------------------------------\u001B[0m",
      "\u001B[1;31mTypeError\u001B[0m                                 Traceback (most recent call last)",
      "\u001B[1;32m<ipython-input-22-683b3c481fdb>\u001B[0m in \u001B[0;36m<module>\u001B[1;34m\u001B[0m\n\u001B[0;32m      5\u001B[0m \u001B[1;33m\u001B[0m\u001B[0m\n\u001B[0;32m      6\u001B[0m \u001B[0mprint\u001B[0m\u001B[1;33m(\u001B[0m\u001B[0madd\u001B[0m\u001B[1;33m(\u001B[0m\u001B[1;36m1\u001B[0m\u001B[1;33m,\u001B[0m \u001B[1;36m3\u001B[0m\u001B[1;33m)\u001B[0m\u001B[1;33m)\u001B[0m\u001B[1;33m\u001B[0m\u001B[1;33m\u001B[0m\u001B[0m\n\u001B[1;32m----> 7\u001B[1;33m \u001B[0mprint\u001B[0m\u001B[1;33m(\u001B[0m\u001B[0madd\u001B[0m\u001B[1;33m(\u001B[0m\u001B[1;34m'hello'\u001B[0m\u001B[1;33m,\u001B[0m \u001B[1;34m'world'\u001B[0m\u001B[1;33m)\u001B[0m\u001B[1;33m)\u001B[0m\u001B[1;33m\u001B[0m\u001B[1;33m\u001B[0m\u001B[0m\n\u001B[0m",
      "\u001B[1;32m<ipython-input-22-683b3c481fdb>\u001B[0m in \u001B[0;36madd\u001B[1;34m(n1, n2)\u001B[0m\n\u001B[0;32m      1\u001B[0m \u001B[1;32mdef\u001B[0m \u001B[0madd\u001B[0m\u001B[1;33m(\u001B[0m\u001B[0mn1\u001B[0m\u001B[1;33m,\u001B[0m \u001B[0mn2\u001B[0m\u001B[1;33m)\u001B[0m\u001B[1;33m:\u001B[0m\u001B[1;33m\u001B[0m\u001B[1;33m\u001B[0m\u001B[0m\n\u001B[0;32m      2\u001B[0m     \u001B[1;32mif\u001B[0m \u001B[1;32mnot\u001B[0m \u001B[0misinstance\u001B[0m\u001B[1;33m(\u001B[0m\u001B[0mn1\u001B[0m\u001B[1;33m,\u001B[0m \u001B[0mint\u001B[0m\u001B[1;33m)\u001B[0m \u001B[1;32mor\u001B[0m \u001B[1;32mnot\u001B[0m \u001B[0misinstance\u001B[0m\u001B[1;33m(\u001B[0m\u001B[0mn2\u001B[0m\u001B[1;33m,\u001B[0m \u001B[0mint\u001B[0m\u001B[1;33m)\u001B[0m\u001B[1;33m:\u001B[0m\u001B[1;33m\u001B[0m\u001B[1;33m\u001B[0m\u001B[0m\n\u001B[1;32m----> 3\u001B[1;33m         \u001B[1;32mraise\u001B[0m \u001B[0mTypeError\u001B[0m\u001B[1;33m(\u001B[0m\u001B[1;34m'Only integer addition is allowed!'\u001B[0m\u001B[1;33m)\u001B[0m\u001B[1;33m\u001B[0m\u001B[1;33m\u001B[0m\u001B[0m\n\u001B[0m\u001B[0;32m      4\u001B[0m     \u001B[1;32mreturn\u001B[0m \u001B[0mn1\u001B[0m \u001B[1;33m+\u001B[0m \u001B[0mn2\u001B[0m\u001B[1;33m\u001B[0m\u001B[1;33m\u001B[0m\u001B[0m\n\u001B[0;32m      5\u001B[0m \u001B[1;33m\u001B[0m\u001B[0m\n",
      "\u001B[1;31mTypeError\u001B[0m: Only integer addition is allowed!"
     ]
    }
   ],
   "source": [
    "def add(n1, n2):\n",
    "    if not isinstance(n1, int) or not isinstance(n2, int):\n",
    "        raise TypeError('Only integer addition is allowed!')\n",
    "    return n1 + n2\n",
    "\n",
    "print(add(1, 3))\n",
    "print(add('hello', 'world'))"
   ],
   "metadata": {
    "collapsed": false,
    "pycharm": {
     "name": "#%%\n"
    }
   }
  },
  {
   "cell_type": "markdown",
   "source": [
    "Je kan, zoals hierboven, als argument ook steeds een string meegeven aan de opgegooide *exception* met daarin de exacte foutboodschap, maar dit is niet noodzakelijk."
   ],
   "metadata": {
    "collapsed": false
   }
  },
  {
   "cell_type": "code",
   "execution_count": 25,
   "outputs": [
    {
     "name": "stdout",
     "output_type": "stream",
     "text": [
      "4\n"
     ]
    },
    {
     "ename": "TypeError",
     "evalue": "",
     "output_type": "error",
     "traceback": [
      "\u001B[1;31m---------------------------------------------------------------------------\u001B[0m",
      "\u001B[1;31mTypeError\u001B[0m                                 Traceback (most recent call last)",
      "\u001B[1;32m<ipython-input-25-57fb9b6285d1>\u001B[0m in \u001B[0;36m<module>\u001B[1;34m\u001B[0m\n\u001B[0;32m      5\u001B[0m \u001B[1;33m\u001B[0m\u001B[0m\n\u001B[0;32m      6\u001B[0m \u001B[0mprint\u001B[0m\u001B[1;33m(\u001B[0m\u001B[0madd\u001B[0m\u001B[1;33m(\u001B[0m\u001B[1;36m1\u001B[0m\u001B[1;33m,\u001B[0m \u001B[1;36m3\u001B[0m\u001B[1;33m)\u001B[0m\u001B[1;33m)\u001B[0m\u001B[1;33m\u001B[0m\u001B[1;33m\u001B[0m\u001B[0m\n\u001B[1;32m----> 7\u001B[1;33m \u001B[0mprint\u001B[0m\u001B[1;33m(\u001B[0m\u001B[0madd\u001B[0m\u001B[1;33m(\u001B[0m\u001B[1;34m'hello'\u001B[0m\u001B[1;33m,\u001B[0m \u001B[1;34m'world'\u001B[0m\u001B[1;33m)\u001B[0m\u001B[1;33m)\u001B[0m\u001B[1;33m\u001B[0m\u001B[1;33m\u001B[0m\u001B[0m\n\u001B[0m",
      "\u001B[1;32m<ipython-input-25-57fb9b6285d1>\u001B[0m in \u001B[0;36madd\u001B[1;34m(n1, n2)\u001B[0m\n\u001B[0;32m      1\u001B[0m \u001B[1;32mdef\u001B[0m \u001B[0madd\u001B[0m\u001B[1;33m(\u001B[0m\u001B[0mn1\u001B[0m\u001B[1;33m,\u001B[0m \u001B[0mn2\u001B[0m\u001B[1;33m)\u001B[0m\u001B[1;33m:\u001B[0m\u001B[1;33m\u001B[0m\u001B[1;33m\u001B[0m\u001B[0m\n\u001B[0;32m      2\u001B[0m     \u001B[1;32mif\u001B[0m \u001B[1;32mnot\u001B[0m \u001B[0misinstance\u001B[0m\u001B[1;33m(\u001B[0m\u001B[0mn1\u001B[0m\u001B[1;33m,\u001B[0m \u001B[0mint\u001B[0m\u001B[1;33m)\u001B[0m \u001B[1;32mor\u001B[0m \u001B[1;32mnot\u001B[0m \u001B[0misinstance\u001B[0m\u001B[1;33m(\u001B[0m\u001B[0mn2\u001B[0m\u001B[1;33m,\u001B[0m \u001B[0mint\u001B[0m\u001B[1;33m)\u001B[0m\u001B[1;33m:\u001B[0m\u001B[1;33m\u001B[0m\u001B[1;33m\u001B[0m\u001B[0m\n\u001B[1;32m----> 3\u001B[1;33m         \u001B[1;32mraise\u001B[0m \u001B[0mTypeError\u001B[0m\u001B[1;33m\u001B[0m\u001B[1;33m\u001B[0m\u001B[0m\n\u001B[0m\u001B[0;32m      4\u001B[0m     \u001B[1;32mreturn\u001B[0m \u001B[0mn1\u001B[0m \u001B[1;33m+\u001B[0m \u001B[0mn2\u001B[0m\u001B[1;33m\u001B[0m\u001B[1;33m\u001B[0m\u001B[0m\n\u001B[0;32m      5\u001B[0m \u001B[1;33m\u001B[0m\u001B[0m\n",
      "\u001B[1;31mTypeError\u001B[0m: "
     ]
    }
   ],
   "source": [
    "def add(n1, n2):\n",
    "    if not isinstance(n1, int) or not isinstance(n2, int):\n",
    "        raise TypeError\n",
    "    return n1 + n2\n",
    "\n",
    "print(add(1, 3))\n",
    "print(add('hello', 'world'))"
   ],
   "metadata": {
    "collapsed": false,
    "pycharm": {
     "name": "#%%\n"
    }
   }
  },
  {
   "cell_type": "markdown",
   "source": [
    "# 2. Oefeningen"
   ],
   "metadata": {
    "collapsed": false
   }
  },
  {
   "cell_type": "markdown",
   "source": [
    "## 2.1. Boodschappen 3.0\n",
    "1. Stel een boodschappenlijstje op van maximaal 5 items en gebruik hiervoor een dictionary. Gebruik als sleutel het item in de boodschappenlijst en als waarde de prijs (exclusief BTW) van dat item. Maak de waarde voor één van deze items leeg (i.e. *None*), zodanig dat de prijs niet opgevraagd kan worden.\n",
    "2. Schrijf een functie die de totale prijs van alle boodschappen berekent. Wanneer er een exception gegooid wordt, omdat de prijs van een bepaald item niet gevonden kan worden, veronderstelt je code dat die prijs gelijk is aan 5."
   ],
   "metadata": {
    "collapsed": false
   }
  },
  {
   "cell_type": "code",
   "execution_count": 1,
   "outputs": [],
   "source": [
    "def calculateTotalCost():\n",
    "    pass"
   ],
   "metadata": {
    "collapsed": false,
    "pycharm": {
     "name": "#%%\n"
    }
   }
  },
  {
   "cell_type": "markdown",
   "source": [
    "## 2.2. Boodschappen 4.0\n",
    "Pas je oplossing voor bovenstaande oefening zodanig aan dat je code zelf een exception gooit wanneer de prijs van een item niet gevonden kan worden. De boodschap van deze exception luidt als volgt: \"Geen prijs gevonden voor item ...\", waarbij je expliciet vermeldt over welk item het gaat."
   ],
   "metadata": {
    "collapsed": false
   }
  },
  {
   "cell_type": "code",
   "execution_count": 2,
   "outputs": [],
   "source": [
    "def calculateTotalCost():\n",
    "    pass"
   ],
   "metadata": {
    "collapsed": false,
    "pycharm": {
     "name": "#%%\n"
    }
   }
  }
 ],
 "metadata": {
  "kernelspec": {
   "display_name": "Python 3",
   "language": "python",
   "name": "python3"
  },
  "language_info": {
   "codemirror_mode": {
    "name": "ipython",
    "version": 2
   },
   "file_extension": ".py",
   "mimetype": "text/x-python",
   "name": "python",
   "nbconvert_exporter": "python",
   "pygments_lexer": "ipython2",
   "version": "2.7.6"
  }
 },
 "nbformat": 4,
 "nbformat_minor": 0
}