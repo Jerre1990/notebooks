{
 "cells": [
  {
   "cell_type": "markdown",
   "source": [
    "# 1. Functies\n",
    "Daar waar variabelen leesbaarheid en aanpasbaarheid van code in de hand werken, helpen functies om je code **herbruikbaar** te maken. Een functie is namelijk een afgezonderd stukje code dat meerdere keren uitgevoerd kan worden: code die je hergebruikt, hoef je dus maar één keer te schrijven."
   ],
   "metadata": {
    "collapsed": false
   }
  },
  {
   "cell_type": "code",
   "execution_count": null,
   "outputs": [],
   "source": [
    "def printHelloWorldAndPeople():\n",
    "    print('Hello world!')\n",
    "    print('Hello people!')\n",
    "    print('---------')"
   ],
   "metadata": {
    "collapsed": false,
    "pycharm": {
     "name": "#%%\n"
    }
   }
  },
  {
   "cell_type": "markdown",
   "source": [
    "In bovenstaand stukje code maken we de *printHelloWorldAndPeople()* functie aan: deze definieert drie lijnen code die elk een stukje tekst printen. Er wordt echter nog niets geprint: de regels code binnenin een functie worden pas uitgevoerd wanneer de functie opgeroepen wordt."
   ],
   "metadata": {
    "collapsed": false
   }
  },
  {
   "cell_type": "markdown",
   "source": [
    "**Merk op dat indentatie (i.e. inspringing) van cruciaal belang is in een Python programma:** op die manier wordt immers aangeduid wanneer een functiedefinitie eindigt en het normale (i.e. sequentiële) verloop van je code weer opgepikt wordt. Later zal blijken dat indentatie ook voor [controlestructuren](#Controlestructuren) een belangrijke rol speelt."
   ],
   "metadata": {
    "collapsed": false
   }
  },
  {
   "cell_type": "code",
   "execution_count": null,
   "outputs": [],
   "source": [
    "printHelloWorldAndPeople()"
   ],
   "metadata": {
    "collapsed": false,
    "pycharm": {
     "name": "#%%\n"
    }
   }
  },
  {
   "cell_type": "markdown",
   "source": [
    "Wanneer we nu, zoals hierboven, onze functie oproepen, worden alle lijnen code die deel uitmaken van de functiedefinitie uitgevoerd. Op deze manier wordt het eenvoudig om volledige blokken code (i.e. wat zich binnen de functiedefinitie bevindt) meerdere keren uit te voeren:"
   ],
   "metadata": {
    "collapsed": false
   }
  },
  {
   "cell_type": "code",
   "execution_count": null,
   "outputs": [],
   "source": [
    "printHelloWorldAndPeople()\n",
    "printHelloWorldAndPeople()\n",
    "printHelloWorldAndPeople()"
   ],
   "metadata": {
    "collapsed": false,
    "pycharm": {
     "name": "#%%\n"
    }
   }
  },
  {
   "cell_type": "markdown",
   "source": [
    "## 1.1. Input\n",
    "Net als bij de ingebouwde *print()* functie, kan ook onze eigen functie **input** ontvangen. Deze gegevens kunnen vervolgens verder verwerkt worden binnen de functiedefinitie:"
   ],
   "metadata": {
    "collapsed": false
   }
  },
  {
   "cell_type": "code",
   "execution_count": 1,
   "outputs": [
    {
     "name": "stdout",
     "output_type": "stream",
     "text": [
      "Hello, Jos!\n",
      "Hello, Jeff!\n"
     ]
    }
   ],
   "source": [
    "def printGreeting(name):\n",
    "    greeting = f'Hello, {name}!'\n",
    "    print(greeting)\n",
    "\n",
    "printGreeting('Jos')\n",
    "printGreeting('Jeff')"
   ],
   "metadata": {
    "collapsed": false,
    "pycharm": {
     "name": "#%%\n"
    }
   }
  },
  {
   "cell_type": "markdown",
   "source": [
    "Merk op dat enkel de referentie naar het object wordt meegegeven als input aan de functie. Deze referentie blijft ongewijzigd door de functie-aanroep, wat tot gevolg heeft dat ook *immutable* (i.e. niet-muteerbare) objecten (zoals *int*, *float*, *str*, *bool*) geen blijvende wijzigingen kunnen ondergaan wanneer zij deel uitmaken van de parameterlijst van een functie. Tijdelijke wijzigingen binnenin de functie zelf hebben wel effect."
   ],
   "metadata": {
    "collapsed": false
   }
  },
  {
   "cell_type": "code",
   "execution_count": 3,
   "outputs": [
    {
     "name": "stdout",
     "output_type": "stream",
     "text": [
      "Jos\n",
      "Inside function: Jeff\n",
      "Jos\n"
     ]
    }
   ],
   "source": [
    "def changeName(name):\n",
    "    name = 'Jeff'\n",
    "    print(f'Inside function: {name}')\n",
    "\n",
    "myName = 'Jos'\n",
    "print(myName)\n",
    "changeName(myName)\n",
    "print(myName)"
   ],
   "metadata": {
    "collapsed": false,
    "pycharm": {
     "name": "#%%\n"
    }
   }
  },
  {
   "cell_type": "markdown",
   "source": [
    "### 1.1.2. Parameters en argumenten\n",
    "De variabelen die als input in de definitie van een functie vermeld staan, worden parameters genoemd. Wanneer de functie effectief opgeroepen wordt en er waarden aan die parameters worden toegekend, spreken we over argumenten."
   ],
   "metadata": {
    "collapsed": false
   }
  },
  {
   "cell_type": "code",
   "execution_count": null,
   "outputs": [],
   "source": [
    "def func(par1, par2): # par1 en par2 zijn parameters\n",
    "    print(par1)\n",
    "    print(par2)\n",
    "\n",
    "func(3, 4) # 3 en 4 zijn argumenten"
   ],
   "metadata": {
    "collapsed": false,
    "pycharm": {
     "name": "#%%\n"
    }
   }
  },
  {
   "cell_type": "markdown",
   "source": [
    "### 1.1.3. Vereiste en optionele parameters\n",
    "Een laatste eigenschap van input parameters die speciale aandacht verdient, is de mogelijkheid om een standaard waarde toe te kennen. In Python is het namelijk mogelijk om in de parameterlijst van je functie reeds een waarde toe te wijzen aan je parameter, dit noemt men dan een *keyword parameter*. Op die manier hoeft de oproeper van de functie die waarde zelf niet noodzakelijk mee te geven."
   ],
   "metadata": {
    "collapsed": false
   }
  },
  {
   "cell_type": "code",
   "execution_count": 4,
   "outputs": [
    {
     "name": "stdout",
     "output_type": "stream",
     "text": [
      "Hey, Jos!\n",
      "Hey, you!\n"
     ]
    }
   ],
   "source": [
    "def printGreeting(name='you'):\n",
    "    print(f'Hey, {name}!')\n",
    "\n",
    "printGreeting('Jos')\n",
    "printGreeting()"
   ],
   "metadata": {
    "collapsed": false,
    "pycharm": {
     "name": "#%%\n"
    }
   }
  },
  {
   "cell_type": "markdown",
   "source": [
    "De regel is dat *vereiste* (zonder standaard waarde) parameters altijd voor *optionele* (met standaard waarde) parameters gedeclareerd worden in een functiedefinitie. Omgekeerd is immers niet mogelijk in Python:"
   ],
   "metadata": {
    "collapsed": false
   }
  },
  {
   "cell_type": "code",
   "execution_count": 5,
   "outputs": [
    {
     "ename": "SyntaxError",
     "evalue": "non-default argument follows default argument (<ipython-input-5-df92ba967e05>, line 1)",
     "output_type": "error",
     "traceback": [
      "\u001B[1;36m  File \u001B[1;32m\"<ipython-input-5-df92ba967e05>\"\u001B[1;36m, line \u001B[1;32m1\u001B[0m\n\u001B[1;33m    def lotsOfParams(param1='1', param2):\u001B[0m\n\u001B[1;37m                     ^\u001B[0m\n\u001B[1;31mSyntaxError\u001B[0m\u001B[1;31m:\u001B[0m non-default argument follows default argument\n"
     ]
    }
   ],
   "source": [
    "def lotsOfParams(param1='1', param2):\n",
    "    print(f'Param 1: {param1}')\n",
    "    print(f'Param 2: {param2}')"
   ],
   "metadata": {
    "collapsed": false,
    "pycharm": {
     "name": "#%%\n"
    }
   }
  },
  {
   "cell_type": "markdown",
   "source": [
    "In het geval van optionele parameters is het aan de oproeper van de functie om te beslissen aan hoeveel en welke parameters er juist een waarde wordt toegekend. Wanneer in een functieoproep zowel de naam als de waarde van een argument meegegeven worden, spreken we over een *named argument*."
   ],
   "metadata": {
    "collapsed": false
   }
  },
  {
   "cell_type": "code",
   "execution_count": 6,
   "outputs": [
    {
     "name": "stdout",
     "output_type": "stream",
     "text": [
      "Param 0: 0\n",
      "Param 1: 5\n",
      "Param 2: 6\n",
      "Param 3: 3\n",
      "Param 4: 4\n",
      "----------\n",
      "Param 0: 0\n",
      "Param 1: 1\n",
      "Param 2: 2\n",
      "Param 3: 7\n",
      "Param 4: 4\n",
      "----------\n",
      "Param 0: 0\n",
      "Param 1: 1\n",
      "Param 2: 2\n",
      "Param 3: 3\n",
      "Param 4: 4\n",
      "----------\n"
     ]
    }
   ],
   "source": [
    "def lotsOfParams(param0, param1='1', param2='2', param3='3', param4='4'):\n",
    "    print(f'Param 0: {param0}')\n",
    "    print(f'Param 1: {param1}')\n",
    "    print(f'Param 2: {param2}')\n",
    "    print(f'Param 3: {param3}')\n",
    "    print(f'Param 4: {param4}')\n",
    "    print('----------')\n",
    "\n",
    "lotsOfParams('0', param1='5', param2='6')\n",
    "lotsOfParams('0', param3='7')\n",
    "lotsOfParams('0')"
   ],
   "metadata": {
    "collapsed": false,
    "pycharm": {
     "name": "#%%\n"
    }
   }
  },
  {
   "cell_type": "markdown",
   "source": [
    "Wanneer de parameterwaarden in de juiste volgorde worden meegegeven, hoeven de namen van de parameters zelfs niet vermeld te worden:"
   ],
   "metadata": {
    "collapsed": false
   }
  },
  {
   "cell_type": "code",
   "execution_count": 7,
   "outputs": [
    {
     "name": "stdout",
     "output_type": "stream",
     "text": [
      "Param 0: 8\n",
      "Param 1: 9\n",
      "Param 2: 7\n",
      "----------\n",
      "Param 0: 2\n",
      "Param 1: 4\n",
      "Param 2: 2\n",
      "----------\n",
      "Param 0: 5\n",
      "Param 1: 1\n",
      "Param 2: 2\n",
      "----------\n"
     ]
    }
   ],
   "source": [
    "def params(param0, param1='1', param2='2'):\n",
    "    print(f'Param 0: {param0}')\n",
    "    print(f'Param 1: {param1}')\n",
    "    print(f'Param 2: {param2}')\n",
    "    print('----------')\n",
    "\n",
    "params('8', '9', '7')\n",
    "params('2', '4')\n",
    "params('5')"
   ],
   "metadata": {
    "collapsed": false,
    "pycharm": {
     "name": "#%%\n"
    }
   }
  },
  {
   "cell_type": "markdown",
   "source": [
    "## 1.2. Output\n",
    "Net als bij de ingebouwde *type()* functie, kan ook onze eigen functie **output** genereren met behulp van de *return* statement. Deze gegevens kunnen vervolgens opgevangen (en eventueel verder verwerkt) worden door het stukje code dat de functie oproept. We grijpen ter illustratie even terug naar het voorbeeld van de beoordelingscijfers:"
   ],
   "metadata": {
    "collapsed": false
   }
  },
  {
   "cell_type": "code",
   "execution_count": null,
   "outputs": [],
   "source": [
    "maxGrade = 20\n",
    "\n",
    "grade1 = 18\n",
    "weight1 = 6\n",
    "\n",
    "grade2 = 12\n",
    "weight2 = 3\n",
    "\n",
    "def calculateWeightedGrade(grade, weight):\n",
    "    return grade / maxGrade * weight\n",
    "\n",
    "def calculateTotalWeight(weight1, weight2):\n",
    "    return weight1 + weight2\n",
    "\n",
    "def calculateWeightedPercentage(grade1, weight1, grade2, weight2):\n",
    "    weightedGrade1 = calculateWeightedGrade(grade1, weight1)\n",
    "    weightedGrade2 = calculateWeightedGrade(grade2, weight2)\n",
    "    totalWeight = calculateTotalWeight(weight1, weight2)\n",
    "    return (weightedGrade1 + weightedGrade2) / totalWeight * 100\n",
    "\n",
    "weightedPercentage = calculateWeightedPercentage(grade1, weight1, grade2, weight2)\n",
    "print(weightedPercentage)"
   ],
   "metadata": {
    "collapsed": false,
    "pycharm": {
     "name": "#%%\n"
    }
   }
  },
  {
   "cell_type": "markdown",
   "source": [
    "Wanneer een functie niets teruggeeft, geeft ze eigenlijk ook een waarde terug, namelijk *None*."
   ],
   "metadata": {
    "collapsed": false
   }
  },
  {
   "cell_type": "code",
   "execution_count": 16,
   "outputs": [
    {
     "name": "stdout",
     "output_type": "stream",
     "text": [
      "None\n"
     ]
    }
   ],
   "source": [
    "def add(number1, number2):\n",
    "    result = number1 + number2\n",
    "\n",
    "print(add(1, 2))"
   ],
   "metadata": {
    "collapsed": false,
    "pycharm": {
     "name": "#%%\n"
    }
   }
  },
  {
   "cell_type": "markdown",
   "source": [
    "## 1.3. Scope\n",
    "De scope van variabelen speelt een belangrijke rol bij het gebruik van functies. De scope van een variabele kan gezien worden als dat deel van de code waarin de variabele effectief gebruikt kan worden. Dit verschilt afhankelijk van de plaats waar deze variabele wordt aangemaakt:"
   ],
   "metadata": {
    "collapsed": false
   }
  },
  {
   "cell_type": "code",
   "execution_count": null,
   "outputs": [],
   "source": [
    "scope1 = 'global'\n",
    "\n",
    "def doSomething(scope2):\n",
    "    scope3 = 'inside function'\n",
    "    print(scope1)\n",
    "    print(scope2)\n",
    "    print(scope3)\n",
    "\n",
    "doSomething('function argument')\n",
    "\n",
    "print(scope1)"
   ],
   "metadata": {
    "collapsed": false,
    "pycharm": {
     "name": "#%%\n"
    }
   }
  },
  {
   "cell_type": "markdown",
   "source": [
    "Bovenstaand voorbeeld maakt duidelijk dat de globale scope de meest omvangrijke is. Een variabele die op dit niveau wordt aangemaakt, is overal beschikbaar. Variabelen die functies binnensluipen als argumenten, krijgen de scope van die functie toegewezen en kunnen dus enkel binnen diezelfde functie gebruikt worden. Hetzelfde geldt voor variabelen die binnen een functiedefinitie aangemaakt worden. Probeer zelf maar eens om de waarden van de variabelen *scope2* en *scope3* buiten hun functie te printen."
   ],
   "metadata": {
    "collapsed": false
   }
  },
  {
   "cell_type": "markdown",
   "source": [
    "Het hele scope verhaal wordt nòg interessanter wanneer variabelen elkaar gaan overschaduwen: dit fenomeen treedt op wanneer variabelen van verschillende scope dezelfde naam toegewezen krijgen. Het is zo soms niet meteen duidelijk welke waarde een variabele nu precies heeft, omdat ze elkaars waarden kunnen overnemen in bepaalde gevallen."
   ],
   "metadata": {
    "collapsed": false
   }
  },
  {
   "cell_type": "code",
   "execution_count": 8,
   "outputs": [
    {
     "name": "stdout",
     "output_type": "stream",
     "text": [
      "Inside function 1: argument\n",
      "Inside function 2: inside function\n",
      "Inside function 3: inside function\n",
      "Inside function 4: inside function\n",
      "Inside function 5: inside function\n",
      "Outside function 1: global\n",
      "Outside function 2: global\n",
      "Outside function 4: global\n",
      "Outside function 5: inside function\n"
     ]
    }
   ],
   "source": [
    "scope1 = 'global'\n",
    "scope2 = 'global'\n",
    "scope4 = 'global'\n",
    "scope5 = 'global'\n",
    "\n",
    "def doSomething(scope1, scope2, scope3):\n",
    "    global scope5\n",
    "    scope2 = 'inside function'\n",
    "    scope3 = 'inside function'\n",
    "    scope4 = 'inside function'\n",
    "    scope5 = 'inside function'\n",
    "    print(f'Inside function 1: {scope1}')\n",
    "    print(f'Inside function 2: {scope2}')\n",
    "    print(f'Inside function 3: {scope3}')\n",
    "    print(f'Inside function 4: {scope4}')\n",
    "    print(f'Inside function 5: {scope5}')\n",
    "\n",
    "doSomething('argument', 'argument', 'argument')\n",
    "print(f'Outside function 1: {scope1}')\n",
    "print(f'Outside function 2: {scope2}')\n",
    "print(f'Outside function 4: {scope4}')\n",
    "print(f'Outside function 5: {scope5}')"
   ],
   "metadata": {
    "collapsed": false,
    "pycharm": {
     "name": "#%%\n"
    }
   }
  },
  {
   "cell_type": "markdown",
   "source": [
    "Door in bovenstaand voorbeeld het *global* sleutelwoord te gebruiken, wordt binnenin de *doSomething()* functie expliciet een globale scope toegekend aan de variabele *scope5*. Zo is de functie toch in staat om de waarde van deze variabele te wijzigen. Voor de variabele *scope4* is dit niet mogelijk, aangezien daar het *global* sleutelwoord ontbreekt."
   ],
   "metadata": {
    "collapsed": false
   }
  },
  {
   "cell_type": "markdown",
   "source": [
    "# 2. Varia"
   ],
   "metadata": {
    "collapsed": false
   }
  },
  {
   "cell_type": "markdown",
   "source": [
    "## 2.1. Printen\n",
    "Je kan de *print()* functie ook oproepen met meer dan één argument, de waarden worden in dat geval van elkaar gescheiden door spaties:"
   ],
   "metadata": {
    "collapsed": false
   }
  },
  {
   "cell_type": "code",
   "execution_count": null,
   "outputs": [],
   "source": [
    "print('Number:', 3)\n",
    "print('True or false?', False)\n",
    "print('Lottery winners:', 'Jeff', 'Jos', 'Marcel')"
   ],
   "metadata": {
    "collapsed": false,
    "pycharm": {
     "name": "#%%\n"
    }
   }
  },
  {
   "cell_type": "markdown",
   "source": [
    "## 2.2. Niets doen\n",
    "Wanneer je een regel code wil schrijven die compleet niets doet, kan je gebruik maken van *pass*. Dit commando zorgt ervoor dat je regel code opgevuld wordt, maar er toch niets uitgevoerd/geëvalueerd wordt. Dit is vooral handig bij het definiëren van lege functies (vb. om later nog op te vullen)."
   ],
   "metadata": {
    "collapsed": false
   }
  },
  {
   "cell_type": "code",
   "execution_count": null,
   "outputs": [],
   "source": [
    "pass # deze regel code doet niets\n",
    "\n",
    "def doNothing(): # deze functie doet niets\n",
    "    pass\n",
    "\n",
    "doNothing()"
   ],
   "metadata": {
    "collapsed": false,
    "pycharm": {
     "name": "#%%\n"
    }
   }
  },
  {
   "cell_type": "markdown",
   "source": [
    "Merk op dat een functiedefinitie steeds code moet bevatten, zelfs wanneer je wil dat de functie niets doet. Hier is *pass* dus de enige oplossing."
   ],
   "metadata": {
    "collapsed": false
   }
  },
  {
   "cell_type": "code",
   "execution_count": null,
   "outputs": [],
   "source": [
    "def doNothing():\n",
    "\n",
    "doNothing()"
   ],
   "metadata": {
    "collapsed": false,
    "pycharm": {
     "name": "#%%\n"
    }
   }
  },
  {
   "cell_type": "markdown",
   "source": [
    "## 2.3. Functie als parameter\n",
    "In Python is het mogelijk om naast waarden ook functies mee te geven als argumenten bij het oproepen van een functie. Alle parameters van het type *function* kunnen in dat geval ook weer binnenin de opgeroepen functie opgeroepen worden."
   ],
   "metadata": {
    "collapsed": false
   }
  },
  {
   "cell_type": "code",
   "execution_count": 11,
   "outputs": [
    {
     "name": "stdout",
     "output_type": "stream",
     "text": [
      "3\n",
      "<class 'function'>\n",
      "20\n",
      "<class 'function'>\n"
     ]
    }
   ],
   "source": [
    "def add(number1, number2):\n",
    "    return number1 + number2\n",
    "\n",
    "def multiply(number1, number2):\n",
    "    return number1 * number2\n",
    "\n",
    "def execute(func, number1, number2):\n",
    "    return func(number1, number2)\n",
    "\n",
    "print(execute(add, 1, 2))\n",
    "print(type(add))\n",
    "print(execute(multiply, 4, 5))\n",
    "print(type(multiply))"
   ],
   "metadata": {
    "collapsed": false,
    "pycharm": {
     "name": "#%%\n"
    }
   }
  },
  {
   "cell_type": "markdown",
   "source": [
    "Let erop dat je een argument van het type *function* steeds zonder haakjes en eigen argumenten schrijft. Doe je dit niet, dan roep je de functie namelijk al op nog voor ze meegegeven kan worden als parameter. Het gevolg is dan dat het resultaat van die functie als parameter wordt meegegeven."
   ],
   "metadata": {
    "collapsed": false
   }
  },
  {
   "cell_type": "code",
   "execution_count": 17,
   "outputs": [
    {
     "ename": "TypeError",
     "evalue": "'NoneType' object is not callable",
     "output_type": "error",
     "traceback": [
      "\u001B[1;31m---------------------------------------------------------------------------\u001B[0m",
      "\u001B[1;31mTypeError\u001B[0m                                 Traceback (most recent call last)",
      "\u001B[1;32m<ipython-input-17-bccd18edd238>\u001B[0m in \u001B[0;36m<module>\u001B[1;34m\u001B[0m\n\u001B[0;32m      5\u001B[0m     \u001B[0mfunc\u001B[0m\u001B[1;33m(\u001B[0m\u001B[1;33m)\u001B[0m\u001B[1;33m\u001B[0m\u001B[1;33m\u001B[0m\u001B[0m\n\u001B[0;32m      6\u001B[0m \u001B[1;33m\u001B[0m\u001B[0m\n\u001B[1;32m----> 7\u001B[1;33m \u001B[0mexecute\u001B[0m\u001B[1;33m(\u001B[0m\u001B[0mdoNothing\u001B[0m\u001B[1;33m(\u001B[0m\u001B[1;33m)\u001B[0m\u001B[1;33m)\u001B[0m\u001B[1;33m\u001B[0m\u001B[1;33m\u001B[0m\u001B[0m\n\u001B[0m",
      "\u001B[1;32m<ipython-input-17-bccd18edd238>\u001B[0m in \u001B[0;36mexecute\u001B[1;34m(func)\u001B[0m\n\u001B[0;32m      3\u001B[0m \u001B[1;33m\u001B[0m\u001B[0m\n\u001B[0;32m      4\u001B[0m \u001B[1;32mdef\u001B[0m \u001B[0mexecute\u001B[0m\u001B[1;33m(\u001B[0m\u001B[0mfunc\u001B[0m\u001B[1;33m)\u001B[0m\u001B[1;33m:\u001B[0m\u001B[1;33m\u001B[0m\u001B[1;33m\u001B[0m\u001B[0m\n\u001B[1;32m----> 5\u001B[1;33m     \u001B[0mfunc\u001B[0m\u001B[1;33m(\u001B[0m\u001B[1;33m)\u001B[0m\u001B[1;33m\u001B[0m\u001B[1;33m\u001B[0m\u001B[0m\n\u001B[0m\u001B[0;32m      6\u001B[0m \u001B[1;33m\u001B[0m\u001B[0m\n\u001B[0;32m      7\u001B[0m \u001B[0mexecute\u001B[0m\u001B[1;33m(\u001B[0m\u001B[0mdoNothing\u001B[0m\u001B[1;33m(\u001B[0m\u001B[1;33m)\u001B[0m\u001B[1;33m)\u001B[0m\u001B[1;33m\u001B[0m\u001B[1;33m\u001B[0m\u001B[0m\n",
      "\u001B[1;31mTypeError\u001B[0m: 'NoneType' object is not callable"
     ]
    }
   ],
   "source": [
    "def doNothing():\n",
    "    pass\n",
    "\n",
    "def execute(func):\n",
    "    func()\n",
    "\n",
    "execute(doNothing())"
   ],
   "metadata": {
    "collapsed": false,
    "pycharm": {
     "name": "#%%\n"
    }
   }
  },
  {
   "cell_type": "markdown",
   "source": [
    "## 2.4. Lambda expressies"
   ],
   "metadata": {
    "collapsed": false
   }
  },
  {
   "cell_type": "markdown",
   "source": [
    "Een functie hoeft niet noodzakelijk apart gedefinieerd te worden om ze te kunnen meegeven als argument aan een andere functie. In dat geval schrijven we de functie als een *lambda* uitdrukking."
   ],
   "metadata": {
    "collapsed": false
   }
  },
  {
   "cell_type": "code",
   "execution_count": 20,
   "outputs": [
    {
     "name": "stdout",
     "output_type": "stream",
     "text": [
      "7\n",
      "12\n"
     ]
    }
   ],
   "source": [
    "def execute(func, number1, number2):\n",
    "    return func(number1, number2)\n",
    "\n",
    "addition = lambda n1, n2: n1 + n2\n",
    "multiplication = lambda n1, n2: n1 * n2\n",
    "\n",
    "print(execute(addition, 3, 4))\n",
    "print(execute(multiplication, 3, 4))"
   ],
   "metadata": {
    "collapsed": false,
    "pycharm": {
     "name": "#%%\n"
    }
   }
  },
  {
   "cell_type": "markdown",
   "source": [
    "Een *lambda* expressie start steeds met het sleutelwoord *lambda*, gevolgd door de parameters (gescheiden door komma's), een dubbelpunt en datgene wat door de functie teruggegeven dient te worden."
   ],
   "metadata": {
    "collapsed": false
   }
  },
  {
   "cell_type": "markdown",
   "source": [
    "# 3. Oefeningen"
   ],
   "metadata": {
    "collapsed": false
   }
  },
  {
   "cell_type": "markdown",
   "source": [
    "## 3.1. Rekenmachine\n",
    "Schrijf voor elk van de 4 elementaire wiskundige bewerkingen (+, -, *, /) een functie die die bewerking uitvoert op twee getallen. De oproeper van de functie beslist met welke twee getallen er gerekend zal worden en ontvangt achteraf ook het resultaat van de onderliggende bewerking."
   ],
   "metadata": {
    "collapsed": false
   }
  },
  {
   "cell_type": "code",
   "execution_count": null,
   "outputs": [],
   "source": [
    "def som():\n",
    "    pass\n",
    "\n",
    "def verschil():\n",
    "    pass\n",
    "\n",
    "def product():\n",
    "    pass\n",
    "\n",
    "def deling():\n",
    "    pass"
   ],
   "metadata": {
    "collapsed": false,
    "pycharm": {
     "name": "#%%\n"
    }
   }
  },
  {
   "cell_type": "markdown",
   "source": [
    "## 3.2. BTW\n",
    "Schrijf een functie die de BTW (21%) berekent op de ingegeven prijs en deze teruggeeft aan de oproeper."
   ],
   "metadata": {
    "collapsed": false
   }
  },
  {
   "cell_type": "code",
   "execution_count": null,
   "outputs": [],
   "source": [
    "def calculateTVA(price):\n",
    "    pass"
   ],
   "metadata": {
    "collapsed": false,
    "pycharm": {
     "name": "#%%\n"
    }
   }
  },
  {
   "cell_type": "markdown",
   "source": [
    "## 3.3. Boodschappen 2.0\n",
    "1. Stel een boodschappenlijstje op van maximaal 5 items en gebruik hiervoor een dictionary. Gebruik als sleutel het item in de boodschappenlijst en als waarde de prijs (exclusief BTW) van dat item.\n",
    "2. Schrijf een functie die de totale prijs van alle boodschappen berekent, inclusief BTW. Deze functie zal als parameter een functie aanvaarden die de BTW berekent. Een tweede parameter is het boodschappenlijstje zelf.\n",
    "3. Schrijf een tweede functie die de BTW berekent op de ingegeven prijs. Dit keer is het percentage 5% i.p.v. 21% (zie vorige oefening).\n",
    "4. Voer de totale prijsberekening van de boodschappenlijst uit voor beide BTW percentages en print de resultaten op een overzichtelijke manier.\n",
    "5. Schrijf je code op een efficiëntere manier door geen functies meer als argumenten door te geven."
   ],
   "metadata": {
    "collapsed": false
   }
  },
  {
   "cell_type": "code",
   "execution_count": null,
   "outputs": [],
   "source": [
    "def calculateTotalCost():\n",
    "    pass"
   ],
   "metadata": {
    "collapsed": false,
    "pycharm": {
     "name": "#%%\n"
    }
   }
  },
  {
   "cell_type": "markdown",
   "source": [
    "Bronnen:\n",
    "- [WikiBooks](https://nl.wikibooks.org/wiki/Programmeren_in_Python)"
   ],
   "metadata": {
    "collapsed": false
   }
  }
 ],
 "metadata": {
  "kernelspec": {
   "display_name": "Python 3",
   "language": "python",
   "name": "python3"
  },
  "language_info": {
   "codemirror_mode": {
    "name": "ipython",
    "version": 3
   },
   "file_extension": ".py",
   "mimetype": "text/x-python",
   "name": "python",
   "nbconvert_exporter": "python",
   "pygments_lexer": "ipython3",
   "version": "3.8.5"
  }
 },
 "nbformat": 4,
 "nbformat_minor": 1
}