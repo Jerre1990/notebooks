{
 "cells": [
  {
   "cell_type": "markdown",
   "metadata": {},
   "source": [
    "# 1. Voorwaardelijke uitdrukkingen\n",
    "Soms willen we een stukje code enkel uitvoeren indien aan een bepaalde voorwaarde voldaan is. Hiervoor maken we gebruik van de conditionele *if* statement die als enige parameter een uitdrukking aanvaardt die evalueert naar een booleaanse waarde."
   ]
  },
  {
   "cell_type": "code",
   "execution_count": 82,
   "metadata": {
    "pycharm": {
     "name": "#%%\n"
    }
   },
   "outputs": [
    {
     "name": "stdout",
     "output_type": "stream",
     "text": [
      "Dit wordt geprint\n"
     ]
    }
   ],
   "source": [
    "if True:\n",
    "    print('Dit wordt geprint')\n",
    "\n",
    "if False:\n",
    "    print('Dit niet')"
   ]
  },
  {
   "cell_type": "markdown",
   "metadata": {},
   "source": [
    "## 1.1. Operatoren\n",
    "In dit opzicht is het relevant om even stil te staan bij de belangrijkste soorten booleaanse operatoren."
   ]
  },
  {
   "cell_type": "markdown",
   "metadata": {},
   "source": [
    "Enerzijds zijn er de wiskundige operatoren die een booleaanse waarde als resultaat opleveren:\n",
    "- kleiner dan: *<*\n",
    "- groter dan: *>*\n",
    "- gelijk aan: *==*\n",
    "- niet gelijk aan: *!=*\n",
    "- kleiner of gelijk aan: *<=*\n",
    "- groter of gelijk aan: *>=*"
   ]
  },
  {
   "cell_type": "code",
   "execution_count": 83,
   "metadata": {
    "pycharm": {
     "name": "#%%\n"
    }
   },
   "outputs": [
    {
     "name": "stdout",
     "output_type": "stream",
     "text": [
      "True\n",
      "False\n",
      "False\n",
      "True\n",
      "True\n",
      "False\n"
     ]
    }
   ],
   "source": [
    "getal1 = 5\n",
    "getal2 = 6\n",
    "\n",
    "print(getal1 < getal2)\n",
    "print(getal1 > getal2)\n",
    "print(getal1 == getal2)\n",
    "print(getal1 != getal2)\n",
    "print(getal1 <= getal2)\n",
    "print(getal1 >= getal2)"
   ]
  },
  {
   "cell_type": "markdown",
   "metadata": {},
   "source": [
    "Anderzijds zijn er de pure booleaanse operatoren, waarvan zowel de input als output parameters van het type *boolean* zijn.\n",
    "- en: *and*\n",
    "- of: *or*\n",
    "- niet: *not*"
   ]
  },
  {
   "cell_type": "code",
   "execution_count": 84,
   "metadata": {
    "pycharm": {
     "name": "#%%\n"
    }
   },
   "outputs": [
    {
     "name": "stdout",
     "output_type": "stream",
     "text": [
      "AND: True\n",
      "AND: False\n",
      "AND: False\n",
      "OR: True\n",
      "OR: True\n",
      "OR: False\n",
      "NOT: False\n",
      "NOT: True\n"
     ]
    }
   ],
   "source": [
    "print(f'AND: {True and True}')\n",
    "print(f'AND: {True and False}')\n",
    "print(f'AND: {False and False}')\n",
    "\n",
    "print(f'OR: {True or True}')\n",
    "print(f'OR: {True or False}')\n",
    "print(f'OR: {False or False}')\n",
    "\n",
    "print(f'NOT: {not True}')\n",
    "print(f'NOT: {not False}')"
   ]
  },
  {
   "cell_type": "markdown",
   "metadata": {},
   "source": [
    "Door gebruik te maken van bovenstaande operatoren kunnen we onze conditionele uitdrukking nu uitbreiden:"
   ]
  },
  {
   "cell_type": "code",
   "execution_count": 85,
   "metadata": {
    "pycharm": {
     "name": "#%%\n"
    }
   },
   "outputs": [
    {
     "name": "stdout",
     "output_type": "stream",
     "text": [
      "This positive number only has one digit\n"
     ]
    }
   ],
   "source": [
    "number = 8\n",
    "\n",
    "if number > 0 and number < 10:\n",
    "    print('This positive number only has one digit')"
   ]
  },
  {
   "cell_type": "markdown",
   "metadata": {},
   "source": [
    "Merk op dat we zulke uitdrukkingen, waarbij meerdere soorten operatoren gecombineerd worden, soms in verkorte vorm kunnen noteren:"
   ]
  },
  {
   "cell_type": "code",
   "execution_count": 86,
   "metadata": {
    "pycharm": {
     "name": "#%%\n"
    }
   },
   "outputs": [
    {
     "name": "stdout",
     "output_type": "stream",
     "text": [
      "This positive number only has one digit\n"
     ]
    }
   ],
   "source": [
    "number = 8\n",
    "\n",
    "if 0 < number < 10:\n",
    "    print('This positive number only has one digit')"
   ]
  },
  {
   "cell_type": "markdown",
   "metadata": {},
   "source": [
    "## 1.2. Alternatieve code\n",
    "Als onderdeel van de *if* statement kan je ook aangeven welke code er dient uitgevoerd te worden indien **niet** aan de opgegeven voorwaarde voldaan is:"
   ]
  },
  {
   "cell_type": "code",
   "execution_count": 87,
   "metadata": {
    "pycharm": {
     "name": "#%%\n"
    }
   },
   "outputs": [
    {
     "name": "stdout",
     "output_type": "stream",
     "text": [
      "Niet deelbaar door 3\n"
     ]
    }
   ],
   "source": [
    "number = 5\n",
    "\n",
    "if number % 3 == 0:\n",
    "    print('Deelbaar door 3')\n",
    "else:\n",
    "    print('Niet deelbaar door 3')"
   ]
  },
  {
   "cell_type": "markdown",
   "metadata": {},
   "source": [
    "Het is zelfs mogelijk om meerdere voorwaarden neer te schrijven, in dat geval worden ze één voor één geëvalueerd. Wanneer aan een voorwaarde voldaan is, stopt de evaluatie en wordt de code uitgevoerd die aan die bepaalde voorwaarde voldoet."
   ]
  },
  {
   "cell_type": "code",
   "execution_count": 88,
   "metadata": {
    "pycharm": {
     "name": "#%%\n"
    }
   },
   "outputs": [
    {
     "name": "stdout",
     "output_type": "stream",
     "text": [
      "One digit\n",
      "Two digits\n",
      "Three digits\n",
      "Four or more digits\n",
      "Negative\n"
     ]
    }
   ],
   "source": [
    "def classifyNumber(number:int):\n",
    "    if number > 999:\n",
    "        print('Four or more digits')\n",
    "    elif number > 99:\n",
    "        print('Three digits')\n",
    "    elif number > 9:\n",
    "        print('Two digits')\n",
    "    elif number >= 0:\n",
    "        print('One digit')\n",
    "    else:\n",
    "        print('Negative')\n",
    "\n",
    "classifyNumber(8)\n",
    "classifyNumber(78)\n",
    "classifyNumber(345)\n",
    "classifyNumber(1000)\n",
    "classifyNumber(-20)"
   ]
  },
  {
   "cell_type": "markdown",
   "metadata": {},
   "source": [
    "# 2. Lussen\n",
    "Net als bij functies het geval is, is het doel van lussen om duplicate code tegen te gaan en hergebruik aan te moedigen. Functies kunnen deze problemen echter niet volledig alleen oplossen. Stel dat we bijvoorbeeld gevraagd worden een programma te schrijven dat een gegeven naam 10 keer print:"
   ]
  },
  {
   "cell_type": "code",
   "execution_count": 89,
   "metadata": {
    "pycharm": {
     "name": "#%%\n"
    }
   },
   "outputs": [
    {
     "name": "stdout",
     "output_type": "stream",
     "text": [
      "Name: Jos\n",
      "Name: Jos\n",
      "Name: Jos\n",
      "Name: Jos\n",
      "Name: Jos\n",
      "Name: Jos\n",
      "Name: Jos\n",
      "Name: Jos\n",
      "Name: Jos\n",
      "Name: Jos\n"
     ]
    }
   ],
   "source": [
    "def printName(name):\n",
    "    print(f'Name: {name}')\n",
    "\n",
    "def printNameTenTimes(name):\n",
    "    printName(name)\n",
    "    printName(name)\n",
    "    printName(name)\n",
    "    printName(name)\n",
    "    printName(name)\n",
    "    printName(name)\n",
    "    printName(name)\n",
    "    printName(name)\n",
    "    printName(name)\n",
    "    printName(name)\n",
    "\n",
    "printNameTenTimes('Jos')"
   ]
  },
  {
   "cell_type": "markdown",
   "metadata": {},
   "source": [
    "Hoewel bovenstaand stukje code werkt en doet wat het hoort te doen, is het duidelijk dat dit soort programma's allesbehalve onderhoudbaar zijn. De functiedefinities helpen ons om duidelijk te maken wat de code doet, maar slaagt er niet in om die code zo compact mogelijk te houden. Hiervoor zullen we beroep moeten doen op een lus: een commando dat toelaat om een bepaald stukje code herhaaldelijk uit te voeren zonder dat het telkens opnieuw neergeschreven dient te worden."
   ]
  },
  {
   "cell_type": "markdown",
   "metadata": {},
   "source": [
    "## 2.1. While lus\n",
    "De code binnenin een *while* lus wordt herhaald zolang aan de opgegeven voorwaarde voldaan is."
   ]
  },
  {
   "cell_type": "code",
   "execution_count": 90,
   "metadata": {
    "pycharm": {
     "name": "#%%\n"
    }
   },
   "outputs": [
    {
     "name": "stdout",
     "output_type": "stream",
     "text": [
      "10\n",
      "9\n",
      "8\n",
      "7\n",
      "6\n",
      "5\n",
      "4\n",
      "3\n",
      "2\n",
      "1\n",
      "BOOM!\n"
     ]
    }
   ],
   "source": [
    "countdown = 10\n",
    "\n",
    "while countdown > 0:\n",
    "    print(countdown)\n",
    "    countdown -= 1\n",
    "\n",
    "print('BOOM!')"
   ]
  },
  {
   "cell_type": "markdown",
   "metadata": {},
   "source": [
    "Het gebruik van de *while* lus brengt **één groot gevaar** met zich mee: **de oneindige lus**. Wanneer de opgegeven voorwaarde nooit evalueert naar *False*, zal de code binnenin de lus zich blijven herhalen tot in de oneindigheid. Dit proces slorpt enorm veel resources van je machine op en leidt vaak tot een programma, ontwikkelomgeving of zelfs machine die niet meer reageert."
   ]
  },
  {
   "cell_type": "markdown",
   "metadata": {},
   "source": [
    "## 2.2. For lus\n",
    "De code binnenin een *for* lus wordt herhaald op basis van een onderliggende sequentie. Die sequentie kan verschillende vormen aannemen: lijst, tuple, dictionary, string of range."
   ]
  },
  {
   "cell_type": "code",
   "execution_count": 91,
   "metadata": {
    "pycharm": {
     "name": "#%%\n"
    }
   },
   "outputs": [
    {
     "name": "stdout",
     "output_type": "stream",
     "text": [
      "A pineapple a day keeps the doctor away!\n",
      "A pear a day keeps the doctor away!\n",
      "A grape a day keeps the doctor away!\n",
      "Number: 2\n",
      "Number: 3\n",
      "Number: 4\n",
      "Key: 1\n",
      "Value: first\n",
      "Key: 2\n",
      "Value: second\n",
      "Key: 3\n",
      "Value: third\n",
      "Key: 1\n",
      "Key: 2\n",
      "Key: 3\n",
      "Value: first\n",
      "Value: second\n",
      "Value: third\n",
      "Letter: w\n",
      "Letter: o\n",
      "Letter: r\n",
      "Letter: d\n"
     ]
    }
   ],
   "source": [
    "fruit = ['pineapple', 'pear', 'grape']\n",
    "tuple = (2, 3, 4)\n",
    "dict = {1: 'first', 2: 'second', 3: 'third'}\n",
    "string = 'word'\n",
    "\n",
    "for piece in fruit:\n",
    "    print(f'A {piece} a day keeps the doctor away!')\n",
    "\n",
    "for number in tuple:\n",
    "    print(f'Number: {number}')\n",
    "\n",
    "for key, value in dict.items():\n",
    "    print(f'Key: {key}\\nValue: {value}')\n",
    "\n",
    "for key in dict:\n",
    "    print(f'Key: {key}')\n",
    "\n",
    "for value in dict.values():\n",
    "    print(f'Value: {value}')\n",
    "\n",
    "for letter in string:\n",
    "    print(f'Letter: {letter}')"
   ]
  },
  {
   "cell_type": "markdown",
   "metadata": {},
   "source": [
    "### 2.2.1. Range\n",
    "De *range()* functie verdient speciale aandacht. Deze functie genereert namelijk een sequentie die overlopen kan worden in een *for* lus. Het merkwaardige aan deze sequentie is dat ze buiten de categorie van lijst, tuple of dictionary valt."
   ]
  },
  {
   "cell_type": "code",
   "execution_count": 92,
   "metadata": {
    "pycharm": {
     "name": "#%%\n"
    }
   },
   "outputs": [
    {
     "name": "stdout",
     "output_type": "stream",
     "text": [
      "<class 'range'>\n"
     ]
    }
   ],
   "source": [
    "print(type(range(9)))"
   ]
  },
  {
   "cell_type": "markdown",
   "metadata": {},
   "source": [
    "De *range()* functie aanvaardt één vereiste en twee optionele parameters. De eerste parameter bepaalt wat de eerste waarde van de sequentie is, daar waar de tweede bepaalt wat de laatste waarde ervan is (deze parameter is altijd vereist). Een derde parameter biedt bovendien de mogelijkheid om de stap mee te geven die per element in de sequentie genomen dient te worden om tot het volgende element te komen. Een belangrijk aandachtspunt is het principe van in- en exclusiviteit: de eerste parameter is inclusief (maakt deel uit van de sequentie), de tweede is dat niet (maakt net geen deel meer uit van de sequentie)."
   ]
  },
  {
   "cell_type": "code",
   "execution_count": 93,
   "metadata": {
    "pycharm": {
     "name": "#%%\n"
    }
   },
   "outputs": [
    {
     "name": "stdout",
     "output_type": "stream",
     "text": [
      "Range(2)\n",
      "0\n",
      "1\n",
      "Range(1, 5)\n",
      "1\n",
      "2\n",
      "3\n",
      "4\n",
      "Range(2, 10, 3)\n",
      "2\n",
      "5\n",
      "8\n"
     ]
    }
   ],
   "source": [
    "print('Range(2)')\n",
    "for i in range(2):\n",
    "    print(i)\n",
    "\n",
    "print('Range(1, 5)')\n",
    "for i in range(1, 5):\n",
    "    print(i)\n",
    "\n",
    "print('Range(2, 10, 3)')\n",
    "for i in range(2, 10, 3):\n",
    "    print(i)"
   ]
  },
  {
   "cell_type": "markdown",
   "metadata": {},
   "source": [
    "## 2.3. Onderbreken\n",
    "Soms is het wenselijk om een lus vroegtijdig te onderbreken, dit kan op twee manieren: via een *continue* of een *break* statement."
   ]
  },
  {
   "cell_type": "markdown",
   "metadata": {},
   "source": [
    "### 2.3.1. Continue\n",
    "Een *continue* statement stopt de huidige iteratie van de lus en gaat meteen verder met de volgende iteratie (indien van toepassing)."
   ]
  },
  {
   "cell_type": "code",
   "execution_count": 94,
   "metadata": {
    "pycharm": {
     "name": "#%%\n"
    }
   },
   "outputs": [
    {
     "name": "stdout",
     "output_type": "stream",
     "text": [
      "0\n",
      "even\n",
      "1\n",
      "2\n",
      "even\n",
      "3\n",
      "4\n",
      "even\n",
      "5\n",
      "6\n",
      "even\n",
      "7\n",
      "8\n",
      "even\n",
      "9\n",
      "Finished!\n"
     ]
    }
   ],
   "source": [
    "for i in range(10):\n",
    "    print(i)\n",
    "    if i % 2 != 0:\n",
    "        continue\n",
    "    print('even')\n",
    "\n",
    "print('Finished!')"
   ]
  },
  {
   "cell_type": "markdown",
   "metadata": {},
   "source": [
    "### 2.3.1. Break\n",
    "Een *break* statement stopt de volledige lus onmiddellijk."
   ]
  },
  {
   "cell_type": "code",
   "execution_count": 95,
   "metadata": {
    "pycharm": {
     "name": "#%%\n"
    }
   },
   "outputs": [
    {
     "name": "stdout",
     "output_type": "stream",
     "text": [
      "0\n",
      "1\n",
      "2\n",
      "3\n",
      "4\n",
      "5\n",
      "Finished!\n"
     ]
    }
   ],
   "source": [
    "for i in range(10):\n",
    "    print(i)\n",
    "    if i == 5:\n",
    "        break\n",
    "\n",
    "print('Finished!')"
   ]
  },
  {
   "cell_type": "markdown",
   "metadata": {},
   "source": [
    "# 3. Varia"
   ]
  },
  {
   "cell_type": "markdown",
   "metadata": {},
   "source": [
    "## 3.1. Falsy & truthy\n",
    "Naast waarden van het type *boolean* kunnen waarden van een ander type eveneens evalueren naar *True* of *False* (en dus gebruikt worden als conditie in een *if* statement), dit noemt men respectievelijk *truthy* en *falsy* waarden. De lijst van *falsy* waarden is beperkt, wat overblijft zijn alle *truthy* waarden."
   ]
  },
  {
   "cell_type": "code",
   "execution_count": 96,
   "metadata": {
    "pycharm": {
     "name": "#%%\n"
    }
   },
   "outputs": [
    {
     "name": "stdout",
     "output_type": "stream",
     "text": [
      "Falsy: False, False, False, False, False, False, False\n",
      "These values are falsy!\n",
      "Truthy: True, True, True, True, True, True\n",
      "These values are truthy!\n"
     ]
    }
   ],
   "source": [
    "emptyList = []\n",
    "emptyDict = {}\n",
    "emptyTuple = ()\n",
    "emptyString = ''\n",
    "zeroInt = 0\n",
    "zeroFloat = 0.0\n",
    "null = None\n",
    "print(f'Falsy: {bool(emptyList)}, {bool(emptyDict)}, {bool(emptyTuple)}, {bool(emptyString)}, {bool(zeroInt)}, {bool(zeroFloat)}, {bool(null)}')\n",
    "if not emptyList and not emptyDict and not emptyTuple and not emptyString and not zeroInt and not zeroFloat and not null:\n",
    "    print('These values are falsy!')\n",
    "nonEmptyList = [1]\n",
    "nonEmptyDict = {1}\n",
    "nonEmptyTuple = (1)\n",
    "nonEmptyString = '1'\n",
    "nonZeroInt = 1\n",
    "nonZeroFloat = 1.1\n",
    "print(f'Truthy: {bool(nonEmptyList)}, {bool(nonEmptyDict)}, {bool(nonEmptyTuple)}, {bool(nonEmptyString)}, {bool(nonZeroInt)}, {bool(nonZeroFloat)}')\n",
    "if nonEmptyList and nonEmptyDict and nonEmptyTuple and nonEmptyString and nonZeroInt and nonZeroFloat:\n",
    "    print('These values are truthy!')"
   ]
  },
  {
   "cell_type": "markdown",
   "metadata": {},
   "source": [
    "## 3.2. Recursie\n",
    "Nu we conditionele *if* statements onder de knie hebben, zijn we ook in staat om recursieve functies te schrijven. Een recursieve functie is een functie die zichzelf oproept. Het is daarom noodzakelijk om een conditie in de functiecode te voorzien die ervoor zorgt dat de functie na een bepaalde tijd of een bepaald aantal oproepen zichzelf niet meer oproept. Als we dit niet doen, komen we immers in een oneindige lus terecht en dat dienen we te allen koste te vermijden."
   ]
  },
  {
   "cell_type": "code",
   "execution_count": 97,
   "metadata": {
    "pycharm": {
     "name": "#%%\n"
    }
   },
   "outputs": [
    {
     "name": "stdout",
     "output_type": "stream",
     "text": [
      "10\n",
      "9\n",
      "8\n",
      "7\n",
      "6\n",
      "5\n",
      "4\n",
      "3\n",
      "2\n",
      "1\n"
     ]
    }
   ],
   "source": [
    "def recursiveCountdown(n):\n",
    "    if n > 0:\n",
    "        print(n)\n",
    "        recursiveCountdown(n-1)\n",
    "\n",
    "recursiveCountdown(10)"
   ]
  },
  {
   "cell_type": "markdown",
   "metadata": {},
   "source": [
    "## 3.3. Argument unpacking\n",
    "We zagen reeds eerder dat collecties zoals een lijst, tuple en dictionary rechtstreeks uitgepakt kunnen worden in kleinere delen. Door middel van de *\\** operator kunnen we nog een stapje verder gaan. We kunnen op die manier namelijk sequenties en collecties uitpakken en meteen als argumenten meegeven bij het oproepen van een functie."
   ]
  },
  {
   "cell_type": "code",
   "execution_count": 98,
   "metadata": {
    "pycharm": {
     "name": "#%%\n"
    }
   },
   "outputs": [
    {
     "name": "stdout",
     "output_type": "stream",
     "text": [
      "Par1: 0\n",
      "Par2: 1\n",
      "Par3: 2\n",
      "Par1: one\n",
      "Par2: two\n",
      "Par3: three\n",
      "Par1: 2.2\n",
      "Par2: 3.3\n",
      "Par3: 4.4\n"
     ]
    }
   ],
   "source": [
    "def func(par1, par2, par3):\n",
    "    print(f'Par1: {par1}\\nPar2: {par2}\\nPar3: {par3}')\n",
    "\n",
    "r = range(3)\n",
    "l = ['one', 'two', 'three']\n",
    "t = (2.2, 3.3, 4.4)\n",
    "\n",
    "func(*r)\n",
    "func(*l)\n",
    "func(*t)"
   ]
  },
  {
   "cell_type": "markdown",
   "metadata": {},
   "source": [
    "Met behulp van de *\\*\\** operator kunnen we op dezelfde manier ook een dictionary uitpakken. In dat geval wordt elke sleutel geïnterpreteerd als de naam van een parameter en de bijhorende waarde als de waarde van het overeenkomstige argument. Merk op dat we met de *\\** operator ook een dictionary kunnen uitpakken, maar dat de sleutels dan geïnterpreteerd worden als argumenten."
   ]
  },
  {
   "cell_type": "code",
   "execution_count": 99,
   "metadata": {
    "pycharm": {
     "name": "#%%\n"
    }
   },
   "outputs": [
    {
     "name": "stdout",
     "output_type": "stream",
     "text": [
      "Par1: 0\n",
      "Par2: 1\n",
      "Par3: 2\n",
      "Par1: par2\n",
      "Par2: par1\n",
      "Par3: par3\n"
     ]
    }
   ],
   "source": [
    "def func(par1, par2, par3):\n",
    "    print(f'Par1: {par1}\\nPar2: {par2}\\nPar3: {par3}')\n",
    "\n",
    "d = {'par2': 1, 'par1': 0, 'par3': 2}\n",
    "\n",
    "func(**d)\n",
    "func(*d)"
   ]
  },
  {
   "cell_type": "markdown",
   "metadata": {},
   "source": [
    "## 3.4. List comprehensions\n",
    "Wanneer we code willen uitvoeren op elk element van een lijst, hoeven we hier niet noodzakelijk een volledige lus voor te schrijven. Python laat ons toe om in de lijst zelf een verkorte lus te definiëren, elk element afzonderlijk te manipuleren en zo een nieuwe lijst te maken."
   ]
  },
  {
   "cell_type": "code",
   "execution_count": 108,
   "metadata": {
    "pycharm": {
     "name": "#%%\n"
    }
   },
   "outputs": [
    {
     "name": "stdout",
     "output_type": "stream",
     "text": [
      "Transformed [2, 4, 6, 8, 10] into [1, 2, 3, 4, 5]\n"
     ]
    }
   ],
   "source": [
    "list = [2, 4, 6, 8, 10]\n",
    "manipulatedList = [e // 2 for e in list]\n",
    "print(f'Transformed {list} into {manipulatedList}')"
   ]
  },
  {
   "cell_type": "markdown",
   "metadata": {},
   "source": [
    "Op die manier kunnen we ook een nieuwe lijst maken door een lus te definiëren die over alle elementen van een andere collectie of sequentie loopt."
   ]
  },
  {
   "cell_type": "code",
   "execution_count": 113,
   "metadata": {
    "pycharm": {
     "name": "#%%\n"
    }
   },
   "outputs": [
    {
     "name": "stdout",
     "output_type": "stream",
     "text": [
      "Letters: ['w', 'o', 'r', 'd']\n",
      "Keys: ['one', 'two', 'three']\n",
      "Values: [1, 2, 3]\n",
      "Keys and values: ['Key = one & Value = 1', 'Key = two & Value = 2', 'Key = three & Value = 3']\n",
      "Numbers: [10, 11, 12]\n"
     ]
    }
   ],
   "source": [
    "word = 'word'\n",
    "letters = [l for l in word]\n",
    "print(f'Letters: {letters}')\n",
    "\n",
    "dict = {'one': 1, 'two': 2, 'three': 3}\n",
    "keys = [key for key in dict]\n",
    "print(f'Keys: {keys}')\n",
    "values  = [val for val in dict.values()]\n",
    "print(f'Values: {values}')\n",
    "keysAndValues = [f'Key = {k} & Value = {v}' for k, v in dict.items()]\n",
    "print(f'Keys and values: {keysAndValues}')\n",
    "\n",
    "tuple = 5, 6, 7\n",
    "numbers = [number + 5 for number in tuple]\n",
    "print(f'Numbers: {numbers}')"
   ]
  },
  {
   "cell_type": "markdown",
   "metadata": {},
   "source": [
    "We kunnen nog een stapje verder gaan en enkel elementen overlopen die voldoen aan een bepaalde voorwaarde."
   ]
  },
  {
   "cell_type": "code",
   "execution_count": 114,
   "metadata": {
    "pycharm": {
     "name": "#%%\n"
    }
   },
   "outputs": [
    {
     "name": "stdout",
     "output_type": "stream",
     "text": [
      "Even numbers: [2, 4, 6, 8, 10, 12, 14, 16, 18, 20, 22, 24, 26, 28, 30, 32, 34, 36, 38, 40, 42, 44, 46, 48, 50, 52, 54, 56, 58, 60, 62, 64, 66, 68, 70, 72, 74, 76, 78, 80, 82, 84, 86, 88, 90, 92, 94, 96, 98, 100]\n"
     ]
    }
   ],
   "source": [
    "numbers = range(1, 101)\n",
    "even = [number for number in numbers if number % 2 == 0]\n",
    "print(f'Even numbers: {even}')"
   ]
  },
  {
   "cell_type": "markdown",
   "metadata": {},
   "source": [
    "# 4. Oefeningen"
   ]
  },
  {
   "cell_type": "markdown",
   "metadata": {},
   "source": [
    "## 4.1. Even of oneven\n",
    "Schrijf een functie die je vertelt of een getal even is of niet. De input van deze functie is een getal, de output is een booleaanse waarde."
   ]
  },
  {
   "cell_type": "code",
   "execution_count": 100,
   "metadata": {
    "pycharm": {
     "name": "#%%\n"
    }
   },
   "outputs": [],
   "source": [
    "def even(n):\n",
    "    pass"
   ]
  },
  {
   "cell_type": "markdown",
   "metadata": {},
   "source": [
    "## 4.2. Gemiddelde\n",
    "Schrijf een functie die het gemiddelde van een willekeurige lijst getallen berekent en teruggeeft."
   ]
  },
  {
   "cell_type": "code",
   "execution_count": 101,
   "metadata": {
    "pycharm": {
     "name": "#%%\n"
    }
   },
   "outputs": [],
   "source": [
    "def mean(list):\n",
    "    pass"
   ]
  },
  {
   "cell_type": "markdown",
   "metadata": {},
   "source": [
    "## 4.3. Maximum\n",
    "Schrijf een functie die het maximum van een willekeurige lijst van getallen berekent en teruggeeft (zonder gebruik te maken van de ingebouwde *max()* functie)."
   ]
  },
  {
   "cell_type": "code",
   "execution_count": 102,
   "metadata": {
    "pycharm": {
     "name": "#%%\n"
    }
   },
   "outputs": [],
   "source": [
    "def calcMax(list):\n",
    "    pass"
   ]
  },
  {
   "cell_type": "markdown",
   "metadata": {},
   "source": [
    "## 4.4. Fibonacci\n",
    "Schrijf een functie die je een lijst teruggeeft van de eerste n waarden in de [rij van Fibonacci](https://nl.wikipedia.org/wiki/Rij_van_Fibonacci), waarbij het getal n als input meegegeven wordt aan de functie."
   ]
  },
  {
   "cell_type": "code",
   "execution_count": 103,
   "metadata": {
    "pycharm": {
     "name": "#%%\n"
    }
   },
   "outputs": [],
   "source": [
    "def fibonacci(n):\n",
    "    pass"
   ]
  },
  {
   "cell_type": "markdown",
   "metadata": {},
   "source": [
    "## 4.5. Kerstballen\n",
    "Schrijf een functie waaraan als input een lijst met kerstballen meegegeven wordt. Deze lijst bestaat uit strings en elk van die strings is een kleur. De functie geeft een dictionary terug met als sleutels de strings *rood*, *groen*, *blauw* en *overig* en als onderliggende waarden het aantal keer dat die bepaalde kleur kerstbal voorkomt in de lijst."
   ]
  },
  {
   "cell_type": "code",
   "execution_count": 104,
   "metadata": {
    "pycharm": {
     "name": "#%%\n"
    }
   },
   "outputs": [],
   "source": [
    "def christmas(list):\n",
    "    pass"
   ]
  },
  {
   "cell_type": "markdown",
   "metadata": {},
   "source": [
    "Bronnen:\n",
    "- [WikiBooks](https://nl.wikibooks.org/wiki/Programmeren_in_Python)"
   ]
  }
 ],
 "metadata": {
  "kernelspec": {
   "display_name": "Python 3 (ipykernel)",
   "language": "python",
   "name": "python3"
  },
  "language_info": {
   "codemirror_mode": {
    "name": "ipython",
    "version": 3
   },
   "file_extension": ".py",
   "mimetype": "text/x-python",
   "name": "python",
   "nbconvert_exporter": "python",
   "pygments_lexer": "ipython3",
   "version": "3.9.7"
  }
 },
 "nbformat": 4,
 "nbformat_minor": 1
}
