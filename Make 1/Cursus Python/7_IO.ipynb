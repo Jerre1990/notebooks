{
 "cells": [
  {
   "cell_type": "markdown",
   "source": [
    "# 1. Input\n",
    "Soms heb je als programmeur input van de eindgebruiker nodig op het moment dat die jouw programma gebruikt. In dat geval is het niet aangewezen om je programma voor gebruik nog even te gaan wijzigen. De input kan immers verschillen per gebruik, wat erop neer zou komen dat je je programma zou moeten aanpassen telkens de eindgebruiker beslist om het uit te voeren. Om dit soort situaties te vermijden, bestaan er manieren om op een interactieve manier input van de gebruiker op te vragen: in Python doen we dit met de *input* functie. Die functie laat de gebruiker een waarde van het type *string* invoeren via de *standaard input*, die dan ook wordt teruggegeven aan de oproeper ervan."
   ],
   "metadata": {
    "collapsed": false
   }
  },
  {
   "cell_type": "code",
   "execution_count": 27,
   "metadata": {
    "collapsed": true
   },
   "outputs": [
    {
     "name": "stdout",
     "output_type": "stream",
     "text": [
      "Hallo, e!\n"
     ]
    }
   ],
   "source": [
    "naam = input('Geef je naam in:')\n",
    "print(f'Hallo, {naam}!')"
   ]
  },
  {
   "cell_type": "markdown",
   "source": [
    "# 2. Output\n",
    "Om de gebruiker van een programma feedback te geven tijdens of na de uitvoer van een programma, kunnen we gebruik maken van de vertrouwde *print()* functie die haar argumenten toont via de *standaard output*."
   ],
   "metadata": {
    "collapsed": false,
    "pycharm": {
     "name": "#%% md\n"
    }
   }
  },
  {
   "cell_type": "code",
   "execution_count": 28,
   "outputs": [
    {
     "name": "stdout",
     "output_type": "stream",
     "text": [
      "Dit is leesbaar voor diegene die het programma uitvoert!\n"
     ]
    }
   ],
   "source": [
    "print('Dit is leesbaar voor diegene die het programma uitvoert!')"
   ],
   "metadata": {
    "collapsed": false,
    "pycharm": {
     "name": "#%%\n"
    }
   }
  },
  {
   "cell_type": "markdown",
   "source": [
    "# 3. Bestanden\n",
    "Het is niet alleen mogelijk om met de gebruiker te interageren via *standaard input* en *standaard output*, we kunnen in ons programma ook gegevens uitlezen uit of wegschrijven naar een bestand. Het is daarbij heel belangrijk om dat bestand ook altijd te sluiten na gebruik om onnodige belasting te vermijden van de machine waar het programma op uitgevoerd wordt, dit doen we aan de hand van de *close()* functie."
   ],
   "metadata": {
    "collapsed": false
   }
  },
  {
   "cell_type": "markdown",
   "source": [
    "## 3.1. Lezen\n",
    "Om gegevens uit te lezen uit een bestand gebruiken we de *open()* functie met als eerste argument de naam van het bestand en als tweede argument de letter *r* van *read* om het bestand te openen. Daarna lezen we de inhoud uit met de *read()* functie."
   ],
   "metadata": {
    "collapsed": false
   }
  },
  {
   "cell_type": "code",
   "execution_count": 29,
   "outputs": [
    {
     "name": "stdout",
     "output_type": "stream",
     "text": [
      "Dit is de inhoud van een bestand.\n",
      "En het bevat meerdere regels.\n",
      "Dit is de laatste.\n"
     ]
    }
   ],
   "source": [
    "f = open(\"demofile.txt\", \"r\")\n",
    "print(f.read())\n",
    "f.close()"
   ],
   "metadata": {
    "collapsed": false,
    "pycharm": {
     "name": "#%%\n"
    }
   }
  },
  {
   "cell_type": "markdown",
   "source": [
    "Naast de *read()* functie, kunnen we ook enkele andere functies gebruiken om de inhoud van een bestand op een gestructureerde manier uit te lezen. Merk op dat we in het voorbeeld hieronder de *seek()* functie gebruiken om de *leeskop* (cfr. het mechanisme van een platenspeler) opnieuw in de beginpositie te zetten."
   ],
   "metadata": {
    "collapsed": false
   }
  },
  {
   "cell_type": "code",
   "execution_count": 30,
   "outputs": [
    {
     "name": "stdout",
     "output_type": "stream",
     "text": [
      "Line 1: Dit is de inhoud van een bestand.\n",
      "\n",
      "Line 2: En het bevat meerdere regels.\n",
      "\n",
      "Line 3: Dit is de laatste.\n",
      "----------\n",
      "Line 1: \"Dit is de inhoud van een bestand.\"\n",
      "Line 2: \"En het bevat meerdere regels.\"\n",
      "Line 3: \"Dit is de laatste.\"\n",
      "----------\n",
      "Line 1: Dit is de inhoud van een bestand.\n",
      "\n",
      "Line 2: En het bevat meerdere regels.\n",
      "\n",
      "Line 3: Dit is de laatste.\n"
     ]
    }
   ],
   "source": [
    "f = open(\"fileread.txt\", \"r\")\n",
    "\n",
    "lineNumber = 0\n",
    "for line in f.readlines():\n",
    "    lineNumber += 1\n",
    "    print(f'Line {lineNumber}: {line}')\n",
    "\n",
    "f.seek(0)\n",
    "print('----------')\n",
    "\n",
    "lineNumber = 0\n",
    "for line in f.read().splitlines():\n",
    "    lineNumber += 1\n",
    "    print(f'Line {lineNumber}: \"{line}\"')\n",
    "\n",
    "f.seek(0)\n",
    "print('----------')\n",
    "\n",
    "lineNumber = 0\n",
    "line = f.readline()\n",
    "while line:\n",
    "    lineNumber += 1\n",
    "    print(f'Line {lineNumber}: {line}')\n",
    "    line = f.readline()\n",
    "\n",
    "f.close()"
   ],
   "metadata": {
    "collapsed": false,
    "pycharm": {
     "name": "#%%\n"
    }
   }
  },
  {
   "cell_type": "markdown",
   "source": [
    "## 3.2. Schrijven\n",
    "Om gegevens weg te schrijven naar een bestand gebruiken we de *open()* functie met als eerste argument de naam van het bestand en als tweede argument de letter *w* van *write* om het bestand te openen. Wanneer het bestand in kwestie nog niet bestaat, wordt het aangemaakt. Wanneer het wel bestaat, wordt de inhoud ervan overschreven. We schrijven de inhoud weg met de *write()* functie."
   ],
   "metadata": {
    "collapsed": false
   }
  },
  {
   "cell_type": "code",
   "execution_count": 31,
   "outputs": [],
   "source": [
    "f = open(\"filewrite.txt\", \"w\")\n",
    "\n",
    "f.write('Nieuwe inhoud.')\n",
    "\n",
    "f.close()"
   ],
   "metadata": {
    "collapsed": false,
    "pycharm": {
     "name": "#%%\n"
    }
   }
  },
  {
   "cell_type": "markdown",
   "source": [
    "Ook hier is het mogelijk om gegevens op andere manieren weg te schrijven dan met de *write()* functie."
   ],
   "metadata": {
    "collapsed": false
   }
  },
  {
   "cell_type": "code",
   "execution_count": 32,
   "outputs": [],
   "source": [
    "f = open(\"filewrite.txt\", \"w\")\n",
    "\n",
    "content = '''Eerste regel.\n",
    "Tweede regel.\n",
    "Derde regel.'''\n",
    "\n",
    "f.writelines(content.splitlines(keepends=True))\n",
    "f.write('\\nLaatste regel.')\n",
    "\n",
    "f.close()"
   ],
   "metadata": {
    "collapsed": false,
    "pycharm": {
     "name": "#%%\n"
    }
   }
  },
  {
   "cell_type": "markdown",
   "source": [
    "Wanneer we nu de *open()* functie oproepen met als tweede argument de letter *a* van *append* om een bestand te openen, dan overschrijven we de inhoud niet, maar voegen we eraan toe. Wanneer het bestand in kwestie nog niet bestaat, wordt het aangemaakt."
   ],
   "metadata": {
    "collapsed": false
   }
  },
  {
   "cell_type": "code",
   "execution_count": 33,
   "outputs": [],
   "source": [
    "f = open(\"fileappend.txt\", \"a\")\n",
    "\n",
    "f.write('Allerlaatste regel.\\n')\n",
    "\n",
    "f.close()"
   ],
   "metadata": {
    "collapsed": false,
    "pycharm": {
     "name": "#%%\n"
    }
   }
  },
  {
   "cell_type": "markdown",
   "source": [
    "# 4. Oefeningen"
   ],
   "metadata": {
    "collapsed": false
   }
  },
  {
   "cell_type": "markdown",
   "source": [
    "## 4.1. Magic 8 ball\n",
    "Schrijf een programma dat een [*magic 8 ball*](https://nl.wikipedia.org/wiki/Magic_8-Ball) simuleert. Je programma laat de gebruiker een vraag stellen en geeft daarna een antwoord op die vraag."
   ],
   "metadata": {
    "collapsed": false
   }
  },
  {
   "cell_type": "markdown",
   "source": [
    "## 4.2. Selectief lezen\n",
    "Lees het bestand *exerciseread.txt* volledig uit en print elke vierde regel."
   ],
   "metadata": {
    "collapsed": false
   }
  },
  {
   "cell_type": "markdown",
   "source": [
    "## 4.3. Schrijven\n",
    "Maak een bestand aan met de naam *exercisewrite.txt* en schrijf er de eerste 10 getallen van de [rij van Fibonacci](https://nl.wikipedia.org/wiki/Rij_van_Fibonacci) naar weg, elk op een aparte regel."
   ],
   "metadata": {
    "collapsed": false
   }
  },
  {
   "cell_type": "markdown",
   "source": [
    "## 4.4. Toevoegen\n",
    "Open het bestand met de naam *exercisewrite.txt* opnieuw en voeg onderaan op een nieuwe regel ook nog het elfde getal van de [rij van Fibonacci](https://nl.wikipedia.org/wiki/Rij_van_Fibonacci) toe."
   ],
   "metadata": {
    "collapsed": false
   }
  }
 ],
 "metadata": {
  "kernelspec": {
   "display_name": "Python 3",
   "language": "python",
   "name": "python3"
  },
  "language_info": {
   "codemirror_mode": {
    "name": "ipython",
    "version": 2
   },
   "file_extension": ".py",
   "mimetype": "text/x-python",
   "name": "python",
   "nbconvert_exporter": "python",
   "pygments_lexer": "ipython2",
   "version": "2.7.6"
  }
 },
 "nbformat": 4,
 "nbformat_minor": 0
}