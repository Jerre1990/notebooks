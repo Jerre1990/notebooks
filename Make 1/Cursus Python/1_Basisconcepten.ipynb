{
 "cells": [
  {
   "cell_type": "markdown",
   "source": [
    "# 1. Datatypes\n",
    "Gegevens zijn in een programma altijd van een bepaald type. Deze onderverdeling in verschillende types is noodzakelijk voor een programma om te weten welke bewerkingen op specifieke gegevens kunnen worden uitgevoerd. Wanneer we bijvoorbeeld een rekenkundige som willen uitrekenen, hebben we hiervoor minstens twee gegevens nodig van het type cijfer:"
   ],
   "metadata": {
    "collapsed": false
   }
  },
  {
   "cell_type": "code",
   "execution_count": 1,
   "outputs": [
    {
     "data": {
      "text/plain": "10"
     },
     "execution_count": 1,
     "metadata": {},
     "output_type": "execute_result"
    }
   ],
   "source": [
    "3 + 7"
   ],
   "metadata": {
    "collapsed": false,
    "pycharm": {
     "name": "#%%\n"
    }
   }
  },
  {
   "cell_type": "markdown",
   "source": [
    "Het resultaat van deze bewerking verandert volledig wanneer één van de twee gegevens geen cijfer is. Stel dat de tweede operand bijvoorbeeld een stukje tekst is, dan wordt de bewerking zelfs onmogelijk:"
   ],
   "metadata": {
    "collapsed": false
   }
  },
  {
   "cell_type": "code",
   "execution_count": 2,
   "outputs": [
    {
     "ename": "TypeError",
     "evalue": "unsupported operand type(s) for +: 'int' and 'str'",
     "output_type": "error",
     "traceback": [
      "\u001B[1;31m---------------------------------------------------------------------------\u001B[0m",
      "\u001B[1;31mTypeError\u001B[0m                                 Traceback (most recent call last)",
      "\u001B[1;32m<ipython-input-2-add39582e469>\u001B[0m in \u001B[0;36m<module>\u001B[1;34m\u001B[0m\n\u001B[1;32m----> 1\u001B[1;33m \u001B[1;36m3\u001B[0m \u001B[1;33m+\u001B[0m \u001B[1;34m'dit is een stukje tekst'\u001B[0m\u001B[1;33m\u001B[0m\u001B[1;33m\u001B[0m\u001B[0m\n\u001B[0m",
      "\u001B[1;31mTypeError\u001B[0m: unsupported operand type(s) for +: 'int' and 'str'"
     ]
    }
   ],
   "source": [
    "3 + 'dit is een stukje tekst'"
   ],
   "metadata": {
    "collapsed": false,
    "pycharm": {
     "name": "#%%\n"
    }
   }
  },
  {
   "cell_type": "markdown",
   "source": [
    "## 1.1 Types\n",
    "Over het algemeen kunnen we in de meeste programmeertalen volgende ruwe onderverdeling in datatypes terugvinden:"
   ],
   "metadata": {
    "collapsed": false
   }
  },
  {
   "cell_type": "markdown",
   "source": [
    "### 1.1.1 Gehele getallen\n",
    "Dit type omvat alle getallen zonder decimaal teken."
   ],
   "metadata": {
    "collapsed": false
   }
  },
  {
   "cell_type": "code",
   "execution_count": null,
   "outputs": [],
   "source": [
    "-40\n",
    "-3\n",
    "0\n",
    "7\n",
    "223"
   ],
   "metadata": {
    "collapsed": false,
    "pycharm": {
     "name": "#%%\n"
    }
   }
  },
  {
   "cell_type": "markdown",
   "source": [
    "### 1.1.2 Kommagetallen\n",
    "Op deze manier kunnen we getallen voorstellen met een decimaal teken."
   ],
   "metadata": {
    "collapsed": false
   }
  },
  {
   "cell_type": "code",
   "execution_count": null,
   "outputs": [],
   "source": [
    "-9.2\n",
    "3.9\n",
    "5.6"
   ],
   "metadata": {
    "collapsed": false,
    "pycharm": {
     "name": "#%%\n"
    }
   }
  },
  {
   "cell_type": "markdown",
   "source": [
    "### 1.1.3 Tekst\n",
    "Dit type omvat elke soort van tekst."
   ],
   "metadata": {
    "collapsed": false
   }
  },
  {
   "cell_type": "code",
   "execution_count": null,
   "outputs": [],
   "source": [
    "'Hello world'\n",
    "\"Hi there, world\""
   ],
   "metadata": {
    "collapsed": false,
    "pycharm": {
     "name": "#%%\n"
    }
   }
  },
  {
   "cell_type": "markdown",
   "source": [
    "### 1.1.4 Booleaanse waarden\n",
    "Hiermee wordt voorgesteld of iets waar of niet waar is."
   ],
   "metadata": {
    "collapsed": false
   }
  },
  {
   "cell_type": "code",
   "execution_count": null,
   "outputs": [],
   "source": [
    "True\n",
    "False"
   ],
   "metadata": {
    "collapsed": false,
    "pycharm": {
     "name": "#%%\n"
    }
   }
  },
  {
   "cell_type": "markdown",
   "source": [
    "### 1.1.5 Niets\n",
    "Dit type gebruiken we wanneer we iets willen voorstellen dat geen enkele waarde heeft."
   ],
   "metadata": {
    "collapsed": false
   }
  },
  {
   "cell_type": "code",
   "execution_count": null,
   "outputs": [],
   "source": [
    "None"
   ],
   "metadata": {
    "collapsed": false,
    "pycharm": {
     "name": "#%%\n"
    }
   }
  },
  {
   "cell_type": "markdown",
   "source": [
    "## 1.2 Type opvragen\n",
    "Python laat ons toe om het type van een bepaald stukje data op te vragen, zodat we steeds kunnen achterhalen met welk datatype we te maken hebben:"
   ],
   "metadata": {
    "collapsed": false
   }
  },
  {
   "cell_type": "code",
   "execution_count": null,
   "outputs": [],
   "source": [
    "print(type(-40))\n",
    "print(type(-9.2))\n",
    "print(type('Hello world'))\n",
    "print(type(True))\n",
    "print(type(None))"
   ],
   "metadata": {
    "collapsed": false,
    "pycharm": {
     "name": "#%%\n"
    }
   }
  },
  {
   "cell_type": "markdown",
   "source": [
    "Merk op dat de datatypes elk hun eigen specifieke naam krijgen. Deze kan echter verschillen per programmeertaal."
   ],
   "metadata": {
    "collapsed": false
   }
  },
  {
   "cell_type": "markdown",
   "source": [
    "| Engelstalige<br/>benaming | Nederlandstalige<br/>benaming  | Python type |\n",
    "|:--------------------------|:-------------------------------|:------------|\n",
    "| Integer                   | Geheel getal                   | int         |\n",
    "| Floating point            | Kommagetal                     | float       |\n",
    "| String                    | Tekst                          | str         |\n",
    "| Boolean                   | Booleaanse waarde              | bool        |\n",
    "| Null                      | Niets                          | NoneType    |"
   ],
   "metadata": {
    "collapsed": false
   }
  },
  {
   "cell_type": "markdown",
   "source": [
    "In het voorbeeld hierboven maken we gebruik van de functies *print()* en *type()*. In een later deel van de cursus zal worden uitgelegd wat functies juist zijn en hoe we er gebruik van kunnen maken in onze programma's."
   ],
   "metadata": {
    "collapsed": false
   }
  },
  {
   "cell_type": "markdown",
   "source": [
    "# 2. Commentaar\n",
    "In een programma wordt niet enkel werkende code geschreven. Vaak wordt code vergezeld van een woordje uitleg waaruit duidelijk blijkt wat het doel ervan is en hoe ze gebruikt dient te worden. Nog vaker is deze verduidelijking onderdeel van hetzelfde bestand waarin de code geschreven wordt: in dat geval spreken we over commentaar. Commentaar wordt in Python steeds voorafgegaan door een *#* (i.e. *hashtag*) en wordt nooit uitgevoerd."
   ],
   "metadata": {
    "collapsed": false
   }
  },
  {
   "cell_type": "code",
   "execution_count": null,
   "outputs": [],
   "source": [
    "# Dit is een regel commentaar die nooit zal worden uitgevoerd en dus ook geen foutmelding zal geven"
   ],
   "metadata": {
    "collapsed": false,
    "pycharm": {
     "name": "#%%\n"
    }
   }
  },
  {
   "cell_type": "markdown",
   "source": [
    "In principe laat Python enkel toe om commentaar regel per regel toe te voegen op basis van een *hashtag*. Via een omweg is het echter ook mogelijk om volledige blokken commentaar, bestaande uit meerdere regels, toe te voegen. Men dient daarvoor enkel een string te definiëren zonder deze aan een variabele (zie [verder](#4.-Variabelen)) te koppelen. Merk op dat de string hier wordt omsloten door een drievoud aan quotes om aan te geven dat de onderliggende tekst uit meerdere regels mag bestaan."
   ],
   "metadata": {
    "collapsed": false
   }
  },
  {
   "cell_type": "code",
   "execution_count": null,
   "outputs": [],
   "source": [
    "multilineString = '''First line.\n",
    "Second line.'''\n",
    "\n",
    "print(multilineString)\n",
    "\n",
    "'''Dit is een string die meerdere regels in beslag mag nemen.\n",
    "Via deze omweg kan men ook code voorzien van grotere blokken commentaar.'''"
   ],
   "metadata": {
    "collapsed": false,
    "pycharm": {
     "name": "#%%\n"
    }
   }
  },
  {
   "cell_type": "markdown",
   "source": [
    "# 3. Operatoren\n",
    "Op gegevens kunnen verschillende bewerkingen uitgevoerd worden. Hierboven werd reeds de optelling geïllustreerd, maar er zijn nog meer wiskundige basisoperatoren:\n",
    "- optelling: *+*\n",
    "- aftrekking: *-*\n",
    "- vermenigvuldiging: *\\**\n",
    "- deling (resultaat is altijd van het type *float*): */*"
   ],
   "metadata": {
    "collapsed": false
   }
  },
  {
   "cell_type": "code",
   "execution_count": null,
   "outputs": [],
   "source": [
    "print(2+3)\n",
    "print(5-6)\n",
    "print(8*4)\n",
    "print(6/3)"
   ],
   "metadata": {
    "collapsed": false,
    "pycharm": {
     "name": "#%%\n"
    }
   }
  },
  {
   "cell_type": "markdown",
   "source": [
    "Daarnaast biedt Python ook volgende operatoren aan:\n",
    "- gehele deling: *//*\n",
    "- modulo: *%*\n",
    "- machtsverheffing: *\\*\\**"
   ],
   "metadata": {
    "collapsed": false
   }
  },
  {
   "cell_type": "markdown",
   "source": [
    "## 3.1. Gehele deling\n",
    "In essentie voert deze operator dezelfde bewerking uit als de deling (*/*). Het grote verschil is dat in dit geval het resultaat naar beneden wordt afgerond en van het type *int* is."
   ],
   "metadata": {
    "collapsed": false
   }
  },
  {
   "cell_type": "code",
   "execution_count": null,
   "outputs": [],
   "source": [
    "print(4//2)\n",
    "print(5//2)"
   ],
   "metadata": {
    "collapsed": false,
    "pycharm": {
     "name": "#%%\n"
    }
   }
  },
  {
   "cell_type": "markdown",
   "source": [
    "## 3.2. Modulo\n",
    "De modulo operator voert opnieuw een deling uit op de input parameters, alleen wordt hier niet het resultaat maar de rest van die deling teruggegeven."
   ],
   "metadata": {
    "collapsed": false
   }
  },
  {
   "cell_type": "code",
   "execution_count": null,
   "outputs": [],
   "source": [
    "print(4%2) # 4 = (2 * 2) + 0\n",
    "print(5%2) # 5 = (2 * 2) + 1\n",
    "print(7%8) # 7 = (0 * 8) + 7\n",
    "print(7%5) # 7 = (1 * 5) + 2"
   ],
   "metadata": {
    "collapsed": false,
    "pycharm": {
     "name": "#%%\n"
    }
   }
  },
  {
   "cell_type": "markdown",
   "source": [
    "## 3.3. Machtsverheffing\n",
    "Een machtsverheffing is in principe niets meer dan een vermenigvuldiging, maar dan efficiënter genoteerd. De exponent (rechts) beschrijft hoe vaak je het grondtal (links) met zichzelf dient te vermenigvuldigen om tot het resultaat te komen."
   ],
   "metadata": {
    "collapsed": false
   }
  },
  {
   "cell_type": "code",
   "execution_count": null,
   "outputs": [],
   "source": [
    "print(4*4*4*4*4)\n",
    "print(4**5)\n",
    "\n",
    "print(8*8*8)\n",
    "print(8**3)"
   ],
   "metadata": {
    "collapsed": false,
    "pycharm": {
     "name": "#%%\n"
    }
   }
  },
  {
   "cell_type": "markdown",
   "source": [
    "# 4. Variabelen\n",
    "Wanneer we in ons programma werken met bepaalde gegevens, worden die zelden meteen verwerkt zonder tussentijdse opslag. Dit zou immers tot gevolg hebben dat onze code minder leesbaar wordt. Een voorbeeld van hoe het dus **NIET** moet:"
   ],
   "metadata": {
    "collapsed": false
   }
  },
  {
   "cell_type": "code",
   "execution_count": null,
   "outputs": [],
   "source": [
    "((18 / 20 * 6) + (12 / 20 * 3)) / (6 + 3) * 100"
   ],
   "metadata": {
    "collapsed": false,
    "pycharm": {
     "name": "#%%\n"
    }
   }
  },
  {
   "cell_type": "markdown",
   "source": [
    "Om beter te begrijpen wat we hier juist willen bereiken, slaan we sommige gegevens tijdelijk op in **variabelen**. Een variabele is dus een tijdelijke opslagplaats voor een gegeven waarde. Nadien kunnen we deze variabelen in onze code gebruiken alsof het de gegevens zelf zijn:"
   ],
   "metadata": {
    "collapsed": false
   }
  },
  {
   "cell_type": "code",
   "execution_count": null,
   "outputs": [],
   "source": [
    "maxGrade = 20\n",
    "\n",
    "grade1 = 18\n",
    "weight1 = 6\n",
    "\n",
    "grade2 = 12\n",
    "weight2 = 3\n",
    "\n",
    "weightedGrade1 = grade1 / maxGrade * weight1\n",
    "weightedGrade2 = grade2 / maxGrade * weight2\n",
    "totalWeight = weight1 + weight2\n",
    "(weightedGrade1 + weightedGrade2) / totalWeight * 100"
   ],
   "metadata": {
    "collapsed": false,
    "pycharm": {
     "name": "#%%\n"
    }
   }
  },
  {
   "cell_type": "markdown",
   "source": [
    "Dankzij de naamgeving en indeling van de variabelen is het nu duidelijk dat bovenstaand stukje code het totale gewogen percentage van twee beoordelingscijfers berekent."
   ],
   "metadata": {
    "collapsed": false
   }
  },
  {
   "cell_type": "markdown",
   "source": [
    "Het gebruik van variabelen brengt enkele belangrijke voordelen met zich mee:\n",
    "- **Leesbaarheid**<br>Een andere programmeur kan zonder al te veel moeite uit je code afleiden wat je programma juist doet.\n",
    "- **Aanpasbaarheid**<br>Wanneer er aanpassingen doorgevoerd dienen te worden, hoeft dit slechts op een beperkt aantal plaatsen te gebeuren. Wanneer er bijvoorbeeld beslist zou worden om het gewicht van het eerste vak op te krikken van 6 naar 9 studiepunten, dient enkel de waarde van de variabele *weight1* aangepast te worden."
   ],
   "metadata": {
    "collapsed": false
   }
  },
  {
   "cell_type": "markdown",
   "source": [
    "Een variabele kan elk soort waarde bijhouden:"
   ],
   "metadata": {
    "collapsed": false
   }
  },
  {
   "cell_type": "code",
   "execution_count": null,
   "outputs": [],
   "source": [
    "mySingleQuotedString = 'In Python kan je een string omsluiten met enkele quotes...'\n",
    "myDoubleQuotedString = \"...maar ook met dubbele quotes.\"\n",
    "myMultilineString = '''Je kan er zelfs voor zorgen...\n",
    "...dat je string op een andere lijn verder gaat'''\n",
    "myInt = 2\n",
    "myFloat = 3.4\n",
    "myBool = False\n",
    "myNull = None"
   ],
   "metadata": {
    "collapsed": false,
    "pycharm": {
     "name": "#%%\n"
    }
   }
  },
  {
   "cell_type": "markdown",
   "source": [
    "Een variabele is niet gebonden aan één enkele waarde. De waarde binnenin een variabele kan variëren, vandaar ook de naam. In Python is het zelfs zo dat een variabele niet gebonden is aan één enkel datatype."
   ],
   "metadata": {
    "collapsed": false
   }
  },
  {
   "cell_type": "code",
   "execution_count": null,
   "outputs": [],
   "source": [
    "myInt = 2\n",
    "myInt = 4\n",
    "myVar = 2\n",
    "myVar = False\n",
    "myVar = 'Stukje tekst'"
   ],
   "metadata": {
    "collapsed": false,
    "pycharm": {
     "name": "#%%\n"
    }
   }
  },
  {
   "cell_type": "markdown",
   "source": [
    "# 5. Varia"
   ],
   "metadata": {
    "collapsed": false
   }
  },
  {
   "cell_type": "markdown",
   "source": [
    "## 5.1. Printen\n",
    "Tot nu toe hebben we steeds waarden van het type *string* geprint. Het is echter ook mogelijk om andere waarden te printen:"
   ],
   "metadata": {
    "collapsed": false
   }
  },
  {
   "cell_type": "code",
   "execution_count": null,
   "outputs": [],
   "source": [
    "print(4)\n",
    "print(2.3)\n",
    "print(False)"
   ],
   "metadata": {
    "collapsed": false,
    "pycharm": {
     "name": "#%%\n"
    }
   }
  },
  {
   "cell_type": "markdown",
   "source": [
    "## 5.2. Toewijzingsoperatoren\n",
    "Naast de besproken operatoren, biedt Python ook varianten aan waarbij de waarde van het resultaat meteen toegewezen wordt aan de oorspronkelijke variabele:"
   ],
   "metadata": {
    "collapsed": false
   }
  },
  {
   "cell_type": "code",
   "execution_count": null,
   "outputs": [],
   "source": [
    "number = 0\n",
    "print('Number:')\n",
    "print(number)\n",
    "number += 20\n",
    "print('+ 20')\n",
    "print(number)\n",
    "number -= 3\n",
    "print('- 3')\n",
    "print(number)\n",
    "number %= 10\n",
    "print('% 10')\n",
    "print(number)\n",
    "number /= 2\n",
    "print('/ 2')\n",
    "print(number)\n",
    "number //= 2\n",
    "print('// 2')\n",
    "print(number)"
   ],
   "metadata": {
    "collapsed": false,
    "pycharm": {
     "name": "#%%\n"
    }
   }
  },
  {
   "cell_type": "markdown",
   "source": [
    "# 6. Oefeningen\n"
   ],
   "metadata": {
    "collapsed": false
   }
  },
  {
   "cell_type": "markdown",
   "source": [
    "## 6.1. Types\n",
    "Print het type uit van volgende variabelen:"
   ],
   "metadata": {
    "collapsed": false
   }
  },
  {
   "cell_type": "code",
   "execution_count": null,
   "outputs": [],
   "source": [
    "number1 = -40\n",
    "number2 = -9.2\n",
    "response = 'Hello world'\n",
    "succeeded = True\n",
    "nothing = None"
   ],
   "metadata": {
    "collapsed": false,
    "pycharm": {
     "name": "#%%\n"
    }
   }
  },
  {
   "cell_type": "markdown",
   "source": [
    "## 6.2. Commentaar\n",
    "Voeg vóór het volgend stukje code één enkele commentaarregel toe en ná het stukje code een blok commentaar die zich over meerdere regels uitstrekt."
   ],
   "metadata": {
    "collapsed": false
   }
  },
  {
   "cell_type": "code",
   "execution_count": null,
   "outputs": [],
   "source": [
    "\n",
    "print('This code will be enclosed by comments!')\n"
   ],
   "metadata": {
    "collapsed": false,
    "pycharm": {
     "name": "#%%\n"
    }
   }
  },
  {
   "cell_type": "markdown",
   "source": [
    "## 6.3. Operatoren\n",
    "Voer volgende berekeningen uit op de twee onderstaande variabelen:\n",
    "- som\n",
    "- verschil\n",
    "- vermenigvuldiging\n",
    "- deling\n",
    "- gehele deling\n",
    "- modulo\n",
    "- macht\n",
    "\n",
    "Stop je resultaat telkens in een nieuwe variabele."
   ],
   "metadata": {
    "collapsed": false
   }
  },
  {
   "cell_type": "code",
   "execution_count": 1,
   "outputs": [],
   "source": [
    "getal1 = 5\n",
    "getal2 = 2"
   ],
   "metadata": {
    "collapsed": false,
    "pycharm": {
     "name": "#%%\n"
    }
   }
  },
  {
   "cell_type": "markdown",
   "source": [
    "Bronnen:\n",
    "- [WikiBooks](https://nl.wikibooks.org/wiki/Programmeren_in_Python)\n",
    "- [Python docs](https://docs.python.org/3/tutorial/)"
   ],
   "metadata": {
    "collapsed": false
   }
  }
 ],
 "metadata": {
  "kernelspec": {
   "display_name": "Python 3",
   "language": "python",
   "name": "python3"
  },
  "language_info": {
   "codemirror_mode": {
    "name": "ipython",
    "version": 3
   },
   "file_extension": ".py",
   "mimetype": "text/x-python",
   "name": "python",
   "nbconvert_exporter": "python",
   "pygments_lexer": "ipython3",
   "version": "3.8.5"
  }
 },
 "nbformat": 4,
 "nbformat_minor": 1
}