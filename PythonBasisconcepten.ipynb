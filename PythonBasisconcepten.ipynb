{
 "cells": [
  {
   "cell_type": "markdown",
   "metadata": {
    "collapsed": true,
    "pycharm": {
     "name": "#%% md\n"
    }
   },
   "source": [
    "# 1. Datatypes\n",
    "Gegevens zijn in een programma altijd van een bepaald type. Deze onderverdeling in verschillende types is noodzakelijk voor een programma om te weten welke bewerkingen op specifieke gegevens kunnen worden uitgevoerd. Wanneer we bijvoorbeeld een rekenkundige som willen uitrekenen, hebben we hiervoor minstens twee gegevens nodig van het type cijfer:"
   ]
  },
  {
   "cell_type": "code",
   "execution_count": 1,
   "metadata": {
    "pycharm": {
     "name": "#%%\n"
    }
   },
   "outputs": [
    {
     "data": {
      "text/plain": "10"
     },
     "execution_count": 1,
     "metadata": {},
     "output_type": "execute_result"
    }
   ],
   "source": [
    "3 + 7"
   ]
  },
  {
   "cell_type": "markdown",
   "metadata": {},
   "source": [
    "Het resultaat van deze bewerking verandert volledig wanneer één van de twee gegevens geen cijfer is. Stel dat de tweede operand bijvoorbeeld een stukje tekst is, dan wordt de bewerking zelfs onmogelijk:"
   ]
  },
  {
   "cell_type": "code",
   "execution_count": 2,
   "metadata": {
    "pycharm": {
     "name": "#%%\n"
    }
   },
   "outputs": [
    {
     "ename": "TypeError",
     "evalue": "unsupported operand type(s) for +: 'int' and 'str'",
     "output_type": "error",
     "traceback": [
      "\u001B[1;31m---------------------------------------------------------------------------\u001B[0m",
      "\u001B[1;31mTypeError\u001B[0m                                 Traceback (most recent call last)",
      "\u001B[1;32m<ipython-input-2-add39582e469>\u001B[0m in \u001B[0;36m<module>\u001B[1;34m\u001B[0m\n\u001B[1;32m----> 1\u001B[1;33m \u001B[1;36m3\u001B[0m \u001B[1;33m+\u001B[0m \u001B[1;34m'dit is een stukje tekst'\u001B[0m\u001B[1;33m\u001B[0m\u001B[1;33m\u001B[0m\u001B[0m\n\u001B[0m",
      "\u001B[1;31mTypeError\u001B[0m: unsupported operand type(s) for +: 'int' and 'str'"
     ]
    }
   ],
   "source": [
    "3 + 'dit is een stukje tekst'"
   ]
  },
  {
   "cell_type": "markdown",
   "metadata": {},
   "source": [
    "Over het algemeen kunnen we in de meeste programmeertalen volgende ruwe onderverdeling in datatypes terugvinden:\n",
    "- Gehele getallen\n",
    "- Kommagetallen\n",
    "- Tekst\n",
    "- Booleaanse waarden (waar of niet waar)\n",
    "- Niets (wanneer je iets wil voorstellen dat geen enkele waarde heeft)"
   ]
  },
  {
   "cell_type": "markdown",
   "metadata": {},
   "source": [
    "## 1.1 Types\n",
    "### 1.1.1 Gehele getallen"
   ]
  },
  {
   "cell_type": "code",
   "execution_count": null,
   "outputs": [],
   "source": [
    "-40\n",
    "-3\n",
    "0\n",
    "7\n",
    "223"
   ],
   "metadata": {
    "collapsed": false,
    "pycharm": {
     "name": "#%%\n"
    }
   }
  },
  {
   "cell_type": "markdown",
   "source": [
    "### 1.1.2 Kommagetallen"
   ],
   "metadata": {
    "collapsed": false
   }
  },
  {
   "cell_type": "code",
   "execution_count": null,
   "outputs": [],
   "source": [
    "-9.2\n",
    "3.9\n",
    "5.6"
   ],
   "metadata": {
    "collapsed": false,
    "pycharm": {
     "name": "#%%\n"
    }
   }
  },
  {
   "cell_type": "markdown",
   "source": [
    "### 1.1.3 Tekst"
   ],
   "metadata": {
    "collapsed": false
   }
  },
  {
   "cell_type": "code",
   "execution_count": null,
   "outputs": [],
   "source": [
    "'Hello world'\n",
    "\"Hi there, world\""
   ],
   "metadata": {
    "collapsed": false,
    "pycharm": {
     "name": "#%%\n"
    }
   }
  },
  {
   "cell_type": "markdown",
   "source": [
    "### 1.1.4 Booleaanse waarden"
   ],
   "metadata": {
    "collapsed": false
   }
  },
  {
   "cell_type": "code",
   "execution_count": null,
   "outputs": [],
   "source": [
    "True\n",
    "False"
   ],
   "metadata": {
    "collapsed": false,
    "pycharm": {
     "name": "#%%\n"
    }
   }
  },
  {
   "cell_type": "markdown",
   "source": [
    "### 1.1.5 Niets"
   ],
   "metadata": {
    "collapsed": false
   }
  },
  {
   "cell_type": "code",
   "execution_count": null,
   "metadata": {
    "pycharm": {
     "name": "#%%\n"
    }
   },
   "outputs": [],
   "source": [
    "None"
   ]
  },
  {
   "cell_type": "markdown",
   "metadata": {},
   "source": [
    "## 1.2 Type opvragen\n",
    "Python laat ons toe om het type van een bepaald stukje data op te vragen, zodat we steeds kunnen achterhalen met welk datatype we te maken hebben:"
   ]
  },
  {
   "cell_type": "code",
   "execution_count": null,
   "metadata": {
    "pycharm": {
     "name": "#%%\n"
    }
   },
   "outputs": [],
   "source": [
    "print(type(-40))\n",
    "print(type(-9.2))\n",
    "print(type('Hello world'))\n",
    "print(type(True))\n",
    "print(type(None))"
   ]
  },
  {
   "cell_type": "markdown",
   "metadata": {},
   "source": [
    "In het voorbeeld hierboven maken we gebruik van de functies *print()* en *type()*. [Verderop](#Functies) zal worden uitgelegd wat functies juist zijn en hoe we er gebruik van kunnen maken in onze programma's."
   ]
  },
  {
   "cell_type": "markdown",
   "source": [
    "# 2. Commentaar\n",
    "In een programma wordt niet enkel werkende code geschreven. Vaak wordt code vergezeld van een woordje uitleg waaruit duidelijk blijkt wat het doel ervan is en hoe ze gebruikt dient te worden. Nog vaker is deze verduidelijking onderdeel van hetzelfde bestand waarin de code geschreven wordt: in dat geval spreken we over commentaar. Commentaar wordt in Python steeds voorafgegaan door een *#* (i.e. *hashtag*) en wordt nooit uitgevoerd."
   ],
   "metadata": {
    "collapsed": false
   }
  },
  {
   "cell_type": "code",
   "execution_count": null,
   "outputs": [],
   "source": [
    "# Dit is een regel commentaar die nooit zal worden uitgevoerd en dus ook geen foutmelding zal geven"
   ],
   "metadata": {
    "collapsed": false,
    "pycharm": {
     "name": "#%%\n"
    }
   }
  },
  {
   "cell_type": "markdown",
   "source": [
    "In principe laat Python enkel toe om commentaar regel per regel toe te voegen op basis van een *hashtag*. Via een omweg is het echter ook mogelijk om volledige blokken commentaar, bestaande uit meerdere regels, toe te voegen. Men dient daarvoor enkel een string te definiëren zonder deze aan een variabele te koppelen. Merk op dat de string hier wordt omsloten door een drievoud aan quotes om aan te geven dat de onderliggende tekst uit meerdere regels mag bestaan."
   ],
   "metadata": {
    "collapsed": false
   }
  },
  {
   "cell_type": "code",
   "execution_count": null,
   "outputs": [],
   "source": [
    "multilineString = '''First line.\n",
    "Second line.'''\n",
    "\n",
    "print(multilineString)\n",
    "\n",
    "'''Dit is een string die meerdere regels in beslag mag nemen.\n",
    "Via deze omweg kan men ook code voorzien van grotere blokken commentaar.'''"
   ],
   "metadata": {
    "collapsed": false,
    "pycharm": {
     "name": "#%%\n"
    }
   }
  },
  {
   "cell_type": "markdown",
   "source": [
    "# 3. Operatoren\n",
    "Op gegevens kunnen verschillende bewerkingen uitgevoerd worden. Hierboven werd reeds de optelling geïllustreerd, maar er zijn nog meer wiskundige basisoperatoren:\n",
    "- optelling: *+*\n",
    "- aftrekking: *-*\n",
    "- vermenigvuldiging: *\\**\n",
    "- deling (resultaat is altijd van het type *float*): */*"
   ],
   "metadata": {
    "collapsed": false
   }
  },
  {
   "cell_type": "code",
   "execution_count": null,
   "outputs": [],
   "source": [
    "print(2+3)\n",
    "print(5-6)\n",
    "print(8*4)\n",
    "print(6/3)"
   ],
   "metadata": {
    "collapsed": false,
    "pycharm": {
     "name": "#%%\n"
    }
   }
  },
  {
   "cell_type": "markdown",
   "source": [
    "Daarnaast biedt Python ook volgende operatoren aan:\n",
    "- gehele deling: *//*\n",
    "- modulo: *%*\n",
    "- machtsverheffing: *\\*\\**"
   ],
   "metadata": {
    "collapsed": false
   }
  },
  {
   "cell_type": "markdown",
   "source": [
    "## 3.1. Gehele deling\n",
    "In essentie voert deze operator dezelfde bewerking uit als de deling (*/*). Het grote verschil is dat in dit geval het resultaat naar beneden wordt afgerond en van het type *int* is."
   ],
   "metadata": {
    "collapsed": false
   }
  },
  {
   "cell_type": "code",
   "execution_count": null,
   "outputs": [],
   "source": [
    "print(4//2)\n",
    "print(5//2)"
   ],
   "metadata": {
    "collapsed": false,
    "pycharm": {
     "name": "#%%\n"
    }
   }
  },
  {
   "cell_type": "markdown",
   "source": [
    "## 3.2. Modulo\n",
    "De modulo operator voert opnieuw een deling uit op de input parameters, alleen wordt hier niet het resultaat maar de rest van die deling teruggegeven."
   ],
   "metadata": {
    "collapsed": false
   }
  },
  {
   "cell_type": "code",
   "execution_count": null,
   "outputs": [],
   "source": [
    "print(4%2) # 4 = (2 * 2) + 0\n",
    "print(5%2) # 5 = (2 * 2) + 1\n",
    "print(7%8) # 7 = (0 * 8) + 7\n",
    "print(7%5) # 7 = (1 * 5) + 2"
   ],
   "metadata": {
    "collapsed": false,
    "pycharm": {
     "name": "#%%\n"
    }
   }
  },
  {
   "cell_type": "markdown",
   "source": [
    "## 3.3. Machtsverheffing\n",
    "Een machtsverheffing is in principe niets meer dan een vermenigvuldiging, maar dan efficiënter genoteerd. De exponent (rechts) beschrijft hoe vaak je het grondtal (links) met zichzelf dient te vermenigvuldigen om tot het resultaat te komen."
   ],
   "metadata": {
    "collapsed": false
   }
  },
  {
   "cell_type": "code",
   "execution_count": null,
   "outputs": [],
   "source": [
    "print(4*4*4*4*4)\n",
    "print(4**5)\n",
    "\n",
    "print(8*8*8)\n",
    "print(8**3)"
   ],
   "metadata": {
    "collapsed": false,
    "pycharm": {
     "name": "#%%\n"
    }
   }
  },
  {
   "cell_type": "markdown",
   "metadata": {
    "pycharm": {
     "name": "#%% md\n"
    }
   },
   "source": [
    "# 4. Variabelen\n",
    "Wanneer we in ons programma werken met bepaalde gegevens, worden die zelden meteen verwerkt zonder tussentijdse opslag. Dit zou immers tot gevolg hebben dat onze code minder leesbaar wordt. Een voorbeeld van hoe het dus **NIET** moet:"
   ]
  },
  {
   "cell_type": "code",
   "execution_count": null,
   "metadata": {
    "pycharm": {
     "name": "#%%\n"
    }
   },
   "outputs": [],
   "source": [
    "((18 / 20 * 6) + (12 / 20 * 3)) / (6 + 3) * 100"
   ]
  },
  {
   "cell_type": "markdown",
   "metadata": {},
   "source": [
    "Om beter te begrijpen wat we hier juist willen bereiken, slaan we sommige gegevens tijdelijk op in **variabelen**. Een variabele is dus een tijdelijke opslagplaats voor een gegeven waarde. Nadien kunnen we deze variabelen in onze code gebruiken alsof het de gegevens zelf zijn:"
   ]
  },
  {
   "cell_type": "code",
   "execution_count": null,
   "metadata": {
    "pycharm": {
     "name": "#%%\n"
    }
   },
   "outputs": [],
   "source": [
    "maxGrade = 20\n",
    "\n",
    "grade1 = 18\n",
    "weight1 = 6\n",
    "\n",
    "grade2 = 12\n",
    "weight2 = 3\n",
    "\n",
    "weightedGrade1 = grade1 / maxGrade * weight1\n",
    "weightedGrade2 = grade2 / maxGrade * weight2\n",
    "totalWeight = weight1 + weight2\n",
    "(weightedGrade1 + weightedGrade2) / totalWeight * 100"
   ]
  },
  {
   "cell_type": "markdown",
   "metadata": {},
   "source": [
    "Dankzij de naamgeving en indeling van de variabelen is het nu duidelijk dat bovenstaand stukje code het totale gewogen percentage van twee beoordelingscijfers berekent."
   ]
  },
  {
   "cell_type": "markdown",
   "metadata": {},
   "source": [
    "Het gebruik van variabelen brengt enkele belangrijke voordelen met zich mee:\n",
    "- **Leesbaarheid**<br>Een andere programmeur kan zonder al te veel moeite uit je code afleiden wat je programma juist doet.\n",
    "- **Aanpasbaarheid**<br>Wanneer er aanpassingen doorgevoerd dienen te worden, hoeft dit slechts op een beperkt aantal plaatsen te gebeuren. Wanneer er bijvoorbeeld beslist zou worden om het gewicht van het eerste vak op te krikken van 6 naar 9 studiepunten, dient enkel de waarde van de variabele *weight1* aangepast te worden."
   ]
  },
  {
   "cell_type": "markdown",
   "metadata": {},
   "source": [
    "Een variabele kan elk soort waarde bijhouden:"
   ]
  },
  {
   "cell_type": "code",
   "execution_count": null,
   "metadata": {
    "pycharm": {
     "name": "#%%\n"
    }
   },
   "outputs": [],
   "source": [
    "mySingleQuotedString = 'In Python kan je een string omsluiten met enkele quotes...'\n",
    "myDoubleQuotedString = \"...maar ook met dubbele quotes.\"\n",
    "myMultilineString = '''Je kan er zelfs voor zorgen...\n",
    "...dat je string op een andere lijn verder gaat'''\n",
    "myInt = 2\n",
    "myFloat = 3.4\n",
    "myBool = False\n",
    "myNull = None"
   ]
  },
  {
   "cell_type": "markdown",
   "metadata": {},
   "source": [
    "Een variabele is niet gebonden aan één enkele waarde. De waarde binnenin een variabele kan variëren, vandaar ook de naam. In Python is het zelfs zo dat een variabele niet gebonden is aan één enkel datatype."
   ]
  },
  {
   "cell_type": "code",
   "execution_count": null,
   "metadata": {
    "pycharm": {
     "name": "#%%\n"
    }
   },
   "outputs": [],
   "source": [
    "myInt = 2\n",
    "myInt = 4\n",
    "myVar = 2\n",
    "myVar = False\n",
    "myVar = 'Stukje tekst'"
   ]
  },
  {
   "cell_type": "markdown",
   "metadata": {},
   "source": [
    "# 5. Functies\n",
    "Daar waar variabelen leesbaarheid en aanpasbaarheid van code in de hand werken, helpen functies om je code **herbruikbaar** te maken. Een functie is namelijk een afgezonderd stukje code dat meerdere keren uitgevoerd kan worden: code die je hergebruikt, hoef je dus maar één keer te schrijven."
   ]
  },
  {
   "cell_type": "code",
   "execution_count": null,
   "metadata": {
    "pycharm": {
     "name": "#%%\n"
    }
   },
   "outputs": [],
   "source": [
    "def printHelloWorldAndPeople():\n",
    "    print('Hello world!')\n",
    "    print('Hello people!')\n",
    "    print('---------')"
   ]
  },
  {
   "cell_type": "markdown",
   "metadata": {},
   "source": [
    "In bovenstaand stukje code maken we de *printHelloWorldAndPeople()* functie aan: deze definieert drie lijnen code die elk een stukje tekst printen. Er wordt echter nog niets geprint: de regels code binnenin een functie worden pas uitgevoerd wanneer de functie opgeroepen wordt."
   ]
  },
  {
   "cell_type": "markdown",
   "metadata": {},
   "source": [
    "**Merk op dat indentatie (i.e. inspringing) van cruciaal belang is in een Python programma:** op die manier wordt immers aangeduid wanneer een functiedefinitie eindigt en het normale (i.e. sequentiële) verloop van je code weer opgepikt wordt. Later zal blijken dat indentatie ook voor [controlestructuren](#Controlestructuren) een belangrijke rol speelt."
   ]
  },
  {
   "cell_type": "code",
   "execution_count": null,
   "metadata": {
    "pycharm": {
     "name": "#%%\n"
    }
   },
   "outputs": [],
   "source": [
    "printHelloWorldAndPeople()"
   ]
  },
  {
   "cell_type": "markdown",
   "metadata": {},
   "source": [
    "Wanneer we nu, zoals hierboven, onze functie oproepen, worden alle lijnen code die deel uitmaken van de functiedefinitie uitgevoerd. Op deze manier wordt het eenvoudig om volledige blokken code (i.e. wat zich binnen de functiedefinitie bevindt) meerdere keren uit te voeren:"
   ]
  },
  {
   "cell_type": "code",
   "execution_count": null,
   "metadata": {
    "pycharm": {
     "name": "#%%\n"
    }
   },
   "outputs": [],
   "source": [
    "printHelloWorldAndPeople()\n",
    "printHelloWorldAndPeople()\n",
    "printHelloWorldAndPeople()"
   ]
  },
  {
   "cell_type": "markdown",
   "source": [
    "## 5.1. Input\n",
    "Net als bij de ingebouwde *print()* functie, kan ook onze eigen functie **input** ontvangen. Deze gegevens kunnen vervolgens verder verwerkt worden binnen de functiedefinitie:"
   ],
   "metadata": {
    "collapsed": false
   }
  },
  {
   "cell_type": "code",
   "execution_count": null,
   "outputs": [],
   "source": [
    "def printGreeting(name):\n",
    "    greeting = 'Hello, ' + name + '!'\n",
    "    print(greeting)\n",
    "\n",
    "printGreeting('Jos')\n",
    "printGreeting('Jeff')"
   ],
   "metadata": {
    "collapsed": false,
    "pycharm": {
     "name": "#%%\n"
    }
   }
  },
  {
   "cell_type": "markdown",
   "source": [
    "Merk op dat enkel de referentie naar het object wordt meegegeven als input aan de functie. Deze referentie blijft ongewijzigd door de functie-aanroep, wat tot gevolg heeft dat ook *immutable* (i.e. niet-muteerbare) objecten (zoals *int*, *float*, *str*, *bool*) geen blijvende wijzigingen kunnen ondergaan wanneer zij deel uitmaken van de parameterlijst van een functie. Tijdelijke wijzigingen binnenin de functie zelf hebben wel effect."
   ],
   "metadata": {
    "collapsed": false
   }
  },
  {
   "cell_type": "code",
   "execution_count": null,
   "outputs": [],
   "source": [
    "def changeName(name):\n",
    "    name = 'Jeff'\n",
    "    print('Inside function: ' + name)\n",
    "\n",
    "myName = 'Jos'\n",
    "print(myName)\n",
    "changeName(myName)\n",
    "print(myName)"
   ],
   "metadata": {
    "collapsed": false,
    "pycharm": {
     "name": "#%%\n"
    }
   }
  },
  {
   "cell_type": "markdown",
   "source": [
    "### 5.1.2. Parameters en argumenten\n",
    "De variabelen die als input in de definitie van een functie vermeld staan, worden parameters genoemd. Wanneer de functie effectief opgeroepen wordt en er waarden aan die parameters worden toegekend, spreken we over argumenten."
   ],
   "metadata": {
    "collapsed": false
   }
  },
  {
   "cell_type": "code",
   "execution_count": null,
   "outputs": [],
   "source": [
    "def func(par1, par2): # par1 en par2 zijn parameters\n",
    "    print(par1)\n",
    "    print(par2)\n",
    "\n",
    "func(3, 4) # 3 en 4 zijn argumenten"
   ],
   "metadata": {
    "collapsed": false,
    "pycharm": {
     "name": "#%%\n"
    }
   }
  },
  {
   "cell_type": "markdown",
   "source": [
    "### 5.1.3. Vereiste en optionele parameters\n",
    "Een laatste eigenschap van input parameters die speciale aandacht verdient, is de mogelijkheid om een standaard waarde toe te kennen. In Python is het namelijk mogelijk om in de parameterlijst van je functie reeds een waarde toe te wijzen aan je parameter, dit noemt men dan een *keyword parameter*. Op die manier hoeft de oproeper van de functie die waarde zelf niet noodzakelijk mee te geven."
   ],
   "metadata": {
    "collapsed": false
   }
  },
  {
   "cell_type": "code",
   "execution_count": null,
   "outputs": [],
   "source": [
    "def printGreeting(name='you'):\n",
    "    print('Hey, ' + name + '!')\n",
    "\n",
    "printGreeting('Jos')\n",
    "printGreeting()"
   ],
   "metadata": {
    "collapsed": false,
    "pycharm": {
     "name": "#%%\n"
    }
   }
  },
  {
   "cell_type": "markdown",
   "source": [
    "De regel is dat *vereiste* (zonder standaard waarde) parameters altijd voor *optionele* (met standaard waarde) parameters gedeclareerd worden in een functiedefinitie. Omgekeerd is immers niet mogelijk in Python:"
   ],
   "metadata": {
    "collapsed": false
   }
  },
  {
   "cell_type": "code",
   "execution_count": null,
   "outputs": [],
   "source": [
    "def lotsOfParams(param1='1', param2):\n",
    "    print('Param 1: ' + param1)\n",
    "    print('Param 2: ' + param2)"
   ],
   "metadata": {
    "collapsed": false,
    "pycharm": {
     "name": "#%%\n"
    }
   }
  },
  {
   "cell_type": "markdown",
   "source": [
    "In het geval van optionele parameters is het aan de oproeper van de functie om te beslissen aan hoeveel en welke parameters er juist een waarde wordt toegekend. Wanneer in een functieoproep zowel de naam als de waarde van een argument meegegeven worden, spreken we over een *named argument*."
   ],
   "metadata": {
    "collapsed": false
   }
  },
  {
   "cell_type": "code",
   "execution_count": null,
   "outputs": [],
   "source": [
    "def lotsOfParams(param0, param1='1', param2='2', param3='3', param4='4'):\n",
    "    print('Param 0: ' + param0)\n",
    "    print('Param 1: ' + param1)\n",
    "    print('Param 2: ' + param2)\n",
    "    print('Param 3: ' + param3)\n",
    "    print('Param 4: ' + param4)\n",
    "    print('----------')\n",
    "\n",
    "lotsOfParams('0', param1='5', param2='6')\n",
    "lotsOfParams('0', param3='7')\n",
    "lotsOfParams('0')"
   ],
   "metadata": {
    "collapsed": false,
    "pycharm": {
     "name": "#%%\n"
    }
   }
  },
  {
   "cell_type": "markdown",
   "source": [
    "Wanneer de parameterwaarden in de juiste volgorde worden meegegeven, hoeven de namen van de parameters zelfs niet vermeld te worden:"
   ],
   "metadata": {
    "collapsed": false
   }
  },
  {
   "cell_type": "code",
   "execution_count": 6,
   "outputs": [
    {
     "name": "stdout",
     "output_type": "stream",
     "text": [
      "Param 0: 8\n",
      "Param 1: 9\n",
      "Param 2: 7\n",
      "----------\n",
      "Param 0: 2\n",
      "Param 1: 4\n",
      "Param 2: 2\n",
      "----------\n",
      "Param 0: 5\n",
      "Param 1: 1\n",
      "Param 2: 2\n",
      "----------\n"
     ]
    }
   ],
   "source": [
    "def params(param0, param1='1', param2='2'):\n",
    "    print('Param 0: ' + param0)\n",
    "    print('Param 1: ' + param1)\n",
    "    print('Param 2: ' + param2)\n",
    "    print('----------')\n",
    "\n",
    "params('8', '9', '7')\n",
    "params('2', '4')\n",
    "params('5')"
   ],
   "metadata": {
    "collapsed": false,
    "pycharm": {
     "name": "#%%\n"
    }
   }
  },
  {
   "cell_type": "markdown",
   "metadata": {},
   "source": [
    "## 5.2. Output\n",
    "Net als bij de ingebouwde *type()* functie, kan ook onze eigen functie **output** genereren met behulp van de *return* statement. Deze gegevens kunnen vervolgens opgevangen (en eventueel verder verwerkt) worden door het stukje code dat de functie oproept. We grijpen ter illustratie even terug naar het voorbeeld van de beoordelingscijfers:"
   ]
  },
  {
   "cell_type": "code",
   "execution_count": null,
   "outputs": [],
   "source": [
    "maxGrade = 20\n",
    "\n",
    "grade1 = 18\n",
    "weight1 = 6\n",
    "\n",
    "grade2 = 12\n",
    "weight2 = 3\n",
    "\n",
    "def calculateWeightedGrade(grade, weight):\n",
    "    return grade / maxGrade * weight\n",
    "\n",
    "def calculateTotalWeight(weight1, weight2):\n",
    "    return weight1 + weight2\n",
    "\n",
    "def calculateWeightedPercentage(grade1, weight1, grade2, weight2):\n",
    "    weightedGrade1 = calculateWeightedGrade(grade1, weight1)\n",
    "    weightedGrade2 = calculateWeightedGrade(grade2, weight2)\n",
    "    totalWeight = calculateTotalWeight(weight1, weight2)\n",
    "    return (weightedGrade1 + weightedGrade2) / totalWeight * 100\n",
    "\n",
    "weightedPercentage = calculateWeightedPercentage(grade1, weight1, grade2, weight2)\n",
    "print(weightedPercentage)"
   ],
   "metadata": {
    "collapsed": false,
    "pycharm": {
     "name": "#%%\n"
    }
   }
  },
  {
   "cell_type": "markdown",
   "source": [
    "## 5.3. Scope\n",
    "De scope van variabelen speelt een belangrijke rol bij het gebruik van functies. De scope van een variabele kan gezien worden als dat deel van de code waarin de variabele effectief gebruikt kan worden. Dit verschilt afhankelijk van de plaats waar deze variabele wordt aangemaakt:"
   ],
   "metadata": {
    "collapsed": false
   }
  },
  {
   "cell_type": "code",
   "execution_count": null,
   "outputs": [],
   "source": [
    "scope1 = 'global'\n",
    "\n",
    "def doSomething(scope2):\n",
    "    scope3 = 'inside function'\n",
    "    print(scope1)\n",
    "    print(scope2)\n",
    "    print(scope3)\n",
    "\n",
    "doSomething('function argument')\n",
    "\n",
    "print(scope1)"
   ],
   "metadata": {
    "collapsed": false,
    "pycharm": {
     "name": "#%%\n"
    }
   }
  },
  {
   "cell_type": "markdown",
   "source": [
    "Bovenstaand voorbeeld maakt duidelijk dat de globale scope de meest omvangrijke is. Een variabele die op dit niveau wordt aangemaakt, is overal beschikbaar. Variabelen die functies binnensluipen als argumenten, krijgen de scope van die functie toegewezen en kunnen dus enkel binnen diezelfde functie gebruikt worden. Hetzelfde geldt voor variabelen die binnen een functiedefinitie aangemaakt worden. Probeer zelf maar eens om de waarden van de variabelen *scope2* en *scope3* buiten hun functie te printen."
   ],
   "metadata": {
    "collapsed": false
   }
  },
  {
   "cell_type": "markdown",
   "source": [
    "Het hele scope verhaal wordt nòg interessanter wanneer variabelen elkaar gaan overschaduwen: dit fenomeen treedt op wanneer variabelen van verschillende scope dezelfde naam toegewezen krijgen. Het is zo soms niet meteen duidelijk welke waarde een variabele nu precies heeft, omdat ze elkaars waarden kunnen overnemen in bepaalde gevallen."
   ],
   "metadata": {
    "collapsed": false
   }
  },
  {
   "cell_type": "code",
   "execution_count": null,
   "outputs": [],
   "source": [
    "scope1 = 'global'\n",
    "scope2 = 'global'\n",
    "scope4 = 'global'\n",
    "scope5 = 'global'\n",
    "\n",
    "def doSomething(scope1, scope2, scope3):\n",
    "    global scope5\n",
    "    scope2 = 'inside function'\n",
    "    scope3 = 'inside function'\n",
    "    scope4 = 'inside function'\n",
    "    scope5 = 'inside function'\n",
    "    print('Inside function 1: ' + scope1)\n",
    "    print('Inside function 2: ' + scope2)\n",
    "    print('Inside function 3: ' + scope3)\n",
    "    print('Inside function 4: ' + scope4)\n",
    "    print('Inside function 5: ' + scope5)\n",
    "\n",
    "doSomething('argument', 'argument', 'argument')\n",
    "print('Outside function 1: ' + scope1)\n",
    "print('Outside function 2: ' + scope2)\n",
    "print('Outside function 4: ' + scope4)\n",
    "print('Outside function 5: ' + scope5)"
   ],
   "metadata": {
    "collapsed": false,
    "pycharm": {
     "name": "#%%\n"
    }
   }
  },
  {
   "cell_type": "markdown",
   "source": [
    "Door in bovenstaand voorbeeld het *global* sleutelwoord te gebruiken, wordt binnenin de *doSomething()* functie expliciet een globale scope toegekend aan de variabele *scope5*. Zo is de functie toch in staat om de waarde van deze variabele te wijzigen. Voor de variabele *scope4* is dit niet mogelijk, aangezien daar het *global* sleutelwoord ontbreekt."
   ],
   "metadata": {
    "collapsed": false
   }
  },
  {
   "cell_type": "markdown",
   "metadata": {
    "pycharm": {
     "name": "#%% md\n"
    }
   },
   "source": [
    "# 6. Datastructuren\n",
    "Naast primitieve [datatypes](#Datatypes) voorzien de meeste programmeertalen ook de mogelijkheid om data te aggregeren op een gestructureerde manier. In Python zijn de bekendste vormen hiervan een lijst, tuple en dictionary. Wanneer een datastructuur een andere datastructuur van hetzelfde type bevat, spreekt men over een *geneste* lijst/tuple/dictionary."
   ]
  },
  {
   "cell_type": "markdown",
   "source": [
    "## 6.1 Lijst\n",
    "Een lijst is een geordende verzameling van waarden die niet noodzakelijk van hetzelfde type hoeven te zijn."
   ],
   "metadata": {
    "collapsed": false
   }
  },
  {
   "cell_type": "code",
   "execution_count": null,
   "outputs": [],
   "source": [
    "myEmptyList = []\n",
    "myIntList = [1, 3, 5, 7]\n",
    "myStrList = ['one', 'three', 'five', 'seven']\n",
    "myFloatList = [4.3, 9.7, 3.0]\n",
    "myMixedList = [False, 'Hi there', 8, 2.34, None, [1, 'Yes', True, 8.8]]"
   ],
   "metadata": {
    "collapsed": false,
    "pycharm": {
     "name": "#%%\n"
    }
   }
  },
  {
   "cell_type": "markdown",
   "source": [
    "Indexering is een techniek waarbij je slechts een deel van een lijst opvraagt op basis van een index. Let er echter steeds op dat indexen in Python (evenals de meeste programmeertalen) beginnen bij 0 en niet bij 1. Een tweede aandachtspunt is dat bij deellijsten het eerste argument een index voorstelt die deel uitmaakt van de deellijst (i.e. het eerste element), daar waar de tweede index net geen deel meer uitmaakt van de deellijst."
   ],
   "metadata": {
    "collapsed": false
   }
  },
  {
   "cell_type": "code",
   "execution_count": null,
   "outputs": [],
   "source": [
    "myList = ['one', 'three', 'five', 'seven']\n",
    "print('First: ' + myList[0])\n",
    "print('Second: ' + myList[1])\n",
    "print('Last: ' + myList[-1])\n",
    "print('Second to last: ' + myList[-2])\n",
    "print('Sublist (second, third and fourth): ' + str(myList[1:4])) # de str() functie maakt van de lijst een string"
   ],
   "metadata": {
    "collapsed": false,
    "pycharm": {
     "name": "#%%\n"
    }
   }
  },
  {
   "cell_type": "markdown",
   "source": [
    "Naast indexeren, kunnen we nog een hele reeks andere operaties uitvoeren op lijsten:"
   ],
   "metadata": {
    "collapsed": false
   }
  },
  {
   "cell_type": "code",
   "execution_count": null,
   "outputs": [],
   "source": [
    "myList = [1, 2, 4, 5] # originele lijst\n",
    "print(myList)\n",
    "\n",
    "myList.append(6) # element 6 achteraan toevoegen\n",
    "print(myList)\n",
    "\n",
    "myList.insert(2, 3) # element 3 toevoegen op positie met index 2\n",
    "print(myList)\n",
    "\n",
    "del myList[1] # element met index 1 verwijderen\n",
    "print(myList)"
   ],
   "metadata": {
    "collapsed": false,
    "pycharm": {
     "name": "#%%\n"
    }
   }
  },
  {
   "cell_type": "markdown",
   "source": [
    "## 6.2 Tuple\n",
    "Een tuple is een geordende verzameling van waarden die niet noodzakelijk van hetzelfde type hoeven te zijn, net als een lijst. Het grote verschil is dat een lijst aangepast kan worden en een tuple niet: zodra een tuple is aangemaakt, kan die niet meer gewijzigd worden."
   ],
   "metadata": {
    "collapsed": false
   }
  },
  {
   "cell_type": "code",
   "execution_count": null,
   "outputs": [],
   "source": [
    "myTuple = 1, 2, 3, 4\n",
    "myTupleWithBrackets = (1, 2, 3, 4) # je kan een tuple ook aanmaken met haakjes rond, maar dat hoeft niet\n",
    "print(myTuple[0]) # eerste element"
   ],
   "metadata": {
    "collapsed": false,
    "pycharm": {
     "name": "#%%\n"
    }
   }
  },
  {
   "cell_type": "markdown",
   "source": [
    "## 6.3 Dictionary\n",
    "Een dictionary is een verzameling van sleutel-waarde paren die opnieuw niet noodzakelijk van hetzelfde type hoeven te zijn."
   ],
   "metadata": {
    "collapsed": false
   }
  },
  {
   "cell_type": "code",
   "execution_count": null,
   "outputs": [],
   "source": [
    "myEmptyDict = {}\n",
    "myStrIntDict = {'one': 1, 'two': 2, 'three': 3}\n",
    "myIntStrDict = {1: 'one', 2: 'two', 3: 'three'}\n",
    "myMixedDict = {1.1: 'Hi there', True: 4}\n",
    "myNestedDict = {'dict1': myStrIntDict, 'dict2': myIntStrDict, 'dict3': myMixedDict}\n",
    "\n",
    "print(myMixedDict[1.1]) # waarde met sleutel 1.1\n",
    "myMixedDict['additional'] = 55 # waarde 55 toevoegen met sleutel 'additional'\n",
    "print(myMixedDict)\n",
    "myMixedDict[True] = False # waarde 4 vervangen door waarde False voor sleutel True\n",
    "print(myMixedDict)\n",
    "del myMixedDict[1.1] # sleutel 1.1 met bijhorende waarde verwijderen\n",
    "print(myMixedDict)"
   ],
   "metadata": {
    "collapsed": false,
    "pycharm": {
     "name": "#%%\n"
    }
   }
  },
  {
   "cell_type": "markdown",
   "source": [
    "## 6.4 Unpacking\n",
    "In Python is het mogelijk om volledige datastructuren rechtstreeks *uit te pakken* in kleinere delen:"
   ],
   "metadata": {
    "collapsed": false
   }
  },
  {
   "cell_type": "code",
   "execution_count": null,
   "outputs": [],
   "source": [
    "myList = [1, 2, 3, 4]\n",
    "[one, two, three, four] = myList\n",
    "print('Lijst ' + str(myList) + ' bevat volgende elementen: ' + str(one) + ', ' + str(two) + ', ' + str(three) + ', ' + str(four))\n",
    "\n",
    "myTuple = (1, 2, 3, 4)\n",
    "one, two, three, four = myTuple\n",
    "print('Tuple ' + str(myTuple) + ' bevat volgende elementen: ' + str(one) + ', ' + str(two) + ', ' + str(three) + ', ' + str(four))\n",
    "\n",
    "myDict = {'one': 1, 'two': 2, 'three': 3}\n",
    "one, two, three = myDict\n",
    "print('Dict ' + str(myDict) + ' bevat volgende sleutels: ' + str(one) + ', ' + str(two) + ', ' + str(three))\n",
    "one, two, three = myDict.values()\n",
    "print('Dict ' + str(myDict) + ' bevat volgende waarden: ' + str(one) + ', ' + str(two) + ', ' + str(three))\n",
    "one, two, three = myDict.items()\n",
    "print('Dict ' + str(myDict) + ' bevat volgende sleutel-waarde paren (i.e. items): ' + str(one) + ', ' + str(two) + ', ' + str(three))"
   ],
   "metadata": {
    "collapsed": false,
    "pycharm": {
     "name": "#%%\n"
    }
   }
  },
  {
   "cell_type": "markdown",
   "source": [
    "# 7. Varia"
   ],
   "metadata": {
    "collapsed": false
   }
  },
  {
   "cell_type": "markdown",
   "source": [
    "## 7.1. Printen\n",
    "Tot nu toe hebben we steeds waarden van het type *string* geprint. Het is echter ook mogelijk om andere waarden te printen:"
   ],
   "metadata": {
    "collapsed": false
   }
  },
  {
   "cell_type": "code",
   "execution_count": null,
   "outputs": [],
   "source": [
    "print(4)\n",
    "print(2.3)\n",
    "print(False)"
   ],
   "metadata": {
    "collapsed": false,
    "pycharm": {
     "name": "#%%\n"
    }
   }
  },
  {
   "cell_type": "markdown",
   "source": [
    "Je kan de *print()* functie zelfs oproepen met meer dan één inputwaarde, de waarden worden in dat geval van elkaar gescheiden door spaties:"
   ],
   "metadata": {
    "collapsed": false
   }
  },
  {
   "cell_type": "code",
   "execution_count": null,
   "outputs": [],
   "source": [
    "print('Number:', 3)\n",
    "print('True or false?', False)\n",
    "print('Lottery winners:', 'Jeff', 'Jos', 'Marcel')"
   ],
   "metadata": {
    "collapsed": false,
    "pycharm": {
     "name": "#%%\n"
    }
   }
  },
  {
   "cell_type": "markdown",
   "source": [
    "## 7.2. Strings\n",
    "Hierboven zagen we reeds meermaals hoe verschillende waarden van het type *string* gecombineerd kunnen worden tot één grote *string* door middel van een *+* teken. Wanneer we ditzelfde proberen te bereiken met waarden van een ander type, lopen we echter tegen een probleem aan:"
   ],
   "metadata": {
    "collapsed": false
   }
  },
  {
   "cell_type": "code",
   "execution_count": null,
   "outputs": [],
   "source": [
    "print('Dit is een getal: ' + 5)"
   ],
   "metadata": {
    "collapsed": false,
    "pycharm": {
     "name": "#%%\n"
    }
   }
  },
  {
   "cell_type": "markdown",
   "source": [
    "Wanneer we een *string* opbouwen met onderdelen die al dan niet zelf van het type *string* zijn, kunnen we dit ook doen aan de hand van een *f-string*. Dit is een string, voorafgegaan door de letter *f*, waarin alle uitdrukkingen (i.e. *expressies*) tussen accolades uitgevoerd (i.e. *geëvalueerd*) worden en vervangen worden door hun respectievelijke output."
   ],
   "metadata": {
    "collapsed": false
   }
  },
  {
   "cell_type": "code",
   "execution_count": null,
   "outputs": [],
   "source": [
    "print(f'Een f-string kan alle soorten waarden voorstellen: {True}, {4}, {2.3}')\n",
    "toPrint1 = 4\n",
    "toPrint2 = 5.6\n",
    "print(f'Een f-string kan zelfs variabelen voorstellen: {toPrint1}, {toPrint2}')"
   ],
   "metadata": {
    "collapsed": false,
    "pycharm": {
     "name": "#%%\n"
    }
   }
  },
  {
   "cell_type": "markdown",
   "source": [
    "Een laatste mysterie dat nu nog dient ontrafeld te worden, is het printen van quotes. In veel gevallen kan dit probleem omzeild worden door je string te omsluiten door het andere type van quotes:"
   ],
   "metadata": {
    "collapsed": false
   }
  },
  {
   "cell_type": "code",
   "execution_count": null,
   "outputs": [],
   "source": [
    "print('Dit is \"een string\"')\n",
    "print(\"Dit is ook 'een string'\")"
   ],
   "metadata": {
    "collapsed": false,
    "pycharm": {
     "name": "#%%\n"
    }
   }
  },
  {
   "cell_type": "markdown",
   "source": [
    "Een nieuw probleem stelt zich echter wanneer je binnen één string beide types quotes wil gebruiken:"
   ],
   "metadata": {
    "collapsed": false
   }
  },
  {
   "cell_type": "code",
   "execution_count": null,
   "outputs": [],
   "source": [
    "print('Dit is \"een string\" en dit is ook 'een string'')"
   ],
   "metadata": {
    "collapsed": false,
    "pycharm": {
     "name": "#%%\n"
    }
   }
  },
  {
   "cell_type": "markdown",
   "source": [
    "We kunnen dit oplossen door gebruik te maken van een *escape karakter*. Dit is een speciaal karakter dat ervoor zorgt dat het volgende karakter niet volgens de gebruikelijke regels geëvalueerd wordt. In geval van *strings* is de *\\\\* (i.e. *backslash*) het *escape karakter* bij uitstek. Hieronder wordt het karakter na de *backslash* telkens als een letterlijke quote geëvalueerd en niet als het begin en/of einde van een string."
   ],
   "metadata": {
    "collapsed": false
   }
  },
  {
   "cell_type": "code",
   "execution_count": null,
   "outputs": [],
   "source": [
    "print('Dit is \"een string\" en dit is ook \\'een string\\'')\n",
    "print(\"Dit is \\\"een string\\\" en dit is ook 'een string'\")"
   ],
   "metadata": {
    "collapsed": false,
    "pycharm": {
     "name": "#%%\n"
    }
   }
  },
  {
   "cell_type": "markdown",
   "source": [
    "We kunnen ook letters laten voorafgaan door een *escape karakter*, in dat geval krijgen die eveneens een speciale betekenis. Een *\\n* betekent bijvoorbeeld dat er op die plaats een nieuwe lijn wordt ingevoerd."
   ],
   "metadata": {
    "collapsed": false
   }
  },
  {
   "cell_type": "code",
   "execution_count": null,
   "outputs": [],
   "source": [
    "print('First line\\nSecond line\\nThird line')"
   ],
   "metadata": {
    "collapsed": false,
    "pycharm": {
     "name": "#%%\n"
    }
   }
  },
  {
   "cell_type": "markdown",
   "source": [
    "## 7.3. Toewijzingsoperatoren\n",
    "Naast de besproken operatoren, biedt Python ook varianten aan waarbij de waarde van het resultaat meteen toegewezen wordt aan de oorspronkelijke variabele:"
   ],
   "metadata": {
    "collapsed": false
   }
  },
  {
   "cell_type": "code",
   "execution_count": null,
   "outputs": [],
   "source": [
    "number = 0\n",
    "print(f'Number: {number}')\n",
    "number += 20\n",
    "print(f'+ 20 = {number}')\n",
    "number -= 3\n",
    "print(f'- 3 = {number}')\n",
    "number %= 10\n",
    "print(f'% 10 = {number}')\n",
    "number /= 2\n",
    "print(f'/ 2 = {number}')\n",
    "number //= 2\n",
    "print(f'// 2 = {number}')"
   ],
   "metadata": {
    "collapsed": false,
    "pycharm": {
     "name": "#%%\n"
    }
   }
  },
  {
   "cell_type": "markdown",
   "source": [
    "## 7.4. Niets doen\n",
    "Wanneer je een regel code wil schrijven die compleet niets doet, kan je gebruik maken van *pass*. Dit commando zorgt ervoor dat je regel code opgevuld wordt, maar er toch niets uitgevoerd/geëvalueerd wordt. Dit is vooral handig bij het definiëren van lege functies (vb. om later nog op te vullen)."
   ],
   "metadata": {
    "collapsed": false
   }
  },
  {
   "cell_type": "code",
   "execution_count": null,
   "outputs": [],
   "source": [
    "pass # deze regel code doet niets\n",
    "\n",
    "def doNothing(): # deze functie doet niets\n",
    "    pass\n",
    "\n",
    "doNothing()"
   ],
   "metadata": {
    "collapsed": false,
    "pycharm": {
     "name": "#%%\n"
    }
   }
  },
  {
   "cell_type": "markdown",
   "source": [
    "Merk op dat een functiedefinitie steeds code moet bevatten, zelfs wanneer je wil dat de functie niets doet. Hier is *pass* dus de enige oplossing."
   ],
   "metadata": {
    "collapsed": false
   }
  },
  {
   "cell_type": "code",
   "execution_count": null,
   "outputs": [],
   "source": [
    "def doNothing():\n",
    "\n",
    "doNothing()"
   ],
   "metadata": {
    "collapsed": false,
    "pycharm": {
     "name": "#%%\n"
    }
   }
  },
  {
   "cell_type": "markdown",
   "metadata": {},
   "source": [
    "# 8. Oefeningen"
   ]
  },
  {
   "cell_type": "markdown",
   "source": [
    "## 8.1. Rekenmachine\n",
    "Schrijf voor elk van de 4 elementaire wiskundige bewerkingen (+, -, *, /) een functie die die bewerking uitvoert op twee getallen. De oproeper van de functie beslist met welke twee getallen er gerekend zal worden en ontvangt achteraf ook het resultaat van de onderliggende bewerking."
   ],
   "metadata": {
    "collapsed": false
   }
  },
  {
   "cell_type": "code",
   "execution_count": null,
   "outputs": [],
   "source": [
    "def som():\n",
    "    pass\n",
    "\n",
    "def verschil():\n",
    "    pass\n",
    "\n",
    "def product():\n",
    "    pass\n",
    "\n",
    "def deling():\n",
    "    pass"
   ],
   "metadata": {
    "collapsed": false,
    "pycharm": {
     "name": "#%%\n"
    }
   }
  },
  {
   "cell_type": "markdown",
   "source": [
    "## 8.2. BTW\n",
    "Schrijf een functie die de BTW (21%) berekent op de ingegeven prijs en deze teruggeeft aan de oproeper."
   ],
   "metadata": {
    "collapsed": false
   }
  },
  {
   "cell_type": "code",
   "execution_count": null,
   "outputs": [],
   "source": [
    "def calculateTVA(price):\n",
    "    pass"
   ],
   "metadata": {
    "collapsed": false,
    "pycharm": {
     "name": "#%%\n"
    }
   }
  },
  {
   "cell_type": "markdown",
   "source": [
    "## 8.3. Fibonacci\n",
    "Schrijf een functie die je een lijst teruggeeft van de eerste n waarden in de [rij van Fibonacci](https://nl.wikipedia.org/wiki/Rij_van_Fibonacci), waarbij het getal n als input meegegeven wordt aan de functie."
   ],
   "metadata": {
    "collapsed": false
   }
  },
  {
   "cell_type": "code",
   "execution_count": null,
   "outputs": [],
   "source": [
    "def fibonacci(n):\n",
    "    pass"
   ],
   "metadata": {
    "collapsed": false,
    "pycharm": {
     "name": "#%%\n"
    }
   }
  },
  {
   "cell_type": "markdown",
   "source": [
    "Bronnen:\n",
    "- [WikiBooks](https://nl.wikibooks.org/wiki/Programmeren_in_Python)"
   ],
   "metadata": {
    "collapsed": false
   }
  }
 ],
 "metadata": {
  "kernelspec": {
   "display_name": "Python 3",
   "language": "python",
   "name": "python3"
  },
  "language_info": {
   "codemirror_mode": {
    "name": "ipython",
    "version": 3
   },
   "file_extension": ".py",
   "mimetype": "text/x-python",
   "name": "python",
   "nbconvert_exporter": "python",
   "pygments_lexer": "ipython3",
   "version": "3.8.5"
  }
 },
 "nbformat": 4,
 "nbformat_minor": 1
}