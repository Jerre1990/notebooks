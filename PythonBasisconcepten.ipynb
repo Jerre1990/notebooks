{
 "cells": [
  {
   "cell_type": "markdown",
   "metadata": {
    "collapsed": true,
    "pycharm": {
     "name": "#%% md\n"
    }
   },
   "source": [
    "# 1. Datatypes\n",
    "Gegevens zijn in een programma altijd van een bepaald type. Deze onderverdeling in verschillende types is noodzakelijk voor een programma om te weten welke bewerkingen op specifieke gegevens kunnen worden uitgevoerd. Wanneer we bijvoorbeeld een rekenkundige som willen uitrekenen, hebben we hiervoor minstens twee gegevens nodig van het type cijfer:"
   ]
  },
  {
   "cell_type": "code",
   "execution_count": 15,
   "metadata": {
    "pycharm": {
     "name": "#%%\n"
    }
   },
   "outputs": [
    {
     "data": {
      "text/plain": "11"
     },
     "execution_count": 15,
     "metadata": {},
     "output_type": "execute_result"
    }
   ],
   "source": [
    "3 + 8"
   ]
  },
  {
   "cell_type": "markdown",
   "metadata": {},
   "source": [
    "Het resultaat van deze bewerking verandert volledig wanneer één van de twee gegevens geen cijfer is. Stel dat de tweede operand bijvoorbeeld een stukje tekst is, dan wordt de bewerking zelfs onmogelijk:"
   ]
  },
  {
   "cell_type": "code",
   "execution_count": 16,
   "metadata": {
    "pycharm": {
     "name": "#%%\n"
    }
   },
   "outputs": [
    {
     "ename": "TypeError",
     "evalue": "unsupported operand type(s) for +: 'int' and 'str'",
     "output_type": "error",
     "traceback": [
      "\u001B[1;31m---------------------------------------------------------------------------\u001B[0m",
      "\u001B[1;31mTypeError\u001B[0m                                 Traceback (most recent call last)",
      "\u001B[1;32m<ipython-input-16-add39582e469>\u001B[0m in \u001B[0;36m<module>\u001B[1;34m\u001B[0m\n\u001B[1;32m----> 1\u001B[1;33m \u001B[1;36m3\u001B[0m \u001B[1;33m+\u001B[0m \u001B[1;34m'dit is een stukje tekst'\u001B[0m\u001B[1;33m\u001B[0m\u001B[1;33m\u001B[0m\u001B[0m\n\u001B[0m",
      "\u001B[1;31mTypeError\u001B[0m: unsupported operand type(s) for +: 'int' and 'str'"
     ]
    }
   ],
   "source": [
    "3 + 'dit is een stukje tekst'"
   ]
  },
  {
   "cell_type": "markdown",
   "metadata": {},
   "source": [
    "Over het algemeen kunnen we in de meeste programmeertalen volgende ruwe onderverdeling in datatypes terugvinden:\n",
    "- Gehele getallen\n",
    "- Kommagetallen\n",
    "- Tekst\n",
    "- Booleaanse waarden (waar of niet waar)\n",
    "- Niets (wanneer je iets wil voorstellen dat geen enkele waarde heeft)"
   ]
  },
  {
   "cell_type": "markdown",
   "metadata": {},
   "source": [
    "In Python stellen we deze datatypes als volgt voor:"
   ]
  },
  {
   "cell_type": "code",
   "execution_count": null,
   "metadata": {
    "pycharm": {
     "name": "#%%\n"
    }
   },
   "outputs": [],
   "source": [
    "# Gehele getallen\n",
    "-40\n",
    "-3\n",
    "0\n",
    "7\n",
    "223\n",
    "# Kommagetallen\n",
    "-9.2\n",
    "3.9\n",
    "5.6\n",
    "# Tekst\n",
    "'Hello world'\n",
    "\"Hi there, world\"\n",
    "# Booleaanse waarden\n",
    "True\n",
    "False\n",
    "# Niets\n",
    "None"
   ]
  },
  {
   "cell_type": "markdown",
   "metadata": {},
   "source": [
    "Python laat ons toe om het type van een bepaald stukje data op te vragen, zodat we steeds kunnen achterhalen met welk datatype we te maken hebben:"
   ]
  },
  {
   "cell_type": "code",
   "execution_count": 22,
   "metadata": {
    "pycharm": {
     "name": "#%%\n"
    }
   },
   "outputs": [
    {
     "name": "stdout",
     "output_type": "stream",
     "text": [
      "<class 'int'>\n",
      "<class 'float'>\n",
      "<class 'str'>\n",
      "<class 'bool'>\n",
      "<class 'NoneType'>\n"
     ]
    }
   ],
   "source": [
    "print(type(-40))\n",
    "print(type(-9.2))\n",
    "print(type('Hello world'))\n",
    "print(type(True))\n",
    "print(type(None))"
   ]
  },
  {
   "cell_type": "markdown",
   "metadata": {},
   "source": [
    "In het voorbeeld hierboven maken we gebruik van de functies *print()* en *type()*. [Verderop](#Functies) zal worden uitgelegd wat functies juist zijn en hoe we er gebruik van kunnen maken in onze programma's."
   ]
  },
  {
   "cell_type": "markdown",
   "metadata": {
    "pycharm": {
     "name": "#%% md\n"
    }
   },
   "source": [
    "# 2. Variabelen\n",
    "Wanneer we in ons programma werken met bepaalde gegevens, worden die zelden meteen verwerkt zonder tussentijdse opslag. Dit zou immers tot gevolg hebben dat onze code minder leesbaar wordt. Een voorbeeld van hoe het dus **NIET** moet:"
   ]
  },
  {
   "cell_type": "code",
   "execution_count": null,
   "metadata": {
    "pycharm": {
     "name": "#%%\n"
    }
   },
   "outputs": [],
   "source": [
    "((18 / 20 * 6) + (12 / 20 * 3)) / (6 + 3) * 100"
   ]
  },
  {
   "cell_type": "markdown",
   "metadata": {},
   "source": [
    "Om beter te begrijpen wat we hier juist willen bereiken, slaan we sommige gegevens tijdelijk op in **variabelen**. Een variabele is dus een tijdelijke opslagplaats voor een gegeven waarde. Nadien kunnen we deze variabelen in onze code gebruiken alsof het de gegevens zelf zijn:"
   ]
  },
  {
   "cell_type": "code",
   "execution_count": null,
   "metadata": {
    "pycharm": {
     "name": "#%%\n"
    }
   },
   "outputs": [],
   "source": [
    "maxGrade = 20\n",
    "\n",
    "grade1 = 18\n",
    "weight1 = 6\n",
    "\n",
    "grade2 = 12\n",
    "weight2 = 3\n",
    "\n",
    "weightedGrade1 = grade1 / maxGrade * weight1\n",
    "weightedGrade2 = grade2 / maxGrade * weight2\n",
    "totalWeight = weight1 + weight2\n",
    "(weightedGrade1 + weightedGrade2) / totalWeight * 100"
   ]
  },
  {
   "cell_type": "markdown",
   "metadata": {},
   "source": [
    "Dankzij de naamgeving en indeling van de variabelen is het nu duidelijk dat bovenstaand stukje code het totale gewogen percentage van twee beoordelingscijfers berekent."
   ]
  },
  {
   "cell_type": "markdown",
   "metadata": {},
   "source": [
    "Het gebruik van variabelen brengt enkele belangrijke voordelen met zich mee:\n",
    "- **Leesbaarheid**<br>Een andere programmeur kan zonder al te veel moeite uit je code afleiden wat je programma juist doet.\n",
    "- **Aanpasbaarheid**<br>Wanneer er aanpassingen doorgevoerd dienen te worden, hoeft dit slechts op een beperkt aantal plaatsen te gebeuren. Wanneer er bijvoorbeeld beslist zou worden om het gewicht van het eerste vak op te krikken van 6 naar 9 studiepunten, dient enkel de waarde van de variabele *weight1* aangepast te worden."
   ]
  },
  {
   "cell_type": "markdown",
   "metadata": {},
   "source": [
    "Een variabele kan elk soort waarde bijhouden:"
   ]
  },
  {
   "cell_type": "code",
   "execution_count": null,
   "metadata": {
    "pycharm": {
     "name": "#%%\n"
    }
   },
   "outputs": [],
   "source": [
    "mySingleQuotedString = 'In Python kan je een string omsluiten met enkele quotes...'\n",
    "myDoubleQuotedString = \"...maar ook met dubbele quotes.\"\n",
    "myMultilineString = '''Je kan er zelfs voor zorgen...\n",
    "...dat je string op een andere lijn verder gaat'''\n",
    "myInt = 2\n",
    "myFloat = 3.4\n",
    "myBool = False\n",
    "myNull = None"
   ]
  },
  {
   "cell_type": "markdown",
   "metadata": {},
   "source": [
    "Een variabele is niet gebonden aan één enkele waarde. De waarde binnenin een variabele kan variëren, vandaar ook de naam. In Python is het zelfs zo dat een variabele niet gebonden is aan één enkel datatype."
   ]
  },
  {
   "cell_type": "code",
   "execution_count": null,
   "metadata": {
    "pycharm": {
     "name": "#%%\n"
    }
   },
   "outputs": [],
   "source": [
    "myInt = 2\n",
    "myInt = 4\n",
    "myVar = 2\n",
    "myVar = False\n",
    "myVar = 'Stukje tekst'"
   ]
  },
  {
   "cell_type": "markdown",
   "metadata": {},
   "source": [
    "# 3. Functies\n",
    "Daar waar variabelen leesbaarheid en aanpasbaarheid van code in de hand werken, helpen functies om je code **herbruikbaar** te maken. Een functie is namelijk een afgezonderd stukje code dat meerdere keren uitgevoerd kan worden: code die je hergebruikt, hoef je dus maar één keer te schrijven."
   ]
  },
  {
   "cell_type": "code",
   "execution_count": null,
   "metadata": {
    "pycharm": {
     "name": "#%%\n"
    }
   },
   "outputs": [],
   "source": [
    "def printHelloWorldAndPeople():\n",
    "    print('Hello world!')\n",
    "    print('Hello people!')\n",
    "    print('---------')"
   ]
  },
  {
   "cell_type": "markdown",
   "metadata": {},
   "source": [
    "In bovenstaand stukje code maken we de *printHelloWorldAndPeople()* functie aan: deze definieert drie lijnen code die elk een stukje tekst printen. Er wordt echter nog niets geprint: de regels code binnenin een functie worden pas uitgevoerd wanneer de functie opgeroepen wordt."
   ]
  },
  {
   "cell_type": "markdown",
   "metadata": {},
   "source": [
    "**Merk op dat indentatie (i.e. inspringing) van cruciaal belang is in een Python programma:** op die manier wordt immers aangeduid wanneer een functiedefinitie eindigt en het normale (i.e. sequentiële) verloop van je code weer opgepikt wordt. Later zal blijken dat indentatie ook voor [controlestructuren](#Controlestructuren) een belangrijke rol speelt."
   ]
  },
  {
   "cell_type": "code",
   "execution_count": null,
   "metadata": {
    "pycharm": {
     "name": "#%%\n"
    }
   },
   "outputs": [],
   "source": [
    "printHelloWorldAndPeople()"
   ]
  },
  {
   "cell_type": "markdown",
   "metadata": {},
   "source": [
    "Wanneer we nu, zoals hierboven, onze functie oproepen, worden alle lijnen code die deel uitmaken van de functiedefinitie uitgevoerd. Op deze manier wordt het eenvoudig om volledige blokken code (i.e. wat zich binnen de functiedefinitie bevindt) meerdere keren uit te voeren:"
   ]
  },
  {
   "cell_type": "code",
   "execution_count": null,
   "metadata": {
    "pycharm": {
     "name": "#%%\n"
    }
   },
   "outputs": [],
   "source": [
    "printHelloWorldAndPeople()\n",
    "printHelloWorldAndPeople()\n",
    "printHelloWorldAndPeople()"
   ]
  },
  {
   "cell_type": "markdown",
   "source": [
    "## 3.1. Input\n",
    "Net als bij de ingebouwde *print()* functie, kan ook onze eigen functie **input** ontvangen. Deze gegevens kunnen vervolgens verder verwerkt worden binnen de functiedefinitie:"
   ],
   "metadata": {
    "collapsed": false
   }
  },
  {
   "cell_type": "code",
   "execution_count": 18,
   "outputs": [
    {
     "name": "stdout",
     "output_type": "stream",
     "text": [
      "Hello, Jos!\n",
      "Hello, Jeff!\n"
     ]
    }
   ],
   "source": [
    "def printGreeting(name):\n",
    "    greeting = 'Hello, ' + name + '!'\n",
    "    print(greeting)\n",
    "\n",
    "printGreeting('Jos')\n",
    "printGreeting('Jeff')"
   ],
   "metadata": {
    "collapsed": false,
    "pycharm": {
     "name": "#%%\n"
    }
   }
  },
  {
   "cell_type": "markdown",
   "source": [
    "Merk op dat enkel de referentie naar het object wordt meegegeven als input aan de functie. Deze referentie blijft ongewijzigd door de functie-aanroep, wat tot gevolg heeft dat ook *immutable* (i.e. niet-muteerbare) objecten (zoals *int*, *float*, *str*, *bool*) geen blijvende wijzigingen kunnen ondergaan wanneer zij deel uitmaken van de argumentenlijst van een functie. Tijdelijke wijzigingen binnenin de functie zelf hebben wel effect."
   ],
   "metadata": {
    "collapsed": false
   }
  },
  {
   "cell_type": "code",
   "execution_count": 25,
   "outputs": [
    {
     "name": "stdout",
     "output_type": "stream",
     "text": [
      "Jos\n",
      "Inside function: Jeff\n",
      "Jos\n"
     ]
    }
   ],
   "source": [
    "def changeName(name):\n",
    "    name = 'Jeff'\n",
    "    print('Inside function: ' + name)\n",
    "\n",
    "myName = 'Jos'\n",
    "print(myName)\n",
    "changeName(myName)\n",
    "print(myName)"
   ],
   "metadata": {
    "collapsed": false,
    "pycharm": {
     "name": "#%%\n"
    }
   }
  },
  {
   "cell_type": "markdown",
   "metadata": {},
   "source": [
    "## 3.2. Output\n",
    "Net als bij de ingebouwde *type()* functie, kan ook onze eigen functie **output** genereren met behulp van de *return* statement. Deze gegevens kunnen vervolgens opgevangen (en eventueel verder verwerkt) worden door het stukje code dat de functie oproept. We grijpen ter illustratie even terug naar het voorbeeld van de beoordelingscijfers:"
   ]
  },
  {
   "cell_type": "code",
   "execution_count": 20,
   "outputs": [
    {
     "name": "stdout",
     "output_type": "stream",
     "text": [
      "80.0\n"
     ]
    }
   ],
   "source": [
    "maxGrade = 20\n",
    "\n",
    "grade1 = 18\n",
    "weight1 = 6\n",
    "\n",
    "grade2 = 12\n",
    "weight2 = 3\n",
    "\n",
    "def calculateWeightedGrade(grade, weight):\n",
    "    return grade / maxGrade * weight\n",
    "\n",
    "def calculateTotalWeight(weight1, weight2):\n",
    "    return weight1 + weight2\n",
    "\n",
    "def calculateWeightedPercentage(grade1, weight1, grade2, weight2):\n",
    "    weightedGrade1 = calculateWeightedGrade(grade1, weight1)\n",
    "    weightedGrade2 = calculateWeightedGrade(grade2, weight2)\n",
    "    totalWeight = calculateTotalWeight(weight1, weight2)\n",
    "    return (weightedGrade1 + weightedGrade2) / totalWeight * 100\n",
    "\n",
    "weightedPercentage = calculateWeightedPercentage(grade1, weight1, grade2, weight2)\n",
    "print(weightedPercentage)"
   ],
   "metadata": {
    "collapsed": false,
    "pycharm": {
     "name": "#%%\n"
    }
   }
  },
  {
   "cell_type": "markdown",
   "source": [
    "## 3.3. Scope\n",
    "De scope van variabelen speelt een belangrijke rol bij het gebruik van functies. De scope van een variabele kan gezien worden als dat deel van de code waarin de variabele effectief gebruikt kan worden. Dit verschilt afhankelijk van de plaats waar deze variabele wordt aangemaakt:"
   ],
   "metadata": {
    "collapsed": false
   }
  },
  {
   "cell_type": "code",
   "execution_count": 21,
   "outputs": [
    {
     "name": "stdout",
     "output_type": "stream",
     "text": [
      "global\n",
      "function argument\n",
      "inside function\n",
      "global\n"
     ]
    }
   ],
   "source": [
    "scope1 = 'global'\n",
    "\n",
    "def doSomething(scope2):\n",
    "    scope3 = 'inside function'\n",
    "    print(scope1)\n",
    "    print(scope2)\n",
    "    print(scope3)\n",
    "\n",
    "doSomething('function argument')\n",
    "\n",
    "print(scope1)"
   ],
   "metadata": {
    "collapsed": false,
    "pycharm": {
     "name": "#%%\n"
    }
   }
  },
  {
   "cell_type": "markdown",
   "source": [
    "Bovenstaand voorbeeld maakt duidelijk dat de globale scope de meest omvangrijke is. Een variabele die op dit niveau wordt aangemaakt, is overal beschikbaar. Variabelen die functies binnensluipen als argumenten, krijgen de scope van die functie toegewezen en kunnen dus enkel binnen diezelfde functie gebruikt worden. Hetzelfde geldt voor variabelen die binnen een functiedefinitie aangemaakt worden. Probeer zelf maar eens om de waarden van de variabelen *scope2* en *scope3* buiten hun functie te printen."
   ],
   "metadata": {
    "collapsed": false
   }
  },
  {
   "cell_type": "markdown",
   "source": [
    "Het hele scope verhaal wordt nòg interessanter wanneer variabelen elkaar gaan overschaduwen: dit fenomeen treedt op wanneer variabelen van verschillende scope dezelfde naam toegewezen krijgen. Het is zo soms niet meteen duidelijk welke waarde een variabele nu precies heeft, omdat ze elkaars waarden kunnen overnemen in bepaalde gevallen."
   ],
   "metadata": {
    "collapsed": false
   }
  },
  {
   "cell_type": "code",
   "execution_count": 31,
   "outputs": [
    {
     "name": "stdout",
     "output_type": "stream",
     "text": [
      "Inside function 1: argument\n",
      "Inside function 2: inside function\n",
      "Inside function 3: inside function\n",
      "Inside function 4: inside function\n",
      "Inside function 5: inside function\n",
      "Outside function 1: global\n",
      "Outside function 2: global\n",
      "Outside function 4: global\n",
      "Outside function 5: inside function\n"
     ]
    }
   ],
   "source": [
    "scope1 = 'global'\n",
    "scope2 = 'global'\n",
    "scope4 = 'global'\n",
    "scope5 = 'global'\n",
    "\n",
    "def doSomething(scope1, scope2, scope3):\n",
    "    global scope5\n",
    "    scope2 = 'inside function'\n",
    "    scope3 = 'inside function'\n",
    "    scope4 = 'inside function'\n",
    "    scope5 = 'inside function'\n",
    "    print('Inside function 1: ' + scope1)\n",
    "    print('Inside function 2: ' + scope2)\n",
    "    print('Inside function 3: ' + scope3)\n",
    "    print('Inside function 4: ' + scope4)\n",
    "    print('Inside function 5: ' + scope5)\n",
    "\n",
    "doSomething('argument', 'argument', 'argument')\n",
    "print('Outside function 1: ' + scope1)\n",
    "print('Outside function 2: ' + scope2)\n",
    "print('Outside function 4: ' + scope4)\n",
    "print('Outside function 5: ' + scope5)"
   ],
   "metadata": {
    "collapsed": false,
    "pycharm": {
     "name": "#%%\n"
    }
   }
  },
  {
   "cell_type": "markdown",
   "source": [
    "Door in bovenstaand voorbeeld het *global* sleutelwoord te gebruiken, wordt binnenin de *doSomething()* functie expliciet een globale scope toegekend aan de variabele *scope5*. Zo is de functie toch in staat om de waarde van deze variabele te wijzigen. Voor de variabele *scope4* is dit niet mogelijk, aangezien daar het *global* sleutelwoord ontbreekt."
   ],
   "metadata": {
    "collapsed": false
   }
  },
  {
   "cell_type": "markdown",
   "metadata": {
    "pycharm": {
     "name": "#%% md\n"
    }
   },
   "source": [
    "# 4. Datastructuren\n",
    "Naast primitieve [datatypes](#Datatypes) voorzien de meeste programmeertalen ook de mogelijkheid om data te aggregeren op een gestructureerde manier. In Python zijn de bekendste vormen hiervan een lijst, dictionary, tuple en set. Wanneer een datastructuur een andere datastructuur van hetzelfde type bevat, spreekt men over een *geneste* lijst/dictionary/tuple/set."
   ]
  },
  {
   "cell_type": "markdown",
   "source": [
    "## 4.1 Lijst"
   ],
   "metadata": {
    "collapsed": false
   }
  },
  {
   "cell_type": "markdown",
   "source": [
    "Een lijst is een verzameling van waarden die niet noodzakelijk van hetzelfde type hoeven te zijn."
   ],
   "metadata": {
    "collapsed": false
   }
  },
  {
   "cell_type": "code",
   "execution_count": null,
   "outputs": [],
   "source": [
    "myEmptyList = []\n",
    "myIntList = [1, 3, 5, 7]\n",
    "myStrList = ['one', 'three', 'five', 'seven']\n",
    "myFloatList = [4.3, 9.7, 3.0]\n",
    "myMixedList = [False, 'Hi there', 8, 2.34, None, [1, 'Yes', True, 8.8]]"
   ],
   "metadata": {
    "collapsed": false,
    "pycharm": {
     "name": "#%%\n"
    }
   }
  },
  {
   "cell_type": "markdown",
   "source": [
    "## 4.2 Dictionary"
   ],
   "metadata": {
    "collapsed": false
   }
  },
  {
   "cell_type": "markdown",
   "source": [
    "Een dictionary is een verzameling van sleutel-waarde paren die opnieuw niet noodzakelijk van hetzelfde type hoeven te zijn."
   ],
   "metadata": {
    "collapsed": false
   }
  },
  {
   "cell_type": "code",
   "execution_count": null,
   "outputs": [],
   "source": [
    "myEmptyDict = {}\n",
    "myStrIntDict = {'one': 1, 'two': 2, 'three': 3}\n",
    "myIntStrDict = {1: 'one', 2: 'two', 3: 'three'}\n",
    "myMixedDict = {1.1: 'float', True: 4}\n",
    "myNestedDict = {'dict1': myStrIntDict, 'dict2': myIntStrDict, 'dict3': myMixedDict}"
   ],
   "metadata": {
    "collapsed": false,
    "pycharm": {
     "name": "#%%\n"
    }
   }
  },
  {
   "cell_type": "markdown",
   "source": [
    "## 4.3 Tuple"
   ],
   "metadata": {
    "collapsed": false
   }
  },
  {
   "cell_type": "markdown",
   "source": [
    "Een tuple is een verzameling van waarden die niet noodzakelijk van hetzelfde type hoeven te zijn, net als een lijst. Het grote verschil is dat een lijst aangepast kan worden en een tuple niet: zodra een tuple is aangemaakt, kan die niet meer gewijzigd worden."
   ],
   "metadata": {
    "collapsed": false
   }
  },
  {
   "cell_type": "code",
   "execution_count": null,
   "outputs": [],
   "source": [],
   "metadata": {
    "collapsed": false,
    "pycharm": {
     "name": "#%%\n"
    }
   }
  },
  {
   "cell_type": "markdown",
   "source": [
    "## 4.4 Set"
   ],
   "metadata": {
    "collapsed": false
   }
  },
  {
   "cell_type": "markdown",
   "source": [],
   "metadata": {
    "collapsed": false
   }
  },
  {
   "cell_type": "code",
   "execution_count": null,
   "metadata": {
    "pycharm": {
     "name": "#%%\n"
    }
   },
   "outputs": [],
   "source": []
  },
  {
   "cell_type": "markdown",
   "metadata": {},
   "source": [
    "# 5. Controlestructuren"
   ]
  },
  {
   "cell_type": "markdown",
   "source": [
    "Bronnen:\n",
    "- https://nl.wikibooks.org/wiki/Programmeren_in_Python"
   ],
   "metadata": {
    "collapsed": false
   }
  }
 ],
 "metadata": {
  "kernelspec": {
   "display_name": "Python 3",
   "language": "python",
   "name": "python3"
  },
  "language_info": {
   "codemirror_mode": {
    "name": "ipython",
    "version": 3
   },
   "file_extension": ".py",
   "mimetype": "text/x-python",
   "name": "python",
   "nbconvert_exporter": "python",
   "pygments_lexer": "ipython3",
   "version": "3.8.5"
  }
 },
 "nbformat": 4,
 "nbformat_minor": 1
}